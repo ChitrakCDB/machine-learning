{
  "nbformat": 4,
  "nbformat_minor": 0,
  "metadata": {
    "colab": {
      "name": "CNN_Basic.ipynb",
      "provenance": [],
      "authorship_tag": "ABX9TyOVAPv7tKvljMLzwhZhmqXY",
      "include_colab_link": true
    },
    "kernelspec": {
      "name": "python3",
      "display_name": "Python 3"
    },
    "language_info": {
      "name": "python"
    }
  },
  "cells": [
    {
      "cell_type": "markdown",
      "metadata": {
        "id": "view-in-github",
        "colab_type": "text"
      },
      "source": [
        "<a href=\"https://colab.research.google.com/github/KiranTanwani/Machine-Learning/blob/main/CNN_Basic.ipynb\" target=\"_parent\"><img src=\"https://colab.research.google.com/assets/colab-badge.svg\" alt=\"Open In Colab\"/></a>"
      ]
    },
    {
      "cell_type": "code",
      "metadata": {
        "id": "zREqA9IGDCEh"
      },
      "source": [
        "import numpy as np  #helps in mathematical operations\n",
        "import numpy.random as nr  #helps generate random number\n",
        "import matplotlib.pyplot as plt  #helps in plotting of graph\n",
        "import keras \n",
        "from keras.datasets import mnist  #getting the dataset\n",
        "import keras.utils.np_utils as ku\n",
        "import keras.models as models\n",
        "import keras.layers as layers\n",
        "from keras import regularizers\n",
        "from keras.layers import Dropout\n",
        "#from keras.optimizers import rmsprop, Adam\n",
        "from keras.utils import to_categorical"
      ],
      "execution_count": 1,
      "outputs": []
    },
    {
      "cell_type": "code",
      "metadata": {
        "id": "TSbPG_GGDJEk"
      },
      "source": [
        "%matplotlib inline"
      ],
      "execution_count": 2,
      "outputs": []
    },
    {
      "cell_type": "code",
      "metadata": {
        "id": "U4dilqBxDcu4"
      },
      "source": [
        "import tensorflow as tf"
      ],
      "execution_count": 3,
      "outputs": []
    },
    {
      "cell_type": "code",
      "metadata": {
        "id": "_kkGS9ncDfCI"
      },
      "source": [
        "from tensorflow.keras.models import Sequential\n",
        "from tensorflow.keras.layers import Dense, Dropout, Activation, Flatten\n",
        "from tensorflow.keras.layers import Conv2D"
      ],
      "execution_count": 4,
      "outputs": []
    },
    {
      "cell_type": "code",
      "metadata": {
        "colab": {
          "base_uri": "https://localhost:8080/"
        },
        "id": "qeTPf_mjDg0l",
        "outputId": "2a4b8acf-9bb9-445c-82e1-013689311840"
      },
      "source": [
        "print(keras.__version__)"
      ],
      "execution_count": 5,
      "outputs": [
        {
          "output_type": "stream",
          "text": [
            "2.4.3\n"
          ],
          "name": "stdout"
        }
      ]
    },
    {
      "cell_type": "code",
      "metadata": {
        "colab": {
          "base_uri": "https://localhost:8080/"
        },
        "id": "pajx1HBlDiv6",
        "outputId": "bb5adf27-0bda-4d29-b4d0-299e18c39596"
      },
      "source": [
        "#Loading the fashion mnist dataset from keras\n",
        "from keras.datasets import fashion_mnist\n",
        "(train_X,train_Y), (test_X,test_Y) = fashion_mnist.load_data()"
      ],
      "execution_count": 6,
      "outputs": [
        {
          "output_type": "stream",
          "text": [
            "Downloading data from https://storage.googleapis.com/tensorflow/tf-keras-datasets/train-labels-idx1-ubyte.gz\n",
            "32768/29515 [=================================] - 0s 0us/step\n",
            "Downloading data from https://storage.googleapis.com/tensorflow/tf-keras-datasets/train-images-idx3-ubyte.gz\n",
            "26427392/26421880 [==============================] - 0s 0us/step\n",
            "Downloading data from https://storage.googleapis.com/tensorflow/tf-keras-datasets/t10k-labels-idx1-ubyte.gz\n",
            "8192/5148 [===============================================] - 0s 0us/step\n",
            "Downloading data from https://storage.googleapis.com/tensorflow/tf-keras-datasets/t10k-images-idx3-ubyte.gz\n",
            "4423680/4422102 [==============================] - 0s 0us/step\n"
          ],
          "name": "stdout"
        }
      ]
    },
    {
      "cell_type": "code",
      "metadata": {
        "colab": {
          "base_uri": "https://localhost:8080/",
          "height": 282
        },
        "id": "p646ANJ-DpIT",
        "outputId": "39317ce8-b2c2-4114-fb20-95bc6a0fb990"
      },
      "source": [
        "plt.imshow(train_X[0])\n",
        "print(train_Y[0])\n"
      ],
      "execution_count": 7,
      "outputs": [
        {
          "output_type": "stream",
          "text": [
            "9\n"
          ],
          "name": "stdout"
        },
        {
          "output_type": "display_data",
          "data": {
            "image/png": "[encoded data removed]",
            "text/plain": [
              "<Figure size 432x288 with 1 Axes>"
            ]
          },
          "metadata": {
            "tags": [],
            "needs_background": "light"
          }
        }
      ]
    },
    {
      "cell_type": "code",
      "metadata": {
        "colab": {
          "base_uri": "https://localhost:8080/"
        },
        "id": "Y4Zk1smgDsm2",
        "outputId": "d4fd4d73-6a89-4e85-8252-95a4e3a50447"
      },
      "source": [
        "print('Training data shape : ', train_X.shape, train_Y.shape)\n",
        "\n",
        "print('Testing data shape : ', test_X.shape, test_Y.shape)"
      ],
      "execution_count": 8,
      "outputs": [
        {
          "output_type": "stream",
          "text": [
            "Training data shape :  (60000, 28, 28) (60000,)\n",
            "Testing data shape :  (10000, 28, 28) (10000,)\n"
          ],
          "name": "stdout"
        }
      ]
    },
    {
      "cell_type": "code",
      "metadata": {
        "colab": {
          "base_uri": "https://localhost:8080/"
        },
        "id": "TKXO2qN8Dux3",
        "outputId": "8d9b7b33-47bd-4148-c2ab-1f026cd844c3"
      },
      "source": [
        "#Getting the classification classes\n",
        "classes = np.unique(train_Y)\n",
        "nClasses = len(classes)\n",
        "print('Total number of outputs : ', nClasses)\n",
        "print('Output classes : ', classes)"
      ],
      "execution_count": 9,
      "outputs": [
        {
          "output_type": "stream",
          "text": [
            "Total number of outputs :  10\n",
            "Output classes :  [0 1 2 3 4 5 6 7 8 9]\n"
          ],
          "name": "stdout"
        }
      ]
    },
    {
      "cell_type": "code",
      "metadata": {
        "colab": {
          "base_uri": "https://localhost:8080/",
          "height": 208
        },
        "id": "q6krfOZMDxAz",
        "outputId": "c2e8a002-c37b-4a51-fef3-e14ca9d3c998"
      },
      "source": [
        "plt.figure(figsize=[5,5])\n",
        "\n",
        "# Display the first image in training data\n",
        "plt.subplot(121)\n",
        "plt.imshow(train_X[0,:,:], cmap='gray')\n",
        "plt.title(\"Ground Truth : {}\".format(train_Y[0]))\n",
        "\n",
        "# Display the first image in testing data\n",
        "plt.subplot(122)\n",
        "plt.imshow(test_X[0,:,:], cmap='gray')\n",
        "plt.title(\"Ground Truth : {}\".format(test_Y[0]))"
      ],
      "execution_count": 10,
      "outputs": [
        {
          "output_type": "execute_result",
          "data": {
            "text/plain": [
              "Text(0.5, 1.0, 'Ground Truth : 9')"
            ]
          },
          "metadata": {
            "tags": []
          },
          "execution_count": 10
        },
        {
          "output_type": "display_data",
          "data": {
            "image/png": "[encoded data removed]",
            "text/plain": [
              "<Figure size 360x360 with 2 Axes>"
            ]
          },
          "metadata": {
            "tags": [],
            "needs_background": "light"
          }
        }
      ]
    },
    {
      "cell_type": "code",
      "metadata": {
        "colab": {
          "base_uri": "https://localhost:8080/"
        },
        "id": "-5214JhBD5hZ",
        "outputId": "155cda88-f07d-4e33-a22c-bba036fdd5fe"
      },
      "source": [
        "#reshaping the dataset\n",
        "train_X = train_X.reshape(-1, 28,28, 1)\n",
        "test_X = test_X.reshape(-1, 28,28, 1)\n",
        "train_X.shape, test_X.shape"
      ],
      "execution_count": 11,
      "outputs": [
        {
          "output_type": "execute_result",
          "data": {
            "text/plain": [
              "((60000, 28, 28, 1), (10000, 28, 28, 1))"
            ]
          },
          "metadata": {
            "tags": []
          },
          "execution_count": 11
        }
      ]
    },
    {
      "cell_type": "code",
      "metadata": {
        "id": "IxWRYWhUD87N"
      },
      "source": [
        "train_X = train_X.astype('float32')\n",
        "test_X = test_X.astype('float32')\n",
        "train_X = train_X / 255.\n",
        "test_X = test_X / 255"
      ],
      "execution_count": 12,
      "outputs": []
    },
    {
      "cell_type": "code",
      "metadata": {
        "colab": {
          "base_uri": "https://localhost:8080/"
        },
        "id": "tLtkRjOoEDhX",
        "outputId": "f2e5979f-f8e7-4878-9f73-b9dd5fbf2218"
      },
      "source": [
        "# Change the labels from categorical to one-hot encoding\n",
        "train_Y_one_hot = to_categorical(train_Y)\n",
        "test_Y_one_hot = to_categorical(test_Y)\n",
        "\n",
        "# Display the change for category label using one-hot encoding\n",
        "print('Original label:', train_Y[0])\n",
        "print('After conversion to one-hot:', train_Y_one_hot[0])"
      ],
      "execution_count": 13,
      "outputs": [
        {
          "output_type": "stream",
          "text": [
            "Original label: 9\n",
            "After conversion to one-hot: [0. 0. 0. 0. 0. 0. 0. 0. 0. 1.]\n"
          ],
          "name": "stdout"
        }
      ]
    },
    {
      "cell_type": "code",
      "metadata": {
        "id": "z7VE6HcQEFgL"
      },
      "source": [
        "#Dividing the dataset into training and validation dataset\n",
        "from sklearn.model_selection import train_test_split\n",
        "train_X,valid_X,train_label,valid_label = train_test_split(train_X, train_Y_one_hot, test_size=0.2, random_state=13)"
      ],
      "execution_count": 14,
      "outputs": []
    },
    {
      "cell_type": "code",
      "metadata": {
        "colab": {
          "base_uri": "https://localhost:8080/"
        },
        "id": "W049puCqEH6O",
        "outputId": "273abaac-f9e0-4853-8d6d-3daae87c106a"
      },
      "source": [
        "train_X.shape,valid_X.shape,train_label.shape,valid_label.shape"
      ],
      "execution_count": 15,
      "outputs": [
        {
          "output_type": "execute_result",
          "data": {
            "text/plain": [
              "((48000, 28, 28, 1), (12000, 28, 28, 1), (48000, 10), (12000, 10))"
            ]
          },
          "metadata": {
            "tags": []
          },
          "execution_count": 15
        }
      ]
    },
    {
      "cell_type": "code",
      "metadata": {
        "id": "zUkAWsOSERyO"
      },
      "source": [
        "import keras\n",
        "from keras.models import Sequential,Input,Model\n",
        "from keras.layers import Dense, Dropout, Flatten\n",
        "from keras.layers import Conv2D, MaxPooling2D\n",
        "from keras.layers.normalization import BatchNormalization\n",
        "from keras.layers.advanced_activations import LeakyReLU\n"
      ],
      "execution_count": 16,
      "outputs": []
    },
    {
      "cell_type": "code",
      "metadata": {
        "id": "TvX2yqohET4s"
      },
      "source": [
        "batch_size = 64\n",
        "epochs = 20\n",
        "num_classes = 10"
      ],
      "execution_count": 17,
      "outputs": []
    },
    {
      "cell_type": "code",
      "metadata": {
        "id": "YYTOvpnqEVst"
      },
      "source": [
        "import keras\n",
        "import keras.models as models"
      ],
      "execution_count": 18,
      "outputs": []
    },
    {
      "cell_type": "code",
      "metadata": {
        "colab": {
          "base_uri": "https://localhost:8080/"
        },
        "id": "DAXN8_ekEXiD",
        "outputId": "b0fffeb5-fe4a-4aaf-cf1e-469dd4408589"
      },
      "source": [
        "\n",
        "train_X.shape[1:]"
      ],
      "execution_count": 19,
      "outputs": [
        {
          "output_type": "execute_result",
          "data": {
            "text/plain": [
              "(28, 28, 1)"
            ]
          },
          "metadata": {
            "tags": []
          },
          "execution_count": 19
        }
      ]
    },
    {
      "cell_type": "code",
      "metadata": {
        "id": "Du9EpgkDEZMo"
      },
      "source": [
        "model = tf.keras.Sequential()"
      ],
      "execution_count": 20,
      "outputs": []
    },
    {
      "cell_type": "code",
      "metadata": {
        "id": "_l3i7vPQEbyP"
      },
      "source": [
        "#Defining the first set of convolutional layer , pooling layer and using the leakyReLU activation function\n",
        "model.add(tf.keras.layers.Conv2D(32,(3,3),activation='linear',input_shape=(28, 28,1),padding='same'))\n",
        "model.add(tf.keras.layers.LeakyReLU(alpha=0.1))\n",
        "model.add(tf.keras.layers.MaxPooling2D((2, 2),padding='same'))"
      ],
      "execution_count": 21,
      "outputs": []
    },
    {
      "cell_type": "code",
      "metadata": {
        "id": "qeqmnlLZEeGP"
      },
      "source": [
        "#Defining the second and third set of convolutional layer , pooling layer and using the leakyReLU activation function\n",
        "model.add(tf.keras.layers.Conv2D(64, (3, 3), activation='linear',padding='same'))\n",
        "model.add(tf.keras.layers.LeakyReLU(alpha=0.1))\n",
        "model.add(tf.keras.layers.MaxPooling2D(pool_size=(2, 2),padding='same'))\n",
        "model.add(tf.keras.layers.Conv2D(128, (3, 3), activation='linear',padding='same'))\n",
        "model.add(tf.keras.layers.LeakyReLU(alpha=0.1))                  \n",
        "model.add(tf.keras.layers.MaxPooling2D(pool_size=(2, 2),padding='same'))"
      ],
      "execution_count": 22,
      "outputs": []
    },
    {
      "cell_type": "code",
      "metadata": {
        "id": "lbY281EpEqZh"
      },
      "source": [
        "model.add(tf.keras.layers.Flatten())"
      ],
      "execution_count": 23,
      "outputs": []
    },
    {
      "cell_type": "code",
      "metadata": {
        "id": "eIBGFXbZE21s"
      },
      "source": [
        "#Adding the last fully connected network and using the softmax function\n",
        "model.add(tf.keras.layers.Dense(128, activation='linear'))\n",
        "model.add(tf.keras.layers.LeakyReLU(alpha=0.1))                  \n",
        "model.add(tf.keras.layers.Dense(num_classes, activation='softmax'))"
      ],
      "execution_count": 24,
      "outputs": []
    },
    {
      "cell_type": "code",
      "metadata": {
        "id": "3_d7ekMnE9nk"
      },
      "source": [
        "model.compile(loss=tf.keras.losses.categorical_crossentropy, optimizer=tf.keras.optimizers.Adam(),metrics=['accuracy'])"
      ],
      "execution_count": 25,
      "outputs": []
    },
    {
      "cell_type": "code",
      "metadata": {
        "colab": {
          "base_uri": "https://localhost:8080/"
        },
        "id": "RRD843AGFByE",
        "outputId": "24e9c537-5e92-44b0-93c7-5e7370402e7e"
      },
      "source": [
        "model.summary()"
      ],
      "execution_count": 26,
      "outputs": [
        {
          "output_type": "stream",
          "text": [
            "Model: \"sequential\"\n",
            "_________________________________________________________________\n",
            "Layer (type)                 Output Shape              Param #   \n",
            "=================================================================\n",
            "conv2d (Conv2D)              (None, 28, 28, 32)        320       \n",
            "_________________________________________________________________\n",
            "leaky_re_lu (LeakyReLU)      (None, 28, 28, 32)        0         \n",
            "_________________________________________________________________\n",
            "max_pooling2d (MaxPooling2D) (None, 14, 14, 32)        0         \n",
            "_________________________________________________________________\n",
            "conv2d_1 (Conv2D)            (None, 14, 14, 64)        18496     \n",
            "_________________________________________________________________\n",
            "leaky_re_lu_1 (LeakyReLU)    (None, 14, 14, 64)        0         \n",
            "_________________________________________________________________\n",
            "max_pooling2d_1 (MaxPooling2 (None, 7, 7, 64)          0         \n",
            "_________________________________________________________________\n",
            "conv2d_2 (Conv2D)            (None, 7, 7, 128)         73856     \n",
            "_________________________________________________________________\n",
            "leaky_re_lu_2 (LeakyReLU)    (None, 7, 7, 128)         0         \n",
            "_________________________________________________________________\n",
            "max_pooling2d_2 (MaxPooling2 (None, 4, 4, 128)         0         \n",
            "_________________________________________________________________\n",
            "flatten (Flatten)            (None, 2048)              0         \n",
            "_________________________________________________________________\n",
            "dense (Dense)                (None, 128)               262272    \n",
            "_________________________________________________________________\n",
            "leaky_re_lu_3 (LeakyReLU)    (None, 128)               0         \n",
            "_________________________________________________________________\n",
            "dense_1 (Dense)              (None, 10)                1290      \n",
            "=================================================================\n",
            "Total params: 356,234\n",
            "Trainable params: 356,234\n",
            "Non-trainable params: 0\n",
            "_________________________________________________________________\n"
          ],
          "name": "stdout"
        }
      ]
    },
    {
      "cell_type": "code",
      "metadata": {
        "colab": {
          "base_uri": "https://localhost:8080/"
        },
        "id": "HdMkklwiFDjU",
        "outputId": "aed8edbc-b70c-43b2-bf0f-8def9dc8f062"
      },
      "source": [
        "model_train=model.fit(train_X, train_label, batch_size=64,epochs=20,verbose=1,validation_data=(valid_X, valid_label))"
      ],
      "execution_count": 28,
      "outputs": [
        {
          "output_type": "stream",
          "text": [
            "Epoch 1/20\n",
            "750/750 [==============================] - 80s 107ms/step - loss: 0.0271 - accuracy: 0.9901 - val_loss: 0.5205 - val_accuracy: 0.9179\n",
            "Epoch 2/20\n",
            "750/750 [==============================] - 80s 107ms/step - loss: 0.0221 - accuracy: 0.9915 - val_loss: 0.5151 - val_accuracy: 0.9195\n",
            "Epoch 3/20\n",
            "750/750 [==============================] - 80s 106ms/step - loss: 0.0255 - accuracy: 0.9909 - val_loss: 0.5454 - val_accuracy: 0.9100\n",
            "Epoch 4/20\n",
            "750/750 [==============================] - 80s 107ms/step - loss: 0.0249 - accuracy: 0.9912 - val_loss: 0.5466 - val_accuracy: 0.9135\n",
            "Epoch 5/20\n",
            "750/750 [==============================] - 80s 107ms/step - loss: 0.0198 - accuracy: 0.9932 - val_loss: 0.5308 - val_accuracy: 0.9237\n",
            "Epoch 6/20\n",
            "750/750 [==============================] - 80s 107ms/step - loss: 0.0222 - accuracy: 0.9922 - val_loss: 0.5315 - val_accuracy: 0.9184\n",
            "Epoch 7/20\n",
            "750/750 [==============================] - 79s 106ms/step - loss: 0.0231 - accuracy: 0.9927 - val_loss: 0.4997 - val_accuracy: 0.9178\n",
            "Epoch 8/20\n",
            "750/750 [==============================] - 80s 106ms/step - loss: 0.0221 - accuracy: 0.9926 - val_loss: 0.4964 - val_accuracy: 0.9201\n",
            "Epoch 9/20\n",
            "750/750 [==============================] - 80s 106ms/step - loss: 0.0188 - accuracy: 0.9930 - val_loss: 0.5651 - val_accuracy: 0.9237\n",
            "Epoch 10/20\n",
            "750/750 [==============================] - 80s 107ms/step - loss: 0.0152 - accuracy: 0.9947 - val_loss: 0.5947 - val_accuracy: 0.9262\n",
            "Epoch 11/20\n",
            "750/750 [==============================] - 80s 107ms/step - loss: 0.0194 - accuracy: 0.9936 - val_loss: 0.6051 - val_accuracy: 0.9236\n",
            "Epoch 12/20\n",
            "750/750 [==============================] - 79s 106ms/step - loss: 0.0206 - accuracy: 0.9932 - val_loss: 0.5652 - val_accuracy: 0.9231\n",
            "Epoch 13/20\n",
            "750/750 [==============================] - 79s 106ms/step - loss: 0.0192 - accuracy: 0.9936 - val_loss: 0.5563 - val_accuracy: 0.9154\n",
            "Epoch 14/20\n",
            "750/750 [==============================] - 80s 107ms/step - loss: 0.0215 - accuracy: 0.9925 - val_loss: 0.5608 - val_accuracy: 0.9201\n",
            "Epoch 15/20\n",
            "750/750 [==============================] - 80s 106ms/step - loss: 0.0169 - accuracy: 0.9947 - val_loss: 0.6337 - val_accuracy: 0.9183\n",
            "Epoch 16/20\n",
            "750/750 [==============================] - 79s 106ms/step - loss: 0.0183 - accuracy: 0.9940 - val_loss: 0.6895 - val_accuracy: 0.9182\n",
            "Epoch 17/20\n",
            "750/750 [==============================] - 80s 106ms/step - loss: 0.0146 - accuracy: 0.9949 - val_loss: 0.6288 - val_accuracy: 0.9213\n",
            "Epoch 18/20\n",
            "750/750 [==============================] - 80s 106ms/step - loss: 0.0214 - accuracy: 0.9931 - val_loss: 0.6117 - val_accuracy: 0.9221\n",
            "Epoch 19/20\n",
            "750/750 [==============================] - 80s 106ms/step - loss: 0.0151 - accuracy: 0.9946 - val_loss: 0.6878 - val_accuracy: 0.9209\n",
            "Epoch 20/20\n",
            "750/750 [==============================] - 80s 106ms/step - loss: 0.0188 - accuracy: 0.9933 - val_loss: 0.6596 - val_accuracy: 0.9246\n"
          ],
          "name": "stdout"
        }
      ]
    },
    {
      "cell_type": "code",
      "metadata": {
        "colab": {
          "base_uri": "https://localhost:8080/"
        },
        "id": "KlRBcJHLFGdw",
        "outputId": "9c460284-aaf3-45d3-ac04-e908f87ec0e8"
      },
      "source": [
        "#Testing the accuracy and loss of the model\n",
        "test_eval = model.evaluate(test_X, test_Y_one_hot, verbose=0)\n",
        "print('Test loss:', test_eval[0])\n",
        "print('Test accuracy:', test_eval[1])"
      ],
      "execution_count": 29,
      "outputs": [
        {
          "output_type": "stream",
          "text": [
            "Test loss: 0.7060234546661377\n",
            "Test accuracy: 0.920199990272522\n"
          ],
          "name": "stdout"
        }
      ]
    },
    {
      "cell_type": "code",
      "metadata": {
        "colab": {
          "base_uri": "https://localhost:8080/"
        },
        "id": "d1-qslcJTE55",
        "outputId": "d47f345e-69ad-442d-ee09-ebc9f9855867"
      },
      "source": [
        "model_train.history"
      ],
      "execution_count": 30,
      "outputs": [
        {
          "output_type": "execute_result",
          "data": {
            "text/plain": [
              "{'accuracy': [0.9900624752044678,\n",
              "  0.9914791584014893,\n",
              "  0.9908750057220459,\n",
              "  0.9911666512489319,\n",
              "  0.9932083487510681,\n",
              "  0.9921666383743286,\n",
              "  0.9926875233650208,\n",
              "  0.9926041960716248,\n",
              "  0.9929791688919067,\n",
              "  0.9946874976158142,\n",
              "  0.9936249852180481,\n",
              "  0.9932291507720947,\n",
              "  0.9935625195503235,\n",
              "  0.992479145526886,\n",
              "  0.9947083592414856,\n",
              "  0.9939583539962769,\n",
              "  0.9949374794960022,\n",
              "  0.9931041598320007,\n",
              "  0.9945833086967468,\n",
              "  0.9933124780654907],\n",
              " 'loss': [0.02705761417746544,\n",
              "  0.022122930735349655,\n",
              "  0.02547304704785347,\n",
              "  0.024884101003408432,\n",
              "  0.019799798727035522,\n",
              "  0.022175733000040054,\n",
              "  0.023097693920135498,\n",
              "  0.022135185077786446,\n",
              "  0.018757738173007965,\n",
              "  0.015209111385047436,\n",
              "  0.01939793862402439,\n",
              "  0.02062576822936535,\n",
              "  0.019241267815232277,\n",
              "  0.02154776267707348,\n",
              "  0.016872894018888474,\n",
              "  0.018279844895005226,\n",
              "  0.014550730586051941,\n",
              "  0.021351603791117668,\n",
              "  0.015130771324038506,\n",
              "  0.01883024349808693],\n",
              " 'val_accuracy': [0.9179166555404663,\n",
              "  0.9194999933242798,\n",
              "  0.9100000262260437,\n",
              "  0.9135000109672546,\n",
              "  0.9236666560173035,\n",
              "  0.9184166789054871,\n",
              "  0.9177500009536743,\n",
              "  0.9200833439826965,\n",
              "  0.9237499833106995,\n",
              "  0.9261666536331177,\n",
              "  0.9235833287239075,\n",
              "  0.9230833053588867,\n",
              "  0.9154166579246521,\n",
              "  0.9200833439826965,\n",
              "  0.9182500243186951,\n",
              "  0.9181666374206543,\n",
              "  0.9213333129882812,\n",
              "  0.92208331823349,\n",
              "  0.9209166765213013,\n",
              "  0.9245833158493042],\n",
              " 'val_loss': [0.520490288734436,\n",
              "  0.515087366104126,\n",
              "  0.5453594923019409,\n",
              "  0.54659104347229,\n",
              "  0.5307865738868713,\n",
              "  0.5314880609512329,\n",
              "  0.49968376755714417,\n",
              "  0.49643078446388245,\n",
              "  0.565122127532959,\n",
              "  0.594719409942627,\n",
              "  0.6050805449485779,\n",
              "  0.5652462840080261,\n",
              "  0.5562792420387268,\n",
              "  0.5608267188072205,\n",
              "  0.6337041258811951,\n",
              "  0.6895278096199036,\n",
              "  0.6288056373596191,\n",
              "  0.6116757988929749,\n",
              "  0.6877625584602356,\n",
              "  0.6596107482910156]}"
            ]
          },
          "metadata": {
            "tags": []
          },
          "execution_count": 30
        }
      ]
    },
    {
      "cell_type": "code",
      "metadata": {
        "colab": {
          "base_uri": "https://localhost:8080/",
          "height": 545
        },
        "id": "34d3fzdqTIzT",
        "outputId": "c7396b12-ab0f-4c5e-cdbb-7379fb8bcf8c"
      },
      "source": [
        "#Testing and plotting the acuuracy and loss for training dataset and validation dataset\n",
        "accuracy = model_train.history['accuracy']\n",
        "val_accuracy = model_train.history['val_accuracy']\n",
        "loss = model_train.history['loss']\n",
        "val_loss = model_train.history['val_loss']\n",
        "epochs = range(len(accuracy))\n",
        "plt.plot(epochs, accuracy, 'bo', label='Training accuracy')\n",
        "plt.plot(epochs, val_accuracy, 'b', label='Validation accuracy')\n",
        "plt.title('Training and validation accuracy')\n",
        "plt.legend()\n",
        "plt.figure()\n",
        "plt.plot(epochs, loss, 'bo', label='Training loss')\n",
        "plt.plot(epochs, val_loss, 'b', label='Validation loss')\n",
        "plt.title('Training and validation loss')\n",
        "plt.legend()\n",
        "plt.show()"
      ],
      "execution_count": 31,
      "outputs": [
        {
          "output_type": "display_data",
          "data": {
            "image/png": "[encoded data removed]",
            "text/plain": [
              "<Figure size 432x288 with 1 Axes>"
            ]
          },
          "metadata": {
            "tags": [],
            "needs_background": "light"
          }
        },
        {
          "output_type": "display_data",
          "data": {
            "image/png": "[encoded data removed]",
            "text/plain": [
              "<Figure size 432x288 with 1 Axes>"
            ]
          },
          "metadata": {
            "tags": [],
            "needs_background": "light"
          }
        }
      ]
    },
    {
      "cell_type": "code",
      "metadata": {
        "id": "xI62DoiTTMy7"
      },
      "source": [
        "#As we can see that Validation accuracy is low compared to training accuracy so we ca say the model is overfitted. So now we will drop some neurons after each set of layers which do not provide much information.\n",
        "fashion_model = tf.keras.Sequential()\n",
        "fashion_model.add(tf.keras.layers.Conv2D(32, kernel_size=(3, 3),activation='linear',padding='same',input_shape=(28,28,1)))\n",
        "fashion_model.add(tf.keras.layers.LeakyReLU(alpha=0.1))\n",
        "fashion_model.add(tf.keras.layers.MaxPooling2D((2, 2),padding='same'))\n",
        "fashion_model.add(tf.keras.layers.Dropout(0.25))\n",
        "fashion_model.add(tf.keras.layers.Conv2D(64, (3, 3), activation='linear',padding='same'))\n",
        "fashion_model.add(tf.keras.layers.LeakyReLU(alpha=0.1))\n",
        "fashion_model.add(tf.keras.layers.MaxPooling2D(pool_size=(2, 2),padding='same'))\n",
        "fashion_model.add(tf.keras.layers.Dropout(0.25))\n",
        "fashion_model.add(tf.keras.layers.Conv2D(128, (3, 3), activation='linear',padding='same'))\n",
        "fashion_model.add(tf.keras.layers.LeakyReLU(alpha=0.1))                  \n",
        "fashion_model.add(tf.keras.layers.MaxPooling2D(pool_size=(2, 2),padding='same'))\n",
        "fashion_model.add(tf.keras.layers.Dropout(0.4))\n",
        "fashion_model.add(tf.keras.layers.Flatten())\n",
        "fashion_model.add(tf.keras.layers.Dense(128, activation='linear'))\n",
        "fashion_model.add(tf.keras.layers.LeakyReLU(alpha=0.1))           \n",
        "fashion_model.add(tf.keras.layers.Dropout(0.3))\n",
        "fashion_model.add(tf.keras.layers.Dense(num_classes, activation='softmax'))"
      ],
      "execution_count": 33,
      "outputs": []
    },
    {
      "cell_type": "code",
      "metadata": {
        "colab": {
          "base_uri": "https://localhost:8080/"
        },
        "id": "9iAhax1RTvAm",
        "outputId": "5d022514-e249-4f01-9339-27725071b6b0"
      },
      "source": [
        "fashion_model.summary()"
      ],
      "execution_count": 34,
      "outputs": [
        {
          "output_type": "stream",
          "text": [
            "Model: \"sequential_1\"\n",
            "_________________________________________________________________\n",
            "Layer (type)                 Output Shape              Param #   \n",
            "=================================================================\n",
            "conv2d_3 (Conv2D)            (None, 28, 28, 32)        320       \n",
            "_________________________________________________________________\n",
            "leaky_re_lu_4 (LeakyReLU)    (None, 28, 28, 32)        0         \n",
            "_________________________________________________________________\n",
            "max_pooling2d_3 (MaxPooling2 (None, 14, 14, 32)        0         \n",
            "_________________________________________________________________\n",
            "dropout (Dropout)            (None, 14, 14, 32)        0         \n",
            "_________________________________________________________________\n",
            "conv2d_4 (Conv2D)            (None, 14, 14, 64)        18496     \n",
            "_________________________________________________________________\n",
            "leaky_re_lu_5 (LeakyReLU)    (None, 14, 14, 64)        0         \n",
            "_________________________________________________________________\n",
            "max_pooling2d_4 (MaxPooling2 (None, 7, 7, 64)          0         \n",
            "_________________________________________________________________\n",
            "dropout_1 (Dropout)          (None, 7, 7, 64)          0         \n",
            "_________________________________________________________________\n",
            "conv2d_5 (Conv2D)            (None, 7, 7, 128)         73856     \n",
            "_________________________________________________________________\n",
            "leaky_re_lu_6 (LeakyReLU)    (None, 7, 7, 128)         0         \n",
            "_________________________________________________________________\n",
            "max_pooling2d_5 (MaxPooling2 (None, 4, 4, 128)         0         \n",
            "_________________________________________________________________\n",
            "dropout_2 (Dropout)          (None, 4, 4, 128)         0         \n",
            "_________________________________________________________________\n",
            "flatten_1 (Flatten)          (None, 2048)              0         \n",
            "_________________________________________________________________\n",
            "dense_2 (Dense)              (None, 128)               262272    \n",
            "_________________________________________________________________\n",
            "leaky_re_lu_7 (LeakyReLU)    (None, 128)               0         \n",
            "_________________________________________________________________\n",
            "dropout_3 (Dropout)          (None, 128)               0         \n",
            "_________________________________________________________________\n",
            "dense_3 (Dense)              (None, 10)                1290      \n",
            "=================================================================\n",
            "Total params: 356,234\n",
            "Trainable params: 356,234\n",
            "Non-trainable params: 0\n",
            "_________________________________________________________________\n"
          ],
          "name": "stdout"
        }
      ]
    },
    {
      "cell_type": "code",
      "metadata": {
        "id": "dMymroSzTy_o"
      },
      "source": [
        "fashion_model.compile(loss=tf.keras.losses.categorical_crossentropy, optimizer=tf.keras.optimizers.Adam(),metrics=['accuracy'])"
      ],
      "execution_count": 35,
      "outputs": []
    },
    {
      "cell_type": "code",
      "metadata": {
        "colab": {
          "base_uri": "https://localhost:8080/"
        },
        "id": "TOSChp99T30Y",
        "outputId": "8cf9613d-dc0d-4e82-af88-8023497ee6f0"
      },
      "source": [
        "fashion_train_dropout = fashion_model.fit(train_X, train_label, batch_size=64,epochs=20,verbose=1,validation_data=(valid_X, valid_label))"
      ],
      "execution_count": 36,
      "outputs": [
        {
          "output_type": "stream",
          "text": [
            "Epoch 1/20\n",
            "750/750 [==============================] - 87s 115ms/step - loss: 0.8525 - accuracy: 0.6800 - val_loss: 0.3646 - val_accuracy: 0.8624\n",
            "Epoch 2/20\n",
            "750/750 [==============================] - 86s 115ms/step - loss: 0.3875 - accuracy: 0.8565 - val_loss: 0.3087 - val_accuracy: 0.8861\n",
            "Epoch 3/20\n",
            "750/750 [==============================] - 85s 114ms/step - loss: 0.3239 - accuracy: 0.8805 - val_loss: 0.2807 - val_accuracy: 0.8954\n",
            "Epoch 4/20\n",
            "750/750 [==============================] - 85s 114ms/step - loss: 0.3031 - accuracy: 0.8840 - val_loss: 0.2669 - val_accuracy: 0.9036\n",
            "Epoch 5/20\n",
            "750/750 [==============================] - 85s 113ms/step - loss: 0.2791 - accuracy: 0.8964 - val_loss: 0.2469 - val_accuracy: 0.9102\n",
            "Epoch 6/20\n",
            "750/750 [==============================] - 85s 113ms/step - loss: 0.2653 - accuracy: 0.9031 - val_loss: 0.2404 - val_accuracy: 0.9088\n",
            "Epoch 7/20\n",
            "750/750 [==============================] - 85s 113ms/step - loss: 0.2558 - accuracy: 0.9054 - val_loss: 0.2353 - val_accuracy: 0.9133\n",
            "Epoch 8/20\n",
            "750/750 [==============================] - 85s 114ms/step - loss: 0.2387 - accuracy: 0.9129 - val_loss: 0.2301 - val_accuracy: 0.9146\n",
            "Epoch 9/20\n",
            "750/750 [==============================] - 85s 114ms/step - loss: 0.2411 - accuracy: 0.9098 - val_loss: 0.2356 - val_accuracy: 0.9153\n",
            "Epoch 10/20\n",
            "750/750 [==============================] - 85s 114ms/step - loss: 0.2339 - accuracy: 0.9128 - val_loss: 0.2189 - val_accuracy: 0.9183\n",
            "Epoch 11/20\n",
            "750/750 [==============================] - 85s 114ms/step - loss: 0.2291 - accuracy: 0.9147 - val_loss: 0.2180 - val_accuracy: 0.9222\n",
            "Epoch 12/20\n",
            "750/750 [==============================] - 85s 114ms/step - loss: 0.2179 - accuracy: 0.9186 - val_loss: 0.2107 - val_accuracy: 0.9234\n",
            "Epoch 13/20\n",
            "750/750 [==============================] - 85s 113ms/step - loss: 0.2147 - accuracy: 0.9198 - val_loss: 0.2147 - val_accuracy: 0.9214\n",
            "Epoch 14/20\n",
            "750/750 [==============================] - 85s 113ms/step - loss: 0.2195 - accuracy: 0.9164 - val_loss: 0.2245 - val_accuracy: 0.9203\n",
            "Epoch 15/20\n",
            "750/750 [==============================] - 85s 113ms/step - loss: 0.2082 - accuracy: 0.9211 - val_loss: 0.2139 - val_accuracy: 0.9220\n",
            "Epoch 16/20\n",
            "750/750 [==============================] - 86s 114ms/step - loss: 0.2030 - accuracy: 0.9215 - val_loss: 0.2170 - val_accuracy: 0.9217\n",
            "Epoch 17/20\n",
            "750/750 [==============================] - 85s 113ms/step - loss: 0.1993 - accuracy: 0.9236 - val_loss: 0.2085 - val_accuracy: 0.9234\n",
            "Epoch 18/20\n",
            "750/750 [==============================] - 86s 114ms/step - loss: 0.2015 - accuracy: 0.9237 - val_loss: 0.2137 - val_accuracy: 0.9245\n",
            "Epoch 19/20\n",
            "750/750 [==============================] - 85s 114ms/step - loss: 0.1957 - accuracy: 0.9247 - val_loss: 0.2085 - val_accuracy: 0.9268\n",
            "Epoch 20/20\n",
            "750/750 [==============================] - 86s 114ms/step - loss: 0.1889 - accuracy: 0.9274 - val_loss: 0.2079 - val_accuracy: 0.9259\n"
          ],
          "name": "stdout"
        }
      ]
    },
    {
      "cell_type": "code",
      "metadata": {
        "colab": {
          "base_uri": "https://localhost:8080/"
        },
        "id": "j8p9nHtvT6kg",
        "outputId": "82848a80-c493-4f36-e37d-2446c2916442"
      },
      "source": [
        "fashion_model.save(\"fashion_model_dropout.h5py\")"
      ],
      "execution_count": 37,
      "outputs": [
        {
          "output_type": "stream",
          "text": [
            "INFO:tensorflow:Assets written to: fashion_model_dropout.h5py/assets\n"
          ],
          "name": "stdout"
        }
      ]
    },
    {
      "cell_type": "code",
      "metadata": {
        "colab": {
          "base_uri": "https://localhost:8080/"
        },
        "id": "4uGTXL9EalNU",
        "outputId": "56e91305-2adc-4efe-9050-4bdac1871b09"
      },
      "source": [
        "test_eval = fashion_model.evaluate(test_X, test_Y_one_hot, verbose=1)"
      ],
      "execution_count": 38,
      "outputs": [
        {
          "output_type": "stream",
          "text": [
            "313/313 [==============================] - 5s 17ms/step - loss: 0.2211 - accuracy: 0.9224\n"
          ],
          "name": "stdout"
        }
      ]
    },
    {
      "cell_type": "code",
      "metadata": {
        "colab": {
          "base_uri": "https://localhost:8080/"
        },
        "id": "_JuMIuCOapaR",
        "outputId": "40bea25b-f4e5-4a18-f5fb-3e095233e1f7"
      },
      "source": [
        "print('Test loss:', test_eval[0])\n",
        "print('Test accuracy:', test_eval[1])"
      ],
      "execution_count": 39,
      "outputs": [
        {
          "output_type": "stream",
          "text": [
            "Test loss: 0.22105254232883453\n",
            "Test accuracy: 0.9223999977111816\n"
          ],
          "name": "stdout"
        }
      ]
    },
    {
      "cell_type": "code",
      "metadata": {
        "colab": {
          "base_uri": "https://localhost:8080/",
          "height": 545
        },
        "id": "cjSrgHQ7as5H",
        "outputId": "ce0bd803-bd21-4ad7-9618-62fb17f19747"
      },
      "source": [
        "accuracy = fashion_train_dropout.history['accuracy']\n",
        "val_accuracy = fashion_train_dropout.history['val_accuracy']\n",
        "loss = fashion_train_dropout.history['loss']\n",
        "val_loss = fashion_train_dropout.history['val_loss']\n",
        "epochs = range(len(accuracy))\n",
        "plt.plot(epochs, accuracy, 'bo', label='Training accuracy')\n",
        "plt.plot(epochs, val_accuracy, 'b', label='Validation accuracy')\n",
        "plt.title('Training and validation accuracy')\n",
        "plt.legend()\n",
        "plt.figure()\n",
        "plt.plot(epochs, loss, 'bo', label='Training loss')\n",
        "plt.plot(epochs, val_loss, 'b', label='Validation loss')\n",
        "plt.title('Training and validation loss')\n",
        "plt.legend()\n",
        "plt.show()"
      ],
      "execution_count": 40,
      "outputs": [
        {
          "output_type": "display_data",
          "data": {
            "image/png": "[encoded data removed]",
            "text/plain": [
              "<Figure size 432x288 with 1 Axes>"
            ]
          },
          "metadata": {
            "tags": [],
            "needs_background": "light"
          }
        },
        {
          "output_type": "display_data",
          "data": {
            "image/png": "[encoded data removed]",
            "text/plain": [
              "<Figure size 432x288 with 1 Axes>"
            ]
          },
          "metadata": {
            "tags": [],
            "needs_background": "light"
          }
        }
      ]
    },
    {
      "cell_type": "code",
      "metadata": {
        "id": "0dgN-3-kavg9"
      },
      "source": [
        "predicted_classes = fashion_model.predict(test_X)"
      ],
      "execution_count": 41,
      "outputs": []
    },
    {
      "cell_type": "code",
      "metadata": {
        "id": "gsuaeA5mayu5"
      },
      "source": [
        "predicted_classes = np.argmax(np.round(predicted_classes),axis=1)"
      ],
      "execution_count": 42,
      "outputs": []
    },
    {
      "cell_type": "code",
      "metadata": {
        "colab": {
          "base_uri": "https://localhost:8080/",
          "height": 314
        },
        "id": "NeUW8icZa18x",
        "outputId": "17419de7-daac-4a92-9168-d80b08b7c956"
      },
      "source": [
        "\n",
        "correct = np.where(predicted_classes==test_Y)[0]\n",
        "print (\"Found %d correct labels\" % len(correct))\n",
        "for i, correct in enumerate(correct[:9]):\n",
        "    plt.subplot(3,3,i+1)\n",
        "    plt.imshow(test_X[correct].reshape(28,28), cmap='gray', interpolation='none')\n",
        "    plt.title(\"Predicted {}, Class {}\".format(predicted_classes[correct], test_Y[correct]))\n",
        "    plt.tight_layout()"
      ],
      "execution_count": 43,
      "outputs": [
        {
          "output_type": "stream",
          "text": [
            "Found 9196 correct labels\n"
          ],
          "name": "stdout"
        },
        {
          "output_type": "display_data",
          "data": {
            "image/png": "[encoded data removed]",
            "text/plain": [
              "<Figure size 432x288 with 9 Axes>"
            ]
          },
          "metadata": {
            "tags": [],
            "needs_background": "light"
          }
        }
      ]
    },
    {
      "cell_type": "code",
      "metadata": {
        "colab": {
          "base_uri": "https://localhost:8080/",
          "height": 314
        },
        "id": "J83rQMv2a347",
        "outputId": "f45cc3c1-8193-4db8-ad50-687cd280a6f8"
      },
      "source": [
        "incorrect = np.where(predicted_classes!=test_Y)[0]\n",
        "print (\"Found %d incorrect labels\" % len(incorrect))\n",
        "for i, incorrect in enumerate(incorrect[:9]):\n",
        "    plt.subplot(3,3,i+1)\n",
        "    plt.imshow(test_X[incorrect].reshape(28,28), cmap='gray', interpolation='none')\n",
        "    plt.title(\"Predicted {}, Class {}\".format(predicted_classes[incorrect], test_Y[incorrect]))\n",
        "    plt.tight_layout()"
      ],
      "execution_count": 44,
      "outputs": [
        {
          "output_type": "stream",
          "text": [
            "Found 804 incorrect labels\n"
          ],
          "name": "stdout"
        },
        {
          "output_type": "display_data",
          "data": {
            "image/png": "[encoded data removed]",
            "text/plain": [
              "<Figure size 432x288 with 9 Axes>"
            ]
          },
          "metadata": {
            "tags": [],
            "needs_background": "light"
          }
        }
      ]
    },
    {
      "cell_type": "code",
      "metadata": {
        "colab": {
          "base_uri": "https://localhost:8080/"
        },
        "id": "cDFAV4xka6__",
        "outputId": "c2d72d58-569e-4439-8fde-bc7757070605"
      },
      "source": [
        "from sklearn.metrics import classification_report\n",
        "target_names = [\"Class {}\".format(i) for i in range(num_classes)]\n",
        "print(classification_report(test_Y, predicted_classes, target_names=target_names))"
      ],
      "execution_count": 45,
      "outputs": [
        {
          "output_type": "stream",
          "text": [
            "              precision    recall  f1-score   support\n",
            "\n",
            "     Class 0       0.78      0.91      0.84      1000\n",
            "     Class 1       0.99      0.98      0.99      1000\n",
            "     Class 2       0.89      0.88      0.89      1000\n",
            "     Class 3       0.94      0.91      0.92      1000\n",
            "     Class 4       0.88      0.89      0.89      1000\n",
            "     Class 5       0.99      0.97      0.98      1000\n",
            "     Class 6       0.83      0.74      0.78      1000\n",
            "     Class 7       0.95      0.98      0.96      1000\n",
            "     Class 8       0.99      0.98      0.99      1000\n",
            "     Class 9       0.97      0.96      0.97      1000\n",
            "\n",
            "    accuracy                           0.92     10000\n",
            "   macro avg       0.92      0.92      0.92     10000\n",
            "weighted avg       0.92      0.92      0.92     10000\n",
            "\n"
          ],
          "name": "stdout"
        }
      ]
    },
    {
      "cell_type": "code",
      "metadata": {
        "id": "mSbAEduBbuzX"
      },
      "source": [
        ""
      ],
      "execution_count": 48,
      "outputs": []
    },
    {
      "cell_type": "code",
      "metadata": {
        "id": "azsFWAeUa_79"
      },
      "source": [
        ""
      ],
      "execution_count": null,
      "outputs": []
    }
  ]
}