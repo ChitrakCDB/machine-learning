{
  "nbformat": 4,
  "nbformat_minor": 0,
  "metadata": {
    "colab": {
      "name": "Linear Regression_Basic Code.ipynb",
      "provenance": [],
      "authorship_tag": "ABX9TyPj/XT7Eh/iQOk1pMfmlbUo",
      "include_colab_link": true
    },
    "kernelspec": {
      "name": "python3",
      "display_name": "Python 3"
    }
  },
  "cells": [
    {
      "cell_type": "markdown",
      "metadata": {
        "id": "view-in-github",
        "colab_type": "text"
      },
      "source": [
        "<a href=\"https://colab.research.google.com/github/KiranTanwani/Machine-Learning/blob/main/Linear_Regression_Basic_Code.ipynb\" target=\"_parent\"><img src=\"https://colab.research.google.com/assets/colab-badge.svg\" alt=\"Open In Colab\"/></a>"
      ]
    },
    {
      "cell_type": "code",
      "metadata": {
        "id": "X54mdAWNpRDW"
      },
      "source": [
        "#find the relation between size of house and price."
      ],
      "execution_count": null,
      "outputs": []
    },
    {
      "cell_type": "code",
      "metadata": {
        "id": "gi1f9ZsrrwXb"
      },
      "source": [
        "import numpy as np\r\n",
        "import matplotlib.pyplot as plt\r\n",
        "import pandas as pd"
      ],
      "execution_count": null,
      "outputs": []
    },
    {
      "cell_type": "code",
      "metadata": {
        "id": "ILbqlf79r8b3"
      },
      "source": [
        "from google.colab import drive #to import google drive data"
      ],
      "execution_count": null,
      "outputs": []
    },
    {
      "cell_type": "code",
      "metadata": {
        "colab": {
          "base_uri": "https://localhost:8080/"
        },
        "id": "zN0y48pmsGVY",
        "outputId": "da2d9c70-7f18-4154-dfc1-4c2327a14fba"
      },
      "source": [
        "drive.mount('/content/drive') #to mount the drive data into colab cloud and enter the activation code"
      ],
      "execution_count": null,
      "outputs": [
        {
          "output_type": "stream",
          "text": [
            "Mounted at /content/drive\n"
          ],
          "name": "stdout"
        }
      ]
    },
    {
      "cell_type": "code",
      "metadata": {
        "colab": {
          "base_uri": "https://localhost:8080/"
        },
        "id": "iT-p29mlsnc_",
        "outputId": "bd9fa40e-3de3-4605-92e7-5b2ec462a1dd"
      },
      "source": [
        "cd /content/drive/\"My Drive/Colab Notebooks/Linear Regression\""
      ],
      "execution_count": null,
      "outputs": [
        {
          "output_type": "stream",
          "text": [
            "/content/drive/My Drive/Colab Notebooks/Linear Regression\n"
          ],
          "name": "stdout"
        }
      ]
    },
    {
      "cell_type": "code",
      "metadata": {
        "colab": {
          "base_uri": "https://localhost:8080/"
        },
        "id": "ki_26SmKs2GH",
        "outputId": "78a22cef-3f03-4c1d-9447-0a78b82c40a1"
      },
      "source": [
        "#columnname=['x','y']\r\n",
        "dataset=pd.read_csv(\"train.csv\")\r\n",
        "print(dataset)\r\n",
        "dataset.shape"
      ],
      "execution_count": null,
      "outputs": [
        {
          "output_type": "stream",
          "text": [
            "        x          y\n",
            "0    24.0  21.549452\n",
            "1    50.0  47.464463\n",
            "2    15.0  17.218656\n",
            "3    38.0  36.586398\n",
            "4    87.0  87.288984\n",
            "..    ...        ...\n",
            "695  58.0  58.595006\n",
            "696  93.0  94.625094\n",
            "697  82.0  88.603770\n",
            "698  66.0  63.648685\n",
            "699  97.0  94.975266\n",
            "\n",
            "[700 rows x 2 columns]\n"
          ],
          "name": "stdout"
        },
        {
          "output_type": "execute_result",
          "data": {
            "text/plain": [
              "(700, 2)"
            ]
          },
          "metadata": {
            "tags": []
          },
          "execution_count": 7
        }
      ]
    },
    {
      "cell_type": "code",
      "metadata": {
        "colab": {
          "base_uri": "https://localhost:8080/",
          "height": 284
        },
        "id": "1OGBrTU9u3N1",
        "outputId": "b7a39d99-1d2e-4329-c7b1-8c3bad6db806"
      },
      "source": [
        "dataf=pd.DataFrame(dataset)\r\n",
        "dataf.describe()"
      ],
      "execution_count": null,
      "outputs": [
        {
          "output_type": "execute_result",
          "data": {
            "text/html": [
              "<div>\n",
              "<style scoped>\n",
              "    .dataframe tbody tr th:only-of-type {\n",
              "        vertical-align: middle;\n",
              "    }\n",
              "\n",
              "    .dataframe tbody tr th {\n",
              "        vertical-align: top;\n",
              "    }\n",
              "\n",
              "    .dataframe thead th {\n",
              "        text-align: right;\n",
              "    }\n",
              "</style>\n",
              "<table border=\"1\" class=\"dataframe\">\n",
              "  <thead>\n",
              "    <tr style=\"text-align: right;\">\n",
              "      <th></th>\n",
              "      <th>x</th>\n",
              "      <th>y</th>\n",
              "    </tr>\n",
              "  </thead>\n",
              "  <tbody>\n",
              "    <tr>\n",
              "      <th>count</th>\n",
              "      <td>700.000000</td>\n",
              "      <td>699.000000</td>\n",
              "    </tr>\n",
              "    <tr>\n",
              "      <th>mean</th>\n",
              "      <td>54.985939</td>\n",
              "      <td>49.939869</td>\n",
              "    </tr>\n",
              "    <tr>\n",
              "      <th>std</th>\n",
              "      <td>134.681703</td>\n",
              "      <td>29.109217</td>\n",
              "    </tr>\n",
              "    <tr>\n",
              "      <th>min</th>\n",
              "      <td>0.000000</td>\n",
              "      <td>-3.839981</td>\n",
              "    </tr>\n",
              "    <tr>\n",
              "      <th>25%</th>\n",
              "      <td>25.000000</td>\n",
              "      <td>24.929968</td>\n",
              "    </tr>\n",
              "    <tr>\n",
              "      <th>50%</th>\n",
              "      <td>49.000000</td>\n",
              "      <td>48.973020</td>\n",
              "    </tr>\n",
              "    <tr>\n",
              "      <th>75%</th>\n",
              "      <td>75.000000</td>\n",
              "      <td>74.929911</td>\n",
              "    </tr>\n",
              "    <tr>\n",
              "      <th>max</th>\n",
              "      <td>3530.157369</td>\n",
              "      <td>108.871618</td>\n",
              "    </tr>\n",
              "  </tbody>\n",
              "</table>\n",
              "</div>"
            ],
            "text/plain": [
              "                 x           y\n",
              "count   700.000000  699.000000\n",
              "mean     54.985939   49.939869\n",
              "std     134.681703   29.109217\n",
              "min       0.000000   -3.839981\n",
              "25%      25.000000   24.929968\n",
              "50%      49.000000   48.973020\n",
              "75%      75.000000   74.929911\n",
              "max    3530.157369  108.871618"
            ]
          },
          "metadata": {
            "tags": []
          },
          "execution_count": 8
        }
      ]
    },
    {
      "cell_type": "code",
      "metadata": {
        "id": "cpK2gHYTvGMj"
      },
      "source": [
        "#Separating the feature matrix and the target variable\r\n",
        "x_value = dataf.iloc[0:700,0:1]\r\n",
        "y_value = dataf.iloc[0:700,1:2]"
      ],
      "execution_count": null,
      "outputs": []
    },
    {
      "cell_type": "code",
      "metadata": {
        "colab": {
          "base_uri": "https://localhost:8080/",
          "height": 402
        },
        "id": "7nUT0dfIwYIO",
        "outputId": "e915ab3d-2694-415f-ed59-e24d7e3fa022"
      },
      "source": [
        "x_value"
      ],
      "execution_count": null,
      "outputs": [
        {
          "output_type": "execute_result",
          "data": {
            "text/html": [
              "<div>\n",
              "<style scoped>\n",
              "    .dataframe tbody tr th:only-of-type {\n",
              "        vertical-align: middle;\n",
              "    }\n",
              "\n",
              "    .dataframe tbody tr th {\n",
              "        vertical-align: top;\n",
              "    }\n",
              "\n",
              "    .dataframe thead th {\n",
              "        text-align: right;\n",
              "    }\n",
              "</style>\n",
              "<table border=\"1\" class=\"dataframe\">\n",
              "  <thead>\n",
              "    <tr style=\"text-align: right;\">\n",
              "      <th></th>\n",
              "      <th>x</th>\n",
              "    </tr>\n",
              "  </thead>\n",
              "  <tbody>\n",
              "    <tr>\n",
              "      <th>0</th>\n",
              "      <td>24.0</td>\n",
              "    </tr>\n",
              "    <tr>\n",
              "      <th>1</th>\n",
              "      <td>50.0</td>\n",
              "    </tr>\n",
              "    <tr>\n",
              "      <th>2</th>\n",
              "      <td>15.0</td>\n",
              "    </tr>\n",
              "    <tr>\n",
              "      <th>3</th>\n",
              "      <td>38.0</td>\n",
              "    </tr>\n",
              "    <tr>\n",
              "      <th>4</th>\n",
              "      <td>87.0</td>\n",
              "    </tr>\n",
              "    <tr>\n",
              "      <th>...</th>\n",
              "      <td>...</td>\n",
              "    </tr>\n",
              "    <tr>\n",
              "      <th>695</th>\n",
              "      <td>58.0</td>\n",
              "    </tr>\n",
              "    <tr>\n",
              "      <th>696</th>\n",
              "      <td>93.0</td>\n",
              "    </tr>\n",
              "    <tr>\n",
              "      <th>697</th>\n",
              "      <td>82.0</td>\n",
              "    </tr>\n",
              "    <tr>\n",
              "      <th>698</th>\n",
              "      <td>66.0</td>\n",
              "    </tr>\n",
              "    <tr>\n",
              "      <th>699</th>\n",
              "      <td>97.0</td>\n",
              "    </tr>\n",
              "  </tbody>\n",
              "</table>\n",
              "<p>700 rows × 1 columns</p>\n",
              "</div>"
            ],
            "text/plain": [
              "        x\n",
              "0    24.0\n",
              "1    50.0\n",
              "2    15.0\n",
              "3    38.0\n",
              "4    87.0\n",
              "..    ...\n",
              "695  58.0\n",
              "696  93.0\n",
              "697  82.0\n",
              "698  66.0\n",
              "699  97.0\n",
              "\n",
              "[700 rows x 1 columns]"
            ]
          },
          "metadata": {
            "tags": []
          },
          "execution_count": 10
        }
      ]
    },
    {
      "cell_type": "code",
      "metadata": {
        "colab": {
          "base_uri": "https://localhost:8080/",
          "height": 402
        },
        "id": "CzGocW-RwmVR",
        "outputId": "9bbb463b-4c11-4b99-c996-d0fe17ddd35d"
      },
      "source": [
        "y_value"
      ],
      "execution_count": null,
      "outputs": [
        {
          "output_type": "execute_result",
          "data": {
            "text/html": [
              "<div>\n",
              "<style scoped>\n",
              "    .dataframe tbody tr th:only-of-type {\n",
              "        vertical-align: middle;\n",
              "    }\n",
              "\n",
              "    .dataframe tbody tr th {\n",
              "        vertical-align: top;\n",
              "    }\n",
              "\n",
              "    .dataframe thead th {\n",
              "        text-align: right;\n",
              "    }\n",
              "</style>\n",
              "<table border=\"1\" class=\"dataframe\">\n",
              "  <thead>\n",
              "    <tr style=\"text-align: right;\">\n",
              "      <th></th>\n",
              "      <th>y</th>\n",
              "    </tr>\n",
              "  </thead>\n",
              "  <tbody>\n",
              "    <tr>\n",
              "      <th>0</th>\n",
              "      <td>21.549452</td>\n",
              "    </tr>\n",
              "    <tr>\n",
              "      <th>1</th>\n",
              "      <td>47.464463</td>\n",
              "    </tr>\n",
              "    <tr>\n",
              "      <th>2</th>\n",
              "      <td>17.218656</td>\n",
              "    </tr>\n",
              "    <tr>\n",
              "      <th>3</th>\n",
              "      <td>36.586398</td>\n",
              "    </tr>\n",
              "    <tr>\n",
              "      <th>4</th>\n",
              "      <td>87.288984</td>\n",
              "    </tr>\n",
              "    <tr>\n",
              "      <th>...</th>\n",
              "      <td>...</td>\n",
              "    </tr>\n",
              "    <tr>\n",
              "      <th>695</th>\n",
              "      <td>58.595006</td>\n",
              "    </tr>\n",
              "    <tr>\n",
              "      <th>696</th>\n",
              "      <td>94.625094</td>\n",
              "    </tr>\n",
              "    <tr>\n",
              "      <th>697</th>\n",
              "      <td>88.603770</td>\n",
              "    </tr>\n",
              "    <tr>\n",
              "      <th>698</th>\n",
              "      <td>63.648685</td>\n",
              "    </tr>\n",
              "    <tr>\n",
              "      <th>699</th>\n",
              "      <td>94.975266</td>\n",
              "    </tr>\n",
              "  </tbody>\n",
              "</table>\n",
              "<p>700 rows × 1 columns</p>\n",
              "</div>"
            ],
            "text/plain": [
              "             y\n",
              "0    21.549452\n",
              "1    47.464463\n",
              "2    17.218656\n",
              "3    36.586398\n",
              "4    87.288984\n",
              "..         ...\n",
              "695  58.595006\n",
              "696  94.625094\n",
              "697  88.603770\n",
              "698  63.648685\n",
              "699  94.975266\n",
              "\n",
              "[700 rows x 1 columns]"
            ]
          },
          "metadata": {
            "tags": []
          },
          "execution_count": 11
        }
      ]
    },
    {
      "cell_type": "code",
      "metadata": {
        "colab": {
          "base_uri": "https://localhost:8080/",
          "height": 265
        },
        "id": "iPVdau6Xwscl",
        "outputId": "15f930d6-0fc8-4cb0-8c07-4aff53c4ba48"
      },
      "source": [
        "#Plotting the box plot for feature matrix\r\n",
        "x_box=x_value.boxplot(column=['x'])"
      ],
      "execution_count": null,
      "outputs": [
        {
          "output_type": "display_data",
          "data": {
            "image/png": "[encoded data removed]",
            "text/plain": [
              "<Figure size 432x288 with 1 Axes>"
            ]
          },
          "metadata": {
            "tags": [],
            "needs_background": "light"
          }
        }
      ]
    },
    {
      "cell_type": "code",
      "metadata": {
        "colab": {
          "base_uri": "https://localhost:8080/",
          "height": 265
        },
        "id": "AokD0S-RyC80",
        "outputId": "cf748c17-9174-4906-d59f-2b9b63e3a680"
      },
      "source": [
        "#Plotting box plot for target variable\r\n",
        "y_box=y_value.boxplot(column=['y'])"
      ],
      "execution_count": null,
      "outputs": [
        {
          "output_type": "display_data",
          "data": {
            "image/png": "[encoded data removed]",
            "text/plain": [
              "<Figure size 432x288 with 1 Axes>"
            ]
          },
          "metadata": {
            "tags": [],
            "needs_background": "light"
          }
        }
      ]
    },
    {
      "cell_type": "code",
      "metadata": {
        "colab": {
          "base_uri": "https://localhost:8080/",
          "height": 312
        },
        "id": "i5Hd7QeulzEm",
        "outputId": "19f3e97f-a16f-4275-bdba-2aa7d5154811"
      },
      "source": [
        "import matplotlib.pyplot as plt\r\n",
        "#Plotting the scatter plot\r\n",
        "plt.scatter(x_value,y_value)\r\n",
        "plt.xticks(np.arange(5,100,step=5))\r\n",
        "plt.yticks(np.arange(-5,100,step=5))\r\n",
        "plt.xlabel(\"x-value\")\r\n",
        "plt.ylabel(\"y-value\")\r\n",
        "plt.title(\"1st LR scatter plot\")"
      ],
      "execution_count": null,
      "outputs": [
        {
          "output_type": "execute_result",
          "data": {
            "text/plain": [
              "Text(0.5, 1.0, '1st LR scatter plot')"
            ]
          },
          "metadata": {
            "tags": []
          },
          "execution_count": 14
        },
        {
          "output_type": "display_data",
          "data": {
            "image/png": "[encoded data removed]",
            "text/plain": [
              "<Figure size 432x288 with 1 Axes>"
            ]
          },
          "metadata": {
            "tags": [],
            "needs_background": "light"
          }
        }
      ]
    },
    {
      "cell_type": "code",
      "metadata": {
        "id": "zd1n8a1wo8bL"
      },
      "source": [
        "#define hypothesis\r\n",
        "\r\n",
        "def hypothesis(theta_array,x): #theta_array = [theta_array[0],theta_array[1]]\r\n",
        "  return theta_array[0]+theta_array[1]*x"
      ],
      "execution_count": null,
      "outputs": []
    },
    {
      "cell_type": "code",
      "metadata": {
        "id": "uRe-vX4AqekQ"
      },
      "source": [
        "def cost_function(theta_array,x,y,m):  #x and y are list of observations\r\n",
        "  total_error = 0\r\n",
        "  for i in range(m):\r\n",
        "    total_error+=(theta_array[0]+theta_array[1]*x[i]-y[i])**2\r\n",
        "  \r\n",
        "  return total_error/(2*m)"
      ],
      "execution_count": null,
      "outputs": []
    },
    {
      "cell_type": "code",
      "metadata": {
        "id": "mDXa0OW4r4V4"
      },
      "source": [
        "#defining the gradient descent function\r\n",
        "def gradient_descent(theta_array,x,y,alpha,m):\r\n",
        "  summation_0 = 0\r\n",
        "  summation_1 = 0\r\n",
        "\r\n",
        "  for i in range(m):\r\n",
        "    summation_0+=((theta_array[0]+theta_array[1]*x[i])-y[i])\r\n",
        "    summation_1+=((theta_array[0]+theta_array[1]*x[i])-y[i])*x[i]\r\n",
        "\r\n",
        "  new_theta_0 = theta_array[0] - alpha*(summation_0/m)\r\n",
        "  new_theta_1 = theta_array[1] - alpha*(summation_1/m)\r\n",
        "\r\n",
        "  updated_theta_array=[new_theta_0,new_theta_1]\r\n",
        "  print(\"New Theta values are :\",updated_theta_array)\r\n",
        "\r\n",
        "  return updated_theta_array\r\n",
        "  "
      ],
      "execution_count": null,
      "outputs": []
    },
    {
      "cell_type": "code",
      "metadata": {
        "id": "sviKpIHAuq4h"
      },
      "source": [
        "#defining the training function\r\n",
        "def training(x,y,alpha,iters):\r\n",
        "  theta_0=0\r\n",
        "  theta_1=0\r\n",
        "  theta_array=[theta_0,theta_1]\r\n",
        "  cost_function_values=[]\r\n",
        "\r\n",
        "  m=x.size #size of dataset / number of observations\r\n",
        "\r\n",
        "  for i in range(iters):\r\n",
        "    theta_array=gradient_descent(theta_array,x,y,alpha,m)\r\n",
        "\r\n",
        "    cost_function_values.append(cost_function(theta_array,x,y,m)) \r\n",
        "    if i %10 ==0:\r\n",
        "      y_new=x*theta_array[1]+theta_array[0] #linear regression line\r\n",
        "      plt.plot(x,y_new,'r')\r\n",
        "      plt.scatter(x,y)\r\n",
        "      plt.show()\r\n",
        "\r\n",
        "  x=np.arange(0,len(cost_function_values),step=1)\r\n",
        "  plt.plot(x,cost_function_values,\"-b\")\r\n",
        "  plt.xlabel(\"Number of iterations\")\r\n",
        "  plt.ylabel(\"Cost/loss Values\")\r\n",
        "  plt.title(\"Cost Function Curve\")\r\n",
        "  plt.show()\r\n"
      ],
      "execution_count": null,
      "outputs": []
    },
    {
      "cell_type": "code",
      "metadata": {
        "colab": {
          "base_uri": "https://localhost:8080/",
          "height": 402
        },
        "id": "SQ6pqif5w6q-",
        "outputId": "1463c6b3-6a90-46ad-8ab0-c549922e8c47"
      },
      "source": [
        "training_data=pd.read_csv(\"train.csv\")\r\n",
        "cleaning_dataset=training_data.dropna() #it drops the observations for NaN\r\n",
        "cleaning_dataset"
      ],
      "execution_count": null,
      "outputs": [
        {
          "output_type": "execute_result",
          "data": {
            "text/html": [
              "<div>\n",
              "<style scoped>\n",
              "    .dataframe tbody tr th:only-of-type {\n",
              "        vertical-align: middle;\n",
              "    }\n",
              "\n",
              "    .dataframe tbody tr th {\n",
              "        vertical-align: top;\n",
              "    }\n",
              "\n",
              "    .dataframe thead th {\n",
              "        text-align: right;\n",
              "    }\n",
              "</style>\n",
              "<table border=\"1\" class=\"dataframe\">\n",
              "  <thead>\n",
              "    <tr style=\"text-align: right;\">\n",
              "      <th></th>\n",
              "      <th>x</th>\n",
              "      <th>y</th>\n",
              "    </tr>\n",
              "  </thead>\n",
              "  <tbody>\n",
              "    <tr>\n",
              "      <th>0</th>\n",
              "      <td>24.0</td>\n",
              "      <td>21.549452</td>\n",
              "    </tr>\n",
              "    <tr>\n",
              "      <th>1</th>\n",
              "      <td>50.0</td>\n",
              "      <td>47.464463</td>\n",
              "    </tr>\n",
              "    <tr>\n",
              "      <th>2</th>\n",
              "      <td>15.0</td>\n",
              "      <td>17.218656</td>\n",
              "    </tr>\n",
              "    <tr>\n",
              "      <th>3</th>\n",
              "      <td>38.0</td>\n",
              "      <td>36.586398</td>\n",
              "    </tr>\n",
              "    <tr>\n",
              "      <th>4</th>\n",
              "      <td>87.0</td>\n",
              "      <td>87.288984</td>\n",
              "    </tr>\n",
              "    <tr>\n",
              "      <th>...</th>\n",
              "      <td>...</td>\n",
              "      <td>...</td>\n",
              "    </tr>\n",
              "    <tr>\n",
              "      <th>695</th>\n",
              "      <td>58.0</td>\n",
              "      <td>58.595006</td>\n",
              "    </tr>\n",
              "    <tr>\n",
              "      <th>696</th>\n",
              "      <td>93.0</td>\n",
              "      <td>94.625094</td>\n",
              "    </tr>\n",
              "    <tr>\n",
              "      <th>697</th>\n",
              "      <td>82.0</td>\n",
              "      <td>88.603770</td>\n",
              "    </tr>\n",
              "    <tr>\n",
              "      <th>698</th>\n",
              "      <td>66.0</td>\n",
              "      <td>63.648685</td>\n",
              "    </tr>\n",
              "    <tr>\n",
              "      <th>699</th>\n",
              "      <td>97.0</td>\n",
              "      <td>94.975266</td>\n",
              "    </tr>\n",
              "  </tbody>\n",
              "</table>\n",
              "<p>699 rows × 2 columns</p>\n",
              "</div>"
            ],
            "text/plain": [
              "        x          y\n",
              "0    24.0  21.549452\n",
              "1    50.0  47.464463\n",
              "2    15.0  17.218656\n",
              "3    38.0  36.586398\n",
              "4    87.0  87.288984\n",
              "..    ...        ...\n",
              "695  58.0  58.595006\n",
              "696  93.0  94.625094\n",
              "697  82.0  88.603770\n",
              "698  66.0  63.648685\n",
              "699  97.0  94.975266\n",
              "\n",
              "[699 rows x 2 columns]"
            ]
          },
          "metadata": {
            "tags": []
          },
          "execution_count": 19
        }
      ]
    },
    {
      "cell_type": "code",
      "metadata": {
        "id": "Rns7u-X0xuEg"
      },
      "source": [
        "x_train=cleaning_dataset['x']\r\n",
        "y_train=cleaning_dataset['y']"
      ],
      "execution_count": null,
      "outputs": []
    },
    {
      "cell_type": "code",
      "metadata": {
        "colab": {
          "base_uri": "https://localhost:8080/"
        },
        "id": "DvzbgiJ-x9im",
        "outputId": "1c35271c-d242-4a97-c84c-a80b720fb51f"
      },
      "source": [
        "x_train.shape"
      ],
      "execution_count": null,
      "outputs": [
        {
          "output_type": "execute_result",
          "data": {
            "text/plain": [
              "(699,)"
            ]
          },
          "metadata": {
            "tags": []
          },
          "execution_count": 23
        }
      ]
    },
    {
      "cell_type": "code",
      "metadata": {
        "id": "NsuFg9LeyXhp"
      },
      "source": [
        "x_value=x_train.values.reshape(x_train.size)\r\n",
        "y_value=y_train.values.reshape(y_train.size)"
      ],
      "execution_count": null,
      "outputs": []
    },
    {
      "cell_type": "code",
      "metadata": {
        "colab": {
          "base_uri": "https://localhost:8080/",
          "height": 1000
        },
        "id": "cDv1e0EzylcN",
        "outputId": "f23ba867-996c-4d43-c551-5df95a7e150d"
      },
      "source": [
        "#Training the model\r\n",
        "alpha=0.0001\r\n",
        "iter=50\r\n",
        "training(x_value,y_value,alpha,iter)"
      ],
      "execution_count": null,
      "outputs": [
        {
          "output_type": "stream",
          "text": [
            "New Theta values are : [0.004993986917045777, 0.33354245845185393]\n"
          ],
          "name": "stdout"
        },
        {
          "output_type": "display_data",
          "data": {
            "image/png": "[encoded data removed]",
            "text/plain": [
              "<Figure size 432x288 with 1 Axes>"
            ]
          },
          "metadata": {
            "tags": [],
            "needs_background": "light"
          }
        },
        {
          "output_type": "stream",
          "text": [
            "New Theta values are : [0.008319284972241507, 0.5557035214498389]\n",
            "New Theta values are : [0.010533127355656105, 0.7036773052035968]\n",
            "New Theta values are : [0.012006667742524584, 0.802237518771347]\n",
            "New Theta values are : [0.012987118705779474, 0.8678850693676076]\n",
            "New Theta values are : [0.01363913995457534, 0.9116106382126297]\n",
            "New Theta values are : [0.01407240560255935, 0.9407347363616418]\n",
            "New Theta values are : [0.014359965767857034, 0.9601333019877012]\n",
            "New Theta values are : [0.014550476597125737, 0.9730540281668936]\n",
            "New Theta values are : [0.014676346259828743, 0.9816600904650489]\n",
            "New Theta values are : [0.01475916071211147, 0.9873923049996323]\n"
          ],
          "name": "stdout"
        },
        {
          "output_type": "display_data",
          "data": {
            "image/png": "[encoded data removed]",
            "text/plain": [
              "<Figure size 432x288 with 1 Axes>"
            ]
          },
          "metadata": {
            "tags": [],
            "needs_background": "light"
          }
        },
        {
          "output_type": "stream",
          "text": [
            "New Theta values are : [0.014813297609683014, 0.9912103493470457]\n",
            "New Theta values are : [0.01484833340967559, 0.993753431411396]\n",
            "New Theta values are : [0.01487064665759465, 0.9954473053779638]\n",
            "New Theta values are : [0.014884485881074296, 0.9965755513231513]\n",
            "New Theta values are : [0.014892680876819898, 0.9973270520871346]\n",
            "New Theta values are : [0.01489711647413762, 0.9978276159698669]\n",
            "New Theta values are : [0.014899048092367667, 0.9981610395106341]\n",
            "New Theta values are : [0.014899311922731282, 0.9983831366740062]\n",
            "New Theta values are : [0.01489846492315943, 0.9985310832033687]\n",
            "New Theta values are : [0.014896878063986173, 0.9986296405702794]\n"
          ],
          "name": "stdout"
        },
        {
          "output_type": "display_data",
          "data": {
            "image/png": "[encoded data removed]",
            "text/plain": [
              "<Figure size 432x288 with 1 Axes>"
            ]
          },
          "metadata": {
            "tags": [],
            "needs_background": "light"
          }
        },
        {
          "output_type": "stream",
          "text": [
            "New Theta values are : [0.014894798435666618, 0.9986953015309791]\n",
            "New Theta values are : [0.01489239061657083, 0.9987390513376072]\n",
            "New Theta values are : [0.014889764226634673, 0.9987682068850972]\n",
            "New Theta values are : [0.014886992279889691, 0.9987876417030486]\n",
            "New Theta values are : [0.014884123408445882, 0.9988006018802705]\n",
            "New Theta values are : [0.014881190004462082, 0.9988092495237824]\n",
            "New Theta values are : [0.014878213643229672, 0.9988150247379799]\n",
            "New Theta values are : [0.014875208695300289, 0.9988188867263863]\n",
            "New Theta values are : [0.014872184732398647, 0.9988214743811554]\n",
            "New Theta values are : [0.014869148129917511, 0.9988232132461622]\n"
          ],
          "name": "stdout"
        },
        {
          "output_type": "display_data",
          "data": {
            "image/png": "[encoded data removed]",
            "text/plain": [
              "<Figure size 432x288 with 1 Axes>"
            ]
          },
          "metadata": {
            "tags": [],
            "needs_background": "light"
          }
        },
        {
          "output_type": "stream",
          "text": [
            "New Theta values are : [0.014866103134283944, 0.9988243867614027]\n",
            "New Theta values are : [0.014863052573894888, 0.9988251837164145]\n",
            "New Theta values are : [0.014859998332646675, 0.9988257298573517]\n",
            "New Theta values are : [0.014856941665336583, 0.9988261089393607]\n",
            "New Theta values are : [0.014853883407740857, 0.9988263767488356]\n",
            "New Theta values are : [0.014850824116540384, 0.998826570443156]\n",
            "New Theta values are : [0.014847764162520326, 0.9988267147715622]\n",
            "New Theta values are : [0.014844703792647162, 0.9988268262186631]\n",
            "New Theta values are : [0.014841643171416043, 0.998826915764285]\n",
            "New Theta values are : [0.014838582408390833, 0.9988269907217081]\n"
          ],
          "name": "stdout"
        },
        {
          "output_type": "display_data",
          "data": {
            "image/png": "[encoded data removed]",
            "text/plain": [
              "<Figure size 432x288 with 1 Axes>"
            ]
          },
          "metadata": {
            "tags": [],
            "needs_background": "light"
          }
        },
        {
          "output_type": "stream",
          "text": [
            "New Theta values are : [0.014835521576547574, 0.9988270559620549]\n",
            "New Theta values are : [0.014832460724492432, 0.9988271147298107]\n",
            "New Theta values are : [0.014829399884599642, 0.9988271691860144]\n",
            "New Theta values are : [0.014826339078431916, 0.9988272207700593]\n",
            "New Theta values are : [0.014823278320350786, 0.9988272704406749]\n",
            "New Theta values are : [0.014820217619921328, 0.9988273188364378]\n",
            "New Theta values are : [0.01481715698351386, 0.9988273663826819]\n",
            "New Theta values are : [0.014814096415370794, 0.9988274133627071]\n",
            "New Theta values are : [0.014811035918317205, 0.9988274599652097]\n"
          ],
          "name": "stdout"
        },
        {
          "output_type": "display_data",
          "data": {
            "image/png": "[encoded data removed]",
            "text/plain": [
              "<Figure size 432x288 with 1 Axes>"
            ]
          },
          "metadata": {
            "tags": [],
            "needs_background": "light"
          }
        }
      ]
    }
  ]
}