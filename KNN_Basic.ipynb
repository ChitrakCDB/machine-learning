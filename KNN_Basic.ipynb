{
  "nbformat": 4,
  "nbformat_minor": 0,
  "metadata": {
    "colab": {
      "name": "KNN Basic.ipynb",
      "provenance": [],
      "collapsed_sections": [],
      "authorship_tag": "ABX9TyPwK8cgClpOc2zJ90kN1mmR",
      "include_colab_link": true
    },
    "kernelspec": {
      "name": "python3",
      "display_name": "Python 3"
    }
  },
  "cells": [
    {
      "cell_type": "markdown",
      "metadata": {
        "id": "view-in-github",
        "colab_type": "text"
      },
      "source": [
        "<a href=\"https://colab.research.google.com/github/KiranTanwani/Machine-Learning/blob/main/KNN_Basic.ipynb\" target=\"_parent\"><img src=\"https://colab.research.google.com/assets/colab-badge.svg\" alt=\"Open In Colab\"/></a>"
      ]
    },
    {
      "cell_type": "code",
      "metadata": {
        "id": "0P2n6vgpNHaZ"
      },
      "source": [
        "#importing libraries\r\n",
        "import numpy as np #helps in mathematical operations\r\n",
        "import pandas as pd #helps in making dataframes and importing csv files\r\n",
        "import matplotlib.pyplot as plt #helps in plotting of graph\r\n",
        "import math"
      ],
      "execution_count": null,
      "outputs": []
    },
    {
      "cell_type": "code",
      "metadata": {
        "id": "gYp2hj1zNQeS"
      },
      "source": [
        "#getting the dataset from url\r\n",
        "url=\"https://archive.ics.uci.edu/ml/machine-learning-databases/iris/iris.data\"\r\n",
        "names=['sepal length','sepal width','petal length','petal width','class']\r\n",
        "dataset=pd.read_csv(url,names=names)"
      ],
      "execution_count": null,
      "outputs": []
    },
    {
      "cell_type": "code",
      "metadata": {
        "colab": {
          "base_uri": "https://localhost:8080/",
          "height": 195
        },
        "id": "aGuPv2BtNuDE",
        "outputId": "8ff4991e-2d3c-4b7d-acaa-2578eecdbc64"
      },
      "source": [
        "dataset.head()"
      ],
      "execution_count": null,
      "outputs": [
        {
          "output_type": "execute_result",
          "data": {
            "text/html": [
              "<div>\n",
              "<style scoped>\n",
              "    .dataframe tbody tr th:only-of-type {\n",
              "        vertical-align: middle;\n",
              "    }\n",
              "\n",
              "    .dataframe tbody tr th {\n",
              "        vertical-align: top;\n",
              "    }\n",
              "\n",
              "    .dataframe thead th {\n",
              "        text-align: right;\n",
              "    }\n",
              "</style>\n",
              "<table border=\"1\" class=\"dataframe\">\n",
              "  <thead>\n",
              "    <tr style=\"text-align: right;\">\n",
              "      <th></th>\n",
              "      <th>sepal length</th>\n",
              "      <th>sepal width</th>\n",
              "      <th>petal length</th>\n",
              "      <th>petal width</th>\n",
              "      <th>class</th>\n",
              "    </tr>\n",
              "  </thead>\n",
              "  <tbody>\n",
              "    <tr>\n",
              "      <th>0</th>\n",
              "      <td>5.1</td>\n",
              "      <td>3.5</td>\n",
              "      <td>1.4</td>\n",
              "      <td>0.2</td>\n",
              "      <td>Iris-setosa</td>\n",
              "    </tr>\n",
              "    <tr>\n",
              "      <th>1</th>\n",
              "      <td>4.9</td>\n",
              "      <td>3.0</td>\n",
              "      <td>1.4</td>\n",
              "      <td>0.2</td>\n",
              "      <td>Iris-setosa</td>\n",
              "    </tr>\n",
              "    <tr>\n",
              "      <th>2</th>\n",
              "      <td>4.7</td>\n",
              "      <td>3.2</td>\n",
              "      <td>1.3</td>\n",
              "      <td>0.2</td>\n",
              "      <td>Iris-setosa</td>\n",
              "    </tr>\n",
              "    <tr>\n",
              "      <th>3</th>\n",
              "      <td>4.6</td>\n",
              "      <td>3.1</td>\n",
              "      <td>1.5</td>\n",
              "      <td>0.2</td>\n",
              "      <td>Iris-setosa</td>\n",
              "    </tr>\n",
              "    <tr>\n",
              "      <th>4</th>\n",
              "      <td>5.0</td>\n",
              "      <td>3.6</td>\n",
              "      <td>1.4</td>\n",
              "      <td>0.2</td>\n",
              "      <td>Iris-setosa</td>\n",
              "    </tr>\n",
              "  </tbody>\n",
              "</table>\n",
              "</div>"
            ],
            "text/plain": [
              "   sepal length  sepal width  petal length  petal width        class\n",
              "0           5.1          3.5           1.4          0.2  Iris-setosa\n",
              "1           4.9          3.0           1.4          0.2  Iris-setosa\n",
              "2           4.7          3.2           1.3          0.2  Iris-setosa\n",
              "3           4.6          3.1           1.5          0.2  Iris-setosa\n",
              "4           5.0          3.6           1.4          0.2  Iris-setosa"
            ]
          },
          "metadata": {
            "tags": []
          },
          "execution_count": 4
        }
      ]
    },
    {
      "cell_type": "code",
      "metadata": {
        "colab": {
          "base_uri": "https://localhost:8080/"
        },
        "id": "dSdxZzTFOGUB",
        "outputId": "0dc4f55e-6bfd-4d81-a251-80b6bbbb3e5e"
      },
      "source": [
        "dataset.shape"
      ],
      "execution_count": null,
      "outputs": [
        {
          "output_type": "execute_result",
          "data": {
            "text/plain": [
              "(150, 5)"
            ]
          },
          "metadata": {
            "tags": []
          },
          "execution_count": 5
        }
      ]
    },
    {
      "cell_type": "code",
      "metadata": {
        "id": "AiosoFGVOazP"
      },
      "source": [
        "#making the training dataset , coverting to array\r\n",
        "training=dataset.values[:,0:4]"
      ],
      "execution_count": null,
      "outputs": []
    },
    {
      "cell_type": "code",
      "metadata": {
        "colab": {
          "base_uri": "https://localhost:8080/"
        },
        "id": "jjLGDO7-Otcu",
        "outputId": "caf0b9af-a157-4869-855d-2f8488dbeb3c"
      },
      "source": [
        "training.shape"
      ],
      "execution_count": null,
      "outputs": [
        {
          "output_type": "execute_result",
          "data": {
            "text/plain": [
              "(150, 4)"
            ]
          },
          "metadata": {
            "tags": []
          },
          "execution_count": 7
        }
      ]
    },
    {
      "cell_type": "code",
      "metadata": {
        "colab": {
          "base_uri": "https://localhost:8080/"
        },
        "id": "_6bwDZnzO1DI",
        "outputId": "9be851cb-4884-4ea3-ca4c-c8862dca6418"
      },
      "source": [
        "#Getting the Class\r\n",
        "trainingClass=dataset.values[:,-1]\r\n",
        "trainingClass"
      ],
      "execution_count": null,
      "outputs": [
        {
          "output_type": "execute_result",
          "data": {
            "text/plain": [
              "array(['Iris-setosa', 'Iris-setosa', 'Iris-setosa', 'Iris-setosa',\n",
              "       'Iris-setosa', 'Iris-setosa', 'Iris-setosa', 'Iris-setosa',\n",
              "       'Iris-setosa', 'Iris-setosa', 'Iris-setosa', 'Iris-setosa',\n",
              "       'Iris-setosa', 'Iris-setosa', 'Iris-setosa', 'Iris-setosa',\n",
              "       'Iris-setosa', 'Iris-setosa', 'Iris-setosa', 'Iris-setosa',\n",
              "       'Iris-setosa', 'Iris-setosa', 'Iris-setosa', 'Iris-setosa',\n",
              "       'Iris-setosa', 'Iris-setosa', 'Iris-setosa', 'Iris-setosa',\n",
              "       'Iris-setosa', 'Iris-setosa', 'Iris-setosa', 'Iris-setosa',\n",
              "       'Iris-setosa', 'Iris-setosa', 'Iris-setosa', 'Iris-setosa',\n",
              "       'Iris-setosa', 'Iris-setosa', 'Iris-setosa', 'Iris-setosa',\n",
              "       'Iris-setosa', 'Iris-setosa', 'Iris-setosa', 'Iris-setosa',\n",
              "       'Iris-setosa', 'Iris-setosa', 'Iris-setosa', 'Iris-setosa',\n",
              "       'Iris-setosa', 'Iris-setosa', 'Iris-versicolor', 'Iris-versicolor',\n",
              "       'Iris-versicolor', 'Iris-versicolor', 'Iris-versicolor',\n",
              "       'Iris-versicolor', 'Iris-versicolor', 'Iris-versicolor',\n",
              "       'Iris-versicolor', 'Iris-versicolor', 'Iris-versicolor',\n",
              "       'Iris-versicolor', 'Iris-versicolor', 'Iris-versicolor',\n",
              "       'Iris-versicolor', 'Iris-versicolor', 'Iris-versicolor',\n",
              "       'Iris-versicolor', 'Iris-versicolor', 'Iris-versicolor',\n",
              "       'Iris-versicolor', 'Iris-versicolor', 'Iris-versicolor',\n",
              "       'Iris-versicolor', 'Iris-versicolor', 'Iris-versicolor',\n",
              "       'Iris-versicolor', 'Iris-versicolor', 'Iris-versicolor',\n",
              "       'Iris-versicolor', 'Iris-versicolor', 'Iris-versicolor',\n",
              "       'Iris-versicolor', 'Iris-versicolor', 'Iris-versicolor',\n",
              "       'Iris-versicolor', 'Iris-versicolor', 'Iris-versicolor',\n",
              "       'Iris-versicolor', 'Iris-versicolor', 'Iris-versicolor',\n",
              "       'Iris-versicolor', 'Iris-versicolor', 'Iris-versicolor',\n",
              "       'Iris-versicolor', 'Iris-versicolor', 'Iris-versicolor',\n",
              "       'Iris-versicolor', 'Iris-versicolor', 'Iris-versicolor',\n",
              "       'Iris-virginica', 'Iris-virginica', 'Iris-virginica',\n",
              "       'Iris-virginica', 'Iris-virginica', 'Iris-virginica',\n",
              "       'Iris-virginica', 'Iris-virginica', 'Iris-virginica',\n",
              "       'Iris-virginica', 'Iris-virginica', 'Iris-virginica',\n",
              "       'Iris-virginica', 'Iris-virginica', 'Iris-virginica',\n",
              "       'Iris-virginica', 'Iris-virginica', 'Iris-virginica',\n",
              "       'Iris-virginica', 'Iris-virginica', 'Iris-virginica',\n",
              "       'Iris-virginica', 'Iris-virginica', 'Iris-virginica',\n",
              "       'Iris-virginica', 'Iris-virginica', 'Iris-virginica',\n",
              "       'Iris-virginica', 'Iris-virginica', 'Iris-virginica',\n",
              "       'Iris-virginica', 'Iris-virginica', 'Iris-virginica',\n",
              "       'Iris-virginica', 'Iris-virginica', 'Iris-virginica',\n",
              "       'Iris-virginica', 'Iris-virginica', 'Iris-virginica',\n",
              "       'Iris-virginica', 'Iris-virginica', 'Iris-virginica',\n",
              "       'Iris-virginica', 'Iris-virginica', 'Iris-virginica',\n",
              "       'Iris-virginica', 'Iris-virginica', 'Iris-virginica',\n",
              "       'Iris-virginica', 'Iris-virginica'], dtype=object)"
            ]
          },
          "metadata": {
            "tags": []
          },
          "execution_count": 8
        }
      ]
    },
    {
      "cell_type": "code",
      "metadata": {
        "id": "zJpp9fPKPBNe"
      },
      "source": [
        "#Defining the euclidean distance calculator function\r\n",
        "def euclidean_distance(row1,row2):\r\n",
        "  distance=0.0\r\n",
        "  for i in range(len(row1)):\r\n",
        "    distance+=(row1[i]-row2[i])**2\r\n",
        "  return math.sqrt(distance)"
      ],
      "execution_count": null,
      "outputs": []
    },
    {
      "cell_type": "code",
      "metadata": {
        "colab": {
          "base_uri": "https://localhost:8080/"
        },
        "id": "NNgfAcivP0ed",
        "outputId": "2180272c-4c16-44f2-9ded-8d15950e2321"
      },
      "source": [
        "# to convert the categorical values to numerical values.\r\n",
        "unique_list=[]\r\n",
        "for x in trainingClass:\r\n",
        "  if x not in unique_list:\r\n",
        "    unique_list.append(x)\r\n",
        "\r\n",
        "print(unique_list)\r\n",
        "\r\n",
        "for i in range(len(trainingClass)):\r\n",
        "  for k in range(len(unique_list)):\r\n",
        "    if trainingClass[i]==unique_list[k]:\r\n",
        "      trainingClass[i]=k\r\n",
        "\r\n",
        "print(trainingClass)\r\n"
      ],
      "execution_count": null,
      "outputs": [
        {
          "output_type": "stream",
          "text": [
            "['Iris-setosa', 'Iris-versicolor', 'Iris-virginica']\n",
            "[0 0 0 0 0 0 0 0 0 0 0 0 0 0 0 0 0 0 0 0 0 0 0 0 0 0 0 0 0 0 0 0 0 0 0 0 0\n",
            " 0 0 0 0 0 0 0 0 0 0 0 0 0 1 1 1 1 1 1 1 1 1 1 1 1 1 1 1 1 1 1 1 1 1 1 1 1\n",
            " 1 1 1 1 1 1 1 1 1 1 1 1 1 1 1 1 1 1 1 1 1 1 1 1 1 1 2 2 2 2 2 2 2 2 2 2 2\n",
            " 2 2 2 2 2 2 2 2 2 2 2 2 2 2 2 2 2 2 2 2 2 2 2 2 2 2 2 2 2 2 2 2 2 2 2 2 2\n",
            " 2 2]\n"
          ],
          "name": "stdout"
        }
      ]
    },
    {
      "cell_type": "code",
      "metadata": {
        "colab": {
          "base_uri": "https://localhost:8080/"
        },
        "id": "a-2YKrXjQeTf",
        "outputId": "a32da68a-cd18-43a8-c24a-16254ce55ceb"
      },
      "source": [
        "#Calculating the distance of test point from other data points\r\n",
        "distance=[]\r\n",
        "for i in range(len(training)):\r\n",
        "  distance.append([euclidean_distance(training[i],training[52]),trainingClass[i]])\r\n",
        "print(distance)"
      ],
      "execution_count": null,
      "outputs": [
        {
          "output_type": "stream",
          "text": [
            "[[4.164132562731403, 0], [4.236744032862973, 0], [4.415880433163924, 0], [4.305810028322198, 0], [4.219004621945798, 0], [3.786819245752298, 0], [4.366921112179611, 0], [4.117037770047781, 0], [4.497777228809804, 0], [4.1856899072912706, 0], [3.9824615503479754, 0], [4.132795663954366, 0], [4.316248370981448, 0], [4.813522618623497, 0], [4.171330722922843, 0], [3.9874804074753776, 0], [4.130375285612677, 0], [4.134005321718878, 0], [3.6891733491393435, 0], [4.090232267243512, 0], [3.7775653535048206, 0], [4.045985664828782, 0], [4.737087712930806, 0], [3.8105117766515306, 0], [3.897435053981016, 0], [4.024922359499622, 0], [3.9749213828703587, 0], [4.037325847637271, 0], [4.113392760240627, 0], [4.174925149029621, 0], [4.12189276910499, 0], [3.8871583451153624, 0], [4.172529209005013, 0], [4.136423575989288, 0], [4.1856899072912706, 0], [4.358898943540674, 0], [4.095119045888655, 0], [4.1856899072912706, 0], [4.572745346069471, 0], [4.0718546143004675, 0], [4.262628297189424, 0], [4.560701700396553, 0], [4.572745346069471, 0], [3.9331920878594278, 0], [3.7336309405188945, 0], [4.2555845661906435, 0], [4.038564101261735, 0], [4.386342439892263, 0], [4.021193852576621, 0], [4.194043395102154, 0], [0.26457513110645914, 1], [0.6480740698407862, 1], [0.0, 1], [1.8574175621006714, 1], [0.5830951894845308, 1], [1.315294643796591, 1], [0.6708203932499374, 1], [2.7018512172212596, 1], [0.5099019513592794, 1], [2.014944167960989, 1], [2.651414716712571, 1], [1.2247448713915892, 1], [1.6370705543744903, 1], [0.8544003745317538, 1], [1.860107523773828, 1], [0.5477225575051662, 1], [1.3638181696985865, 1], [1.5033296378372916, 1], [1.2083045973594573, 1], [1.7916472867168924, 1], [1.0535653752852738, 1], [1.2569805089976542, 1], [0.8485281374238575, 1], [0.9273618495495711, 1], [0.830662386291808, 1], [0.6000000000000003, 1], [0.346410161513776, 1], [0.31622776601683794, 1], [1.0049875621120894, 1], [1.9748417658131503, 1], [1.954482028569207, 1], [2.034698994937581, 1], [1.5684387141358127, 1], [1.0099504938362078, 1], [1.5556349186104046, 1], [1.0344080432788605, 1], [0.2828427124746193, 1], [1.1357816691600553, 1], [1.5427248620541523, 1], [1.7804493814764861, 1], [1.5968719422671314, 1], [0.8660254037844396, 1], [1.5362291495737221, 1], [2.6570660511172854, 1], [1.5427248620541518, 1], [1.4247806848775009, 1], [1.4177446878757827, 1], [0.964365076099296, 1], [2.7147743920996463, 1], [1.486606874731851, 1], [1.6155494421403511, 2], [1.2529964086141672, 2], [1.1874342087037917, 2], [0.9899494936611664, 2], [1.212435565298214, 2], [1.9364916731037076, 2], [2.1354156504062622, 2], [1.4999999999999993, 2], [1.1401754250991376, 2], [1.6673332000533063, 2], [0.6782329983125268, 2], [0.8544003745317528, 2], [0.8602325267042625, 2], [1.4352700094407325, 2], [1.4662878298615183, 2], [1.0295630140986995, 2], [0.787400787401181, 2], [2.20454076850486, 2], [2.351595203260969, 2], [1.2767145334803707, 2], [1.1357816691600544, 2], [1.4247806848775015, 2], [2.0542638584174133, 2], [0.7810249675906658, 2], [1.0392304845413263, 2], [1.183215956619923, 2], [0.8246211251235325, 2], [0.8602325267042633, 2], [1.090871211463571, 2], [0.9591663046625434, 2], [1.3928388277184114, 2], [1.9974984355438177, 2], [1.1489125293076055, 2], [0.7000000000000004, 2], [1.1789826122551597, 2], [1.6522711641858299, 2], [1.3228756555322951, 2], [0.8366600265340753, 2], [0.9591663046625444, 2], [0.7810249675906655, 2], [1.1575836902790222, 2], [0.8246211251235317, 2], [1.2529964086141672, 2], [1.2884098726725124, 2], [1.3114877048604001, 2], [0.8831760866327845, 2], [0.9433981132056607, 2], [0.7141428428542852, 2], [1.212435565298214, 2], [1.0677078252031311, 2]]\n"
          ],
          "name": "stdout"
        }
      ]
    },
    {
      "cell_type": "code",
      "metadata": {
        "colab": {
          "base_uri": "https://localhost:8080/"
        },
        "id": "cEWOWiJwSWs4",
        "outputId": "4163e377-ab3a-4fe1-8bc3-7ca30bbaac6f"
      },
      "source": [
        "len(distance)"
      ],
      "execution_count": null,
      "outputs": [
        {
          "output_type": "execute_result",
          "data": {
            "text/plain": [
              "150"
            ]
          },
          "metadata": {
            "tags": []
          },
          "execution_count": 22
        }
      ]
    },
    {
      "cell_type": "code",
      "metadata": {
        "colab": {
          "base_uri": "https://localhost:8080/"
        },
        "id": "EbpqwZEjSg-P",
        "outputId": "9f232f60-e5c9-4908-994d-2c63144f1c7c"
      },
      "source": [
        "#Sorting the distance\r\n",
        "distance.sort()\r\n",
        "distance"
      ],
      "execution_count": null,
      "outputs": [
        {
          "output_type": "execute_result",
          "data": {
            "text/plain": [
              "[[0.0, 1],\n",
              " [0.26457513110645914, 1],\n",
              " [0.2828427124746193, 1],\n",
              " [0.31622776601683794, 1],\n",
              " [0.346410161513776, 1],\n",
              " [0.5099019513592794, 1],\n",
              " [0.5477225575051662, 1],\n",
              " [0.5830951894845308, 1],\n",
              " [0.6000000000000003, 1],\n",
              " [0.6480740698407862, 1],\n",
              " [0.6708203932499374, 1],\n",
              " [0.6782329983125268, 2],\n",
              " [0.7000000000000004, 2],\n",
              " [0.7141428428542852, 2],\n",
              " [0.7810249675906655, 2],\n",
              " [0.7810249675906658, 2],\n",
              " [0.787400787401181, 2],\n",
              " [0.8246211251235317, 2],\n",
              " [0.8246211251235325, 2],\n",
              " [0.830662386291808, 1],\n",
              " [0.8366600265340753, 2],\n",
              " [0.8485281374238575, 1],\n",
              " [0.8544003745317528, 2],\n",
              " [0.8544003745317538, 1],\n",
              " [0.8602325267042625, 2],\n",
              " [0.8602325267042633, 2],\n",
              " [0.8660254037844396, 1],\n",
              " [0.8831760866327845, 2],\n",
              " [0.9273618495495711, 1],\n",
              " [0.9433981132056607, 2],\n",
              " [0.9591663046625434, 2],\n",
              " [0.9591663046625444, 2],\n",
              " [0.964365076099296, 1],\n",
              " [0.9899494936611664, 2],\n",
              " [1.0049875621120894, 1],\n",
              " [1.0099504938362078, 1],\n",
              " [1.0295630140986995, 2],\n",
              " [1.0344080432788605, 1],\n",
              " [1.0392304845413263, 2],\n",
              " [1.0535653752852738, 1],\n",
              " [1.0677078252031311, 2],\n",
              " [1.090871211463571, 2],\n",
              " [1.1357816691600544, 2],\n",
              " [1.1357816691600553, 1],\n",
              " [1.1401754250991376, 2],\n",
              " [1.1489125293076055, 2],\n",
              " [1.1575836902790222, 2],\n",
              " [1.1789826122551597, 2],\n",
              " [1.183215956619923, 2],\n",
              " [1.1874342087037917, 2],\n",
              " [1.2083045973594573, 1],\n",
              " [1.212435565298214, 2],\n",
              " [1.212435565298214, 2],\n",
              " [1.2247448713915892, 1],\n",
              " [1.2529964086141672, 2],\n",
              " [1.2529964086141672, 2],\n",
              " [1.2569805089976542, 1],\n",
              " [1.2767145334803707, 2],\n",
              " [1.2884098726725124, 2],\n",
              " [1.3114877048604001, 2],\n",
              " [1.315294643796591, 1],\n",
              " [1.3228756555322951, 2],\n",
              " [1.3638181696985865, 1],\n",
              " [1.3928388277184114, 2],\n",
              " [1.4177446878757827, 1],\n",
              " [1.4247806848775009, 1],\n",
              " [1.4247806848775015, 2],\n",
              " [1.4352700094407325, 2],\n",
              " [1.4662878298615183, 2],\n",
              " [1.486606874731851, 1],\n",
              " [1.4999999999999993, 2],\n",
              " [1.5033296378372916, 1],\n",
              " [1.5362291495737221, 1],\n",
              " [1.5427248620541518, 1],\n",
              " [1.5427248620541523, 1],\n",
              " [1.5556349186104046, 1],\n",
              " [1.5684387141358127, 1],\n",
              " [1.5968719422671314, 1],\n",
              " [1.6155494421403511, 2],\n",
              " [1.6370705543744903, 1],\n",
              " [1.6522711641858299, 2],\n",
              " [1.6673332000533063, 2],\n",
              " [1.7804493814764861, 1],\n",
              " [1.7916472867168924, 1],\n",
              " [1.8574175621006714, 1],\n",
              " [1.860107523773828, 1],\n",
              " [1.9364916731037076, 2],\n",
              " [1.954482028569207, 1],\n",
              " [1.9748417658131503, 1],\n",
              " [1.9974984355438177, 2],\n",
              " [2.014944167960989, 1],\n",
              " [2.034698994937581, 1],\n",
              " [2.0542638584174133, 2],\n",
              " [2.1354156504062622, 2],\n",
              " [2.20454076850486, 2],\n",
              " [2.351595203260969, 2],\n",
              " [2.651414716712571, 1],\n",
              " [2.6570660511172854, 1],\n",
              " [2.7018512172212596, 1],\n",
              " [2.7147743920996463, 1],\n",
              " [3.6891733491393435, 0],\n",
              " [3.7336309405188945, 0],\n",
              " [3.7775653535048206, 0],\n",
              " [3.786819245752298, 0],\n",
              " [3.8105117766515306, 0],\n",
              " [3.8871583451153624, 0],\n",
              " [3.897435053981016, 0],\n",
              " [3.9331920878594278, 0],\n",
              " [3.9749213828703587, 0],\n",
              " [3.9824615503479754, 0],\n",
              " [3.9874804074753776, 0],\n",
              " [4.021193852576621, 0],\n",
              " [4.024922359499622, 0],\n",
              " [4.037325847637271, 0],\n",
              " [4.038564101261735, 0],\n",
              " [4.045985664828782, 0],\n",
              " [4.0718546143004675, 0],\n",
              " [4.090232267243512, 0],\n",
              " [4.095119045888655, 0],\n",
              " [4.113392760240627, 0],\n",
              " [4.117037770047781, 0],\n",
              " [4.12189276910499, 0],\n",
              " [4.130375285612677, 0],\n",
              " [4.132795663954366, 0],\n",
              " [4.134005321718878, 0],\n",
              " [4.136423575989288, 0],\n",
              " [4.164132562731403, 0],\n",
              " [4.171330722922843, 0],\n",
              " [4.172529209005013, 0],\n",
              " [4.174925149029621, 0],\n",
              " [4.1856899072912706, 0],\n",
              " [4.1856899072912706, 0],\n",
              " [4.1856899072912706, 0],\n",
              " [4.194043395102154, 0],\n",
              " [4.219004621945798, 0],\n",
              " [4.236744032862973, 0],\n",
              " [4.2555845661906435, 0],\n",
              " [4.262628297189424, 0],\n",
              " [4.305810028322198, 0],\n",
              " [4.316248370981448, 0],\n",
              " [4.358898943540674, 0],\n",
              " [4.366921112179611, 0],\n",
              " [4.386342439892263, 0],\n",
              " [4.415880433163924, 0],\n",
              " [4.497777228809804, 0],\n",
              " [4.560701700396553, 0],\n",
              " [4.572745346069471, 0],\n",
              " [4.572745346069471, 0],\n",
              " [4.737087712930806, 0],\n",
              " [4.813522618623497, 0]]"
            ]
          },
          "metadata": {
            "tags": []
          },
          "execution_count": 23
        }
      ]
    },
    {
      "cell_type": "code",
      "metadata": {
        "id": "1JHygCFMTU8B"
      },
      "source": [
        "nearest_neighbour=5"
      ],
      "execution_count": null,
      "outputs": []
    },
    {
      "cell_type": "code",
      "metadata": {
        "colab": {
          "base_uri": "https://localhost:8080/"
        },
        "id": "c6LPcRgaToCU",
        "outputId": "db8a1f40-22a9-4398-9d04-e13d5f3b04c8"
      },
      "source": [
        "#Identifiny the class by taking the maximum closet value\r\n",
        "identify=[0 for i in range(len(unique_list))]\r\n",
        "for i in range(nearest_neighbour):\r\n",
        "  identify[distance[i][1]]=identify[distance[i][1]]+1\r\n",
        "\r\n",
        "print(identify)"
      ],
      "execution_count": null,
      "outputs": [
        {
          "output_type": "stream",
          "text": [
            "[0, 5, 0]\n"
          ],
          "name": "stdout"
        }
      ]
    },
    {
      "cell_type": "code",
      "metadata": {
        "colab": {
          "base_uri": "https://localhost:8080/"
        },
        "id": "Vuu9o5DqUj6V",
        "outputId": "bf264acf-a63c-4e88-ef01-58cd8ccce6e7"
      },
      "source": [
        "unique_list"
      ],
      "execution_count": null,
      "outputs": [
        {
          "output_type": "execute_result",
          "data": {
            "text/plain": [
              "['Iris-setosa', 'Iris-versicolor', 'Iris-virginica']"
            ]
          },
          "metadata": {
            "tags": []
          },
          "execution_count": 26
        }
      ]
    },
    {
      "cell_type": "code",
      "metadata": {
        "colab": {
          "base_uri": "https://localhost:8080/"
        },
        "id": "4zHXCm1dUze7",
        "outputId": "92a40079-4f21-4d29-c73f-98ae15ef4ea4"
      },
      "source": [
        "print(\"The predicted class is :\",unique_list[identify.index(max(identify))])"
      ],
      "execution_count": null,
      "outputs": [
        {
          "output_type": "stream",
          "text": [
            "The predicted class is : Iris-versicolor\n"
          ],
          "name": "stdout"
        }
      ]
    },
    {
      "cell_type": "code",
      "metadata": {
        "id": "ChDlZZgNVFNh"
      },
      "source": [
        ""
      ],
      "execution_count": null,
      "outputs": []
    }
  ]
}