{
  "nbformat": 4,
  "nbformat_minor": 0,
  "metadata": {
    "colab": {
      "name": "Assignment1-ML.ipynb",
      "provenance": [],
      "authorship_tag": "ABX9TyP0fCQftzy9EQVTU9KiLfID",
      "include_colab_link": true
    },
    "kernelspec": {
      "name": "python3",
      "display_name": "Python 3"
    }
  },
  "cells": [
    {
      "cell_type": "markdown",
      "metadata": {
        "id": "view-in-github",
        "colab_type": "text"
      },
      "source": [
        "<a href=\"https://colab.research.google.com/github/KiranTanwani/Machine-Learning/blob/main/Assignment1_ML.ipynb\" target=\"_parent\"><img src=\"https://colab.research.google.com/assets/colab-badge.svg\" alt=\"Open In Colab\"/></a>"
      ]
    },
    {
      "cell_type": "markdown",
      "metadata": {
        "id": "UdnUSzKBw0k0"
      },
      "source": [
        "**Classification** of the Instant Liking of a Deodrant based on the given 60 features. Some of them are:\r\n",
        "\r\n",
        "1.) Personal Opinion of People\r\n",
        "\r\n",
        "---\r\n",
        "\r\n",
        "\r\n",
        "2.) Strength of Deodrant\r\n",
        "\r\n",
        "---\r\n",
        "\r\n",
        "\r\n",
        "3.) Bottles Owned by people\r\n",
        "\r\n",
        "---\r\n",
        "\r\n",
        "\r\n",
        "4.) Artificial Chemical used in the Deodrant."
      ]
    },
    {
      "cell_type": "code",
      "metadata": {
        "id": "KGSdsY73I2rs"
      },
      "source": [
        "import numpy as np\r\n",
        "import matplotlib.pyplot as plt\r\n",
        "import pandas as pd"
      ],
      "execution_count": null,
      "outputs": []
    },
    {
      "cell_type": "code",
      "metadata": {
        "id": "xZHm9aEKJAf6"
      },
      "source": [
        "from google.colab import drive #to import google drive data"
      ],
      "execution_count": null,
      "outputs": []
    },
    {
      "cell_type": "code",
      "metadata": {
        "colab": {
          "base_uri": "https://localhost:8080/"
        },
        "id": "XNUSBP28JEQy",
        "outputId": "7434fb1f-9f26-4d62-91f0-060330fafeb5"
      },
      "source": [
        "drive.mount('/content/drive')"
      ],
      "execution_count": null,
      "outputs": [
        {
          "output_type": "stream",
          "text": [
            "Mounted at /content/drive\n"
          ],
          "name": "stdout"
        }
      ]
    },
    {
      "cell_type": "code",
      "metadata": {
        "colab": {
          "base_uri": "https://localhost:8080/"
        },
        "id": "Oqr5jazmJIRQ",
        "outputId": "d2bef388-68bd-4cbf-cc7f-f06a58fc43eb"
      },
      "source": [
        "cd /content/drive/\"My Drive/Colab Notebooks/Linear Regression\""
      ],
      "execution_count": null,
      "outputs": [
        {
          "output_type": "stream",
          "text": [
            "/content/drive/My Drive/Colab Notebooks/Linear Regression\n"
          ],
          "name": "stdout"
        }
      ]
    },
    {
      "cell_type": "code",
      "metadata": {
        "colab": {
          "base_uri": "https://localhost:8080/"
        },
        "id": "Ef8zkzGiJRe2",
        "outputId": "fd63166f-cb62-4246-c3ea-0c617bd6233b"
      },
      "source": [
        "#Reading the csv file\r\n",
        "dataset=pd.read_csv(\"Data_train_reduced.csv\")\r\n",
        "print(dataset)"
      ],
      "execution_count": null,
      "outputs": [
        {
          "output_type": "stream",
          "text": [
            "      Respondent.ID  ...  s13b.bottles.of.Deodorant.do.you.currently.own\n",
            "0              3800  ...                                               3\n",
            "1              3801  ...                                               4\n",
            "2              3802  ...                                               2\n",
            "3              3803  ...                                               3\n",
            "4              3804  ...                                               3\n",
            "...             ...  ...                                             ...\n",
            "2495           5695  ...                                               3\n",
            "2496           5696  ...                                               2\n",
            "2497           5697  ...                                               5\n",
            "2498           5698  ...                                               4\n",
            "2499           5699  ...                                               1\n",
            "\n",
            "[2500 rows x 64 columns]\n"
          ],
          "name": "stdout"
        }
      ]
    },
    {
      "cell_type": "code",
      "metadata": {
        "colab": {
          "base_uri": "https://localhost:8080/"
        },
        "id": "kfEJ4P3OJpB2",
        "outputId": "409a963d-f74a-4e49-9234-fb048420d3c9"
      },
      "source": [
        "dataset.shape"
      ],
      "execution_count": null,
      "outputs": [
        {
          "output_type": "execute_result",
          "data": {
            "text/plain": [
              "(2500, 64)"
            ]
          },
          "metadata": {
            "tags": []
          },
          "execution_count": 6
        }
      ]
    },
    {
      "cell_type": "code",
      "metadata": {
        "colab": {
          "base_uri": "https://localhost:8080/",
          "height": 304
        },
        "id": "83vQwT7vJvxx",
        "outputId": "1cdb0345-8a24-4e79-da22-9abe780535a6"
      },
      "source": [
        "#Seeing the overall values of the features.\r\n",
        "dataset.describe()"
      ],
      "execution_count": null,
      "outputs": [
        {
          "output_type": "execute_result",
          "data": {
            "text/html": [
              "<div>\n",
              "<style scoped>\n",
              "    .dataframe tbody tr th:only-of-type {\n",
              "        vertical-align: middle;\n",
              "    }\n",
              "\n",
              "    .dataframe tbody tr th {\n",
              "        vertical-align: top;\n",
              "    }\n",
              "\n",
              "    .dataframe thead th {\n",
              "        text-align: right;\n",
              "    }\n",
              "</style>\n",
              "<table border=\"1\" class=\"dataframe\">\n",
              "  <thead>\n",
              "    <tr style=\"text-align: right;\">\n",
              "      <th></th>\n",
              "      <th>Respondent.ID</th>\n",
              "      <th>Product.ID</th>\n",
              "      <th>Instant.Liking</th>\n",
              "      <th>q1_1.personal.opinion.of.this.Deodorant</th>\n",
              "      <th>q2_all.words</th>\n",
              "      <th>q3_1.strength.of.the.Deodorant</th>\n",
              "      <th>q4_1.artificial.chemical</th>\n",
              "      <th>q4_2.attractive</th>\n",
              "      <th>q4_3.bold</th>\n",
              "      <th>q4_4.boring</th>\n",
              "      <th>q4_5.casual</th>\n",
              "      <th>q4_6.cheap</th>\n",
              "      <th>q4_7.clean</th>\n",
              "      <th>q4_8.easy.to.wear</th>\n",
              "      <th>q4_9.elegant</th>\n",
              "      <th>q4_10.feminine</th>\n",
              "      <th>q4_11.for.someone.like.me</th>\n",
              "      <th>q4_12.heavy</th>\n",
              "      <th>q4_13.high.quality</th>\n",
              "      <th>q4_14.long.lasting</th>\n",
              "      <th>q4_15.masculine</th>\n",
              "      <th>q4_16.memorable</th>\n",
              "      <th>q4_17.natural</th>\n",
              "      <th>q4_18.old.fashioned</th>\n",
              "      <th>q4_19.ordinary</th>\n",
              "      <th>q4_20.overpowering</th>\n",
              "      <th>q4_21.sharp</th>\n",
              "      <th>q4_22.sophisticated</th>\n",
              "      <th>q4_23.upscale</th>\n",
              "      <th>q4_24.well.rounded</th>\n",
              "      <th>q5_1.Deodorant.is.addictive</th>\n",
              "      <th>q7</th>\n",
              "      <th>q8.1</th>\n",
              "      <th>q8.2</th>\n",
              "      <th>q8.5</th>\n",
              "      <th>q8.6</th>\n",
              "      <th>q8.7</th>\n",
              "      <th>q8.8</th>\n",
              "      <th>q8.9</th>\n",
              "      <th>q8.10</th>\n",
              "      <th>q8.11</th>\n",
              "      <th>q8.12</th>\n",
              "      <th>q8.13</th>\n",
              "      <th>q8.17</th>\n",
              "      <th>q8.18</th>\n",
              "      <th>q8.19</th>\n",
              "      <th>q8.20</th>\n",
              "      <th>q9.how.likely.would.you.be.to.purchase.this.Deodorant</th>\n",
              "      <th>q10.prefer.this.Deodorant.or.your.usual.Deodorant</th>\n",
              "      <th>q11.time.of.day.would.this.Deodorant.be.appropriate</th>\n",
              "      <th>q12.which.occasions.would.this.Deodorant.be.appropriate</th>\n",
              "      <th>Q13_Liking.after.30.minutes</th>\n",
              "      <th>q14.Deodorant.overall.on.a.scale.from.1.to.10</th>\n",
              "      <th>ValSegb</th>\n",
              "      <th>s7.involved.in.the.selection.of.the.cosmetic.products</th>\n",
              "      <th>s8.ethnic.background</th>\n",
              "      <th>s9.education</th>\n",
              "      <th>s10.income</th>\n",
              "      <th>s11.marital.status</th>\n",
              "      <th>s12.working.status</th>\n",
              "      <th>s13.2</th>\n",
              "      <th>s13a.b.most.often</th>\n",
              "      <th>s13b.bottles.of.Deodorant.do.you.currently.own</th>\n",
              "    </tr>\n",
              "  </thead>\n",
              "  <tbody>\n",
              "    <tr>\n",
              "      <th>count</th>\n",
              "      <td>2500.000000</td>\n",
              "      <td>2500.000000</td>\n",
              "      <td>2500.00000</td>\n",
              "      <td>2500.000000</td>\n",
              "      <td>2500.000000</td>\n",
              "      <td>2500.000000</td>\n",
              "      <td>2500.000000</td>\n",
              "      <td>2500.00000</td>\n",
              "      <td>2500.000000</td>\n",
              "      <td>2500.000000</td>\n",
              "      <td>2500.000000</td>\n",
              "      <td>2500.000000</td>\n",
              "      <td>2500.000000</td>\n",
              "      <td>2500.000000</td>\n",
              "      <td>2500.000000</td>\n",
              "      <td>2500.000000</td>\n",
              "      <td>2500.000000</td>\n",
              "      <td>2500.000000</td>\n",
              "      <td>2500.000000</td>\n",
              "      <td>2500.000000</td>\n",
              "      <td>2500.000000</td>\n",
              "      <td>2500.000000</td>\n",
              "      <td>2500.000000</td>\n",
              "      <td>2500.00000</td>\n",
              "      <td>2500.000000</td>\n",
              "      <td>2500.000000</td>\n",
              "      <td>2500.000000</td>\n",
              "      <td>2500.000000</td>\n",
              "      <td>2500.000000</td>\n",
              "      <td>2500.000000</td>\n",
              "      <td>2500.000000</td>\n",
              "      <td>2500.000000</td>\n",
              "      <td>2500.000000</td>\n",
              "      <td>1500.000000</td>\n",
              "      <td>2500.000000</td>\n",
              "      <td>2500.000000</td>\n",
              "      <td>2000.000000</td>\n",
              "      <td>500.000000</td>\n",
              "      <td>500.00000</td>\n",
              "      <td>500.00000</td>\n",
              "      <td>2500.000000</td>\n",
              "      <td>2000.000000</td>\n",
              "      <td>2500.000000</td>\n",
              "      <td>500.000000</td>\n",
              "      <td>1000.00000</td>\n",
              "      <td>2500.000000</td>\n",
              "      <td>1500.000000</td>\n",
              "      <td>2500.000000</td>\n",
              "      <td>2500.000000</td>\n",
              "      <td>2500.000000</td>\n",
              "      <td>2500.0000</td>\n",
              "      <td>2500.000000</td>\n",
              "      <td>2500.000000</td>\n",
              "      <td>2500.000000</td>\n",
              "      <td>2500.0</td>\n",
              "      <td>2500.000000</td>\n",
              "      <td>2500.000000</td>\n",
              "      <td>2500.000000</td>\n",
              "      <td>2500.000000</td>\n",
              "      <td>2500.000000</td>\n",
              "      <td>2500.000000</td>\n",
              "      <td>2500.000000</td>\n",
              "      <td>2500.000000</td>\n",
              "    </tr>\n",
              "    <tr>\n",
              "      <th>mean</th>\n",
              "      <td>8249.500000</td>\n",
              "      <td>460.400000</td>\n",
              "      <td>0.24720</td>\n",
              "      <td>5.129600</td>\n",
              "      <td>1.121200</td>\n",
              "      <td>3.344400</td>\n",
              "      <td>2.500000</td>\n",
              "      <td>3.71680</td>\n",
              "      <td>3.546000</td>\n",
              "      <td>2.241600</td>\n",
              "      <td>3.487200</td>\n",
              "      <td>2.347600</td>\n",
              "      <td>3.788800</td>\n",
              "      <td>3.750800</td>\n",
              "      <td>3.628400</td>\n",
              "      <td>4.016400</td>\n",
              "      <td>3.558400</td>\n",
              "      <td>2.808800</td>\n",
              "      <td>3.682800</td>\n",
              "      <td>4.002800</td>\n",
              "      <td>2.078400</td>\n",
              "      <td>3.826400</td>\n",
              "      <td>3.467200</td>\n",
              "      <td>2.62880</td>\n",
              "      <td>2.860000</td>\n",
              "      <td>2.978800</td>\n",
              "      <td>3.332400</td>\n",
              "      <td>3.635200</td>\n",
              "      <td>3.527600</td>\n",
              "      <td>3.648000</td>\n",
              "      <td>3.336400</td>\n",
              "      <td>1.400000</td>\n",
              "      <td>0.047200</td>\n",
              "      <td>0.064000</td>\n",
              "      <td>0.053200</td>\n",
              "      <td>0.048800</td>\n",
              "      <td>0.041500</td>\n",
              "      <td>0.112000</td>\n",
              "      <td>0.07800</td>\n",
              "      <td>0.11400</td>\n",
              "      <td>0.020800</td>\n",
              "      <td>0.062500</td>\n",
              "      <td>0.038400</td>\n",
              "      <td>0.106000</td>\n",
              "      <td>0.06100</td>\n",
              "      <td>0.005200</td>\n",
              "      <td>0.052667</td>\n",
              "      <td>3.590000</td>\n",
              "      <td>2.826400</td>\n",
              "      <td>2.318000</td>\n",
              "      <td>2.1948</td>\n",
              "      <td>4.959600</td>\n",
              "      <td>6.746800</td>\n",
              "      <td>3.522400</td>\n",
              "      <td>4.0</td>\n",
              "      <td>1.665200</td>\n",
              "      <td>3.199200</td>\n",
              "      <td>4.996000</td>\n",
              "      <td>1.742000</td>\n",
              "      <td>1.898000</td>\n",
              "      <td>0.025296</td>\n",
              "      <td>0.038400</td>\n",
              "      <td>3.072000</td>\n",
              "    </tr>\n",
              "    <tr>\n",
              "      <th>std</th>\n",
              "      <td>3433.008516</td>\n",
              "      <td>308.412528</td>\n",
              "      <td>0.43147</td>\n",
              "      <td>1.481918</td>\n",
              "      <td>0.934055</td>\n",
              "      <td>0.743243</td>\n",
              "      <td>1.384618</td>\n",
              "      <td>1.27548</td>\n",
              "      <td>1.261951</td>\n",
              "      <td>1.242838</td>\n",
              "      <td>1.276906</td>\n",
              "      <td>1.312198</td>\n",
              "      <td>1.209289</td>\n",
              "      <td>1.305596</td>\n",
              "      <td>1.260376</td>\n",
              "      <td>1.200295</td>\n",
              "      <td>1.367969</td>\n",
              "      <td>1.474419</td>\n",
              "      <td>1.219992</td>\n",
              "      <td>1.102397</td>\n",
              "      <td>1.272203</td>\n",
              "      <td>1.163789</td>\n",
              "      <td>1.278428</td>\n",
              "      <td>1.40876</td>\n",
              "      <td>1.301491</td>\n",
              "      <td>1.426031</td>\n",
              "      <td>1.306673</td>\n",
              "      <td>1.270735</td>\n",
              "      <td>1.281365</td>\n",
              "      <td>1.197276</td>\n",
              "      <td>1.319064</td>\n",
              "      <td>1.264848</td>\n",
              "      <td>0.212109</td>\n",
              "      <td>0.244835</td>\n",
              "      <td>0.224477</td>\n",
              "      <td>0.215493</td>\n",
              "      <td>0.199493</td>\n",
              "      <td>0.315682</td>\n",
              "      <td>0.26844</td>\n",
              "      <td>0.31813</td>\n",
              "      <td>0.142743</td>\n",
              "      <td>0.242122</td>\n",
              "      <td>0.192198</td>\n",
              "      <td>0.308146</td>\n",
              "      <td>0.23945</td>\n",
              "      <td>0.071938</td>\n",
              "      <td>0.223442</td>\n",
              "      <td>1.396668</td>\n",
              "      <td>1.397514</td>\n",
              "      <td>0.804696</td>\n",
              "      <td>0.8492</td>\n",
              "      <td>1.769073</td>\n",
              "      <td>2.505274</td>\n",
              "      <td>1.964241</td>\n",
              "      <td>0.0</td>\n",
              "      <td>1.036889</td>\n",
              "      <td>0.970307</td>\n",
              "      <td>2.371125</td>\n",
              "      <td>0.726944</td>\n",
              "      <td>1.440426</td>\n",
              "      <td>0.104856</td>\n",
              "      <td>0.192198</td>\n",
              "      <td>1.620082</td>\n",
              "    </tr>\n",
              "    <tr>\n",
              "      <th>min</th>\n",
              "      <td>3800.000000</td>\n",
              "      <td>121.000000</td>\n",
              "      <td>0.00000</td>\n",
              "      <td>1.000000</td>\n",
              "      <td>0.000000</td>\n",
              "      <td>1.000000</td>\n",
              "      <td>1.000000</td>\n",
              "      <td>1.00000</td>\n",
              "      <td>1.000000</td>\n",
              "      <td>1.000000</td>\n",
              "      <td>1.000000</td>\n",
              "      <td>1.000000</td>\n",
              "      <td>1.000000</td>\n",
              "      <td>1.000000</td>\n",
              "      <td>1.000000</td>\n",
              "      <td>1.000000</td>\n",
              "      <td>1.000000</td>\n",
              "      <td>1.000000</td>\n",
              "      <td>1.000000</td>\n",
              "      <td>1.000000</td>\n",
              "      <td>1.000000</td>\n",
              "      <td>1.000000</td>\n",
              "      <td>1.000000</td>\n",
              "      <td>1.00000</td>\n",
              "      <td>1.000000</td>\n",
              "      <td>1.000000</td>\n",
              "      <td>1.000000</td>\n",
              "      <td>1.000000</td>\n",
              "      <td>1.000000</td>\n",
              "      <td>1.000000</td>\n",
              "      <td>1.000000</td>\n",
              "      <td>-4.000000</td>\n",
              "      <td>0.000000</td>\n",
              "      <td>0.000000</td>\n",
              "      <td>0.000000</td>\n",
              "      <td>0.000000</td>\n",
              "      <td>0.000000</td>\n",
              "      <td>0.000000</td>\n",
              "      <td>0.00000</td>\n",
              "      <td>0.00000</td>\n",
              "      <td>0.000000</td>\n",
              "      <td>0.000000</td>\n",
              "      <td>0.000000</td>\n",
              "      <td>0.000000</td>\n",
              "      <td>0.00000</td>\n",
              "      <td>0.000000</td>\n",
              "      <td>0.000000</td>\n",
              "      <td>1.000000</td>\n",
              "      <td>1.000000</td>\n",
              "      <td>1.000000</td>\n",
              "      <td>1.0000</td>\n",
              "      <td>1.000000</td>\n",
              "      <td>1.000000</td>\n",
              "      <td>1.000000</td>\n",
              "      <td>4.0</td>\n",
              "      <td>1.000000</td>\n",
              "      <td>2.000000</td>\n",
              "      <td>2.000000</td>\n",
              "      <td>1.000000</td>\n",
              "      <td>1.000000</td>\n",
              "      <td>0.000000</td>\n",
              "      <td>0.000000</td>\n",
              "      <td>1.000000</td>\n",
              "    </tr>\n",
              "    <tr>\n",
              "      <th>25%</th>\n",
              "      <td>5324.750000</td>\n",
              "      <td>230.000000</td>\n",
              "      <td>0.00000</td>\n",
              "      <td>5.000000</td>\n",
              "      <td>0.000000</td>\n",
              "      <td>3.000000</td>\n",
              "      <td>1.000000</td>\n",
              "      <td>3.00000</td>\n",
              "      <td>3.000000</td>\n",
              "      <td>1.000000</td>\n",
              "      <td>3.000000</td>\n",
              "      <td>1.000000</td>\n",
              "      <td>3.000000</td>\n",
              "      <td>3.000000</td>\n",
              "      <td>3.000000</td>\n",
              "      <td>4.000000</td>\n",
              "      <td>3.000000</td>\n",
              "      <td>1.000000</td>\n",
              "      <td>3.000000</td>\n",
              "      <td>3.000000</td>\n",
              "      <td>1.000000</td>\n",
              "      <td>3.000000</td>\n",
              "      <td>3.000000</td>\n",
              "      <td>1.00000</td>\n",
              "      <td>2.000000</td>\n",
              "      <td>2.000000</td>\n",
              "      <td>2.000000</td>\n",
              "      <td>3.000000</td>\n",
              "      <td>3.000000</td>\n",
              "      <td>3.000000</td>\n",
              "      <td>2.000000</td>\n",
              "      <td>1.000000</td>\n",
              "      <td>0.000000</td>\n",
              "      <td>0.000000</td>\n",
              "      <td>0.000000</td>\n",
              "      <td>0.000000</td>\n",
              "      <td>0.000000</td>\n",
              "      <td>0.000000</td>\n",
              "      <td>0.00000</td>\n",
              "      <td>0.00000</td>\n",
              "      <td>0.000000</td>\n",
              "      <td>0.000000</td>\n",
              "      <td>0.000000</td>\n",
              "      <td>0.000000</td>\n",
              "      <td>0.00000</td>\n",
              "      <td>0.000000</td>\n",
              "      <td>0.000000</td>\n",
              "      <td>3.000000</td>\n",
              "      <td>2.000000</td>\n",
              "      <td>2.000000</td>\n",
              "      <td>1.0000</td>\n",
              "      <td>4.000000</td>\n",
              "      <td>5.000000</td>\n",
              "      <td>2.000000</td>\n",
              "      <td>4.0</td>\n",
              "      <td>1.000000</td>\n",
              "      <td>2.000000</td>\n",
              "      <td>3.000000</td>\n",
              "      <td>1.000000</td>\n",
              "      <td>1.000000</td>\n",
              "      <td>0.000000</td>\n",
              "      <td>0.000000</td>\n",
              "      <td>2.000000</td>\n",
              "    </tr>\n",
              "    <tr>\n",
              "      <th>50%</th>\n",
              "      <td>8249.500000</td>\n",
              "      <td>344.000000</td>\n",
              "      <td>0.00000</td>\n",
              "      <td>5.000000</td>\n",
              "      <td>1.000000</td>\n",
              "      <td>3.000000</td>\n",
              "      <td>2.000000</td>\n",
              "      <td>4.00000</td>\n",
              "      <td>4.000000</td>\n",
              "      <td>2.000000</td>\n",
              "      <td>4.000000</td>\n",
              "      <td>2.000000</td>\n",
              "      <td>4.000000</td>\n",
              "      <td>4.000000</td>\n",
              "      <td>4.000000</td>\n",
              "      <td>4.000000</td>\n",
              "      <td>4.000000</td>\n",
              "      <td>3.000000</td>\n",
              "      <td>4.000000</td>\n",
              "      <td>4.000000</td>\n",
              "      <td>2.000000</td>\n",
              "      <td>4.000000</td>\n",
              "      <td>4.000000</td>\n",
              "      <td>2.00000</td>\n",
              "      <td>3.000000</td>\n",
              "      <td>3.000000</td>\n",
              "      <td>4.000000</td>\n",
              "      <td>4.000000</td>\n",
              "      <td>4.000000</td>\n",
              "      <td>4.000000</td>\n",
              "      <td>4.000000</td>\n",
              "      <td>1.000000</td>\n",
              "      <td>0.000000</td>\n",
              "      <td>0.000000</td>\n",
              "      <td>0.000000</td>\n",
              "      <td>0.000000</td>\n",
              "      <td>0.000000</td>\n",
              "      <td>0.000000</td>\n",
              "      <td>0.00000</td>\n",
              "      <td>0.00000</td>\n",
              "      <td>0.000000</td>\n",
              "      <td>0.000000</td>\n",
              "      <td>0.000000</td>\n",
              "      <td>0.000000</td>\n",
              "      <td>0.00000</td>\n",
              "      <td>0.000000</td>\n",
              "      <td>0.000000</td>\n",
              "      <td>4.000000</td>\n",
              "      <td>3.000000</td>\n",
              "      <td>3.000000</td>\n",
              "      <td>2.0000</td>\n",
              "      <td>5.000000</td>\n",
              "      <td>7.000000</td>\n",
              "      <td>3.000000</td>\n",
              "      <td>4.0</td>\n",
              "      <td>1.000000</td>\n",
              "      <td>3.000000</td>\n",
              "      <td>4.000000</td>\n",
              "      <td>2.000000</td>\n",
              "      <td>1.000000</td>\n",
              "      <td>0.000000</td>\n",
              "      <td>0.000000</td>\n",
              "      <td>3.000000</td>\n",
              "    </tr>\n",
              "    <tr>\n",
              "      <th>75%</th>\n",
              "      <td>9774.250000</td>\n",
              "      <td>633.000000</td>\n",
              "      <td>0.00000</td>\n",
              "      <td>6.000000</td>\n",
              "      <td>2.000000</td>\n",
              "      <td>4.000000</td>\n",
              "      <td>4.000000</td>\n",
              "      <td>5.00000</td>\n",
              "      <td>5.000000</td>\n",
              "      <td>3.000000</td>\n",
              "      <td>5.000000</td>\n",
              "      <td>3.000000</td>\n",
              "      <td>5.000000</td>\n",
              "      <td>5.000000</td>\n",
              "      <td>5.000000</td>\n",
              "      <td>5.000000</td>\n",
              "      <td>5.000000</td>\n",
              "      <td>4.000000</td>\n",
              "      <td>5.000000</td>\n",
              "      <td>5.000000</td>\n",
              "      <td>3.000000</td>\n",
              "      <td>5.000000</td>\n",
              "      <td>5.000000</td>\n",
              "      <td>4.00000</td>\n",
              "      <td>4.000000</td>\n",
              "      <td>4.000000</td>\n",
              "      <td>4.000000</td>\n",
              "      <td>5.000000</td>\n",
              "      <td>5.000000</td>\n",
              "      <td>5.000000</td>\n",
              "      <td>4.000000</td>\n",
              "      <td>2.000000</td>\n",
              "      <td>0.000000</td>\n",
              "      <td>0.000000</td>\n",
              "      <td>0.000000</td>\n",
              "      <td>0.000000</td>\n",
              "      <td>0.000000</td>\n",
              "      <td>0.000000</td>\n",
              "      <td>0.00000</td>\n",
              "      <td>0.00000</td>\n",
              "      <td>0.000000</td>\n",
              "      <td>0.000000</td>\n",
              "      <td>0.000000</td>\n",
              "      <td>0.000000</td>\n",
              "      <td>0.00000</td>\n",
              "      <td>0.000000</td>\n",
              "      <td>0.000000</td>\n",
              "      <td>5.000000</td>\n",
              "      <td>4.000000</td>\n",
              "      <td>3.000000</td>\n",
              "      <td>3.0000</td>\n",
              "      <td>6.000000</td>\n",
              "      <td>9.000000</td>\n",
              "      <td>5.000000</td>\n",
              "      <td>4.0</td>\n",
              "      <td>2.000000</td>\n",
              "      <td>4.000000</td>\n",
              "      <td>7.000000</td>\n",
              "      <td>2.000000</td>\n",
              "      <td>2.000000</td>\n",
              "      <td>0.000000</td>\n",
              "      <td>0.000000</td>\n",
              "      <td>4.000000</td>\n",
              "    </tr>\n",
              "    <tr>\n",
              "      <th>max</th>\n",
              "      <td>14099.000000</td>\n",
              "      <td>974.000000</td>\n",
              "      <td>1.00000</td>\n",
              "      <td>7.000000</td>\n",
              "      <td>5.000000</td>\n",
              "      <td>5.000000</td>\n",
              "      <td>5.000000</td>\n",
              "      <td>5.00000</td>\n",
              "      <td>5.000000</td>\n",
              "      <td>5.000000</td>\n",
              "      <td>5.000000</td>\n",
              "      <td>5.000000</td>\n",
              "      <td>5.000000</td>\n",
              "      <td>5.000000</td>\n",
              "      <td>5.000000</td>\n",
              "      <td>5.000000</td>\n",
              "      <td>5.000000</td>\n",
              "      <td>5.000000</td>\n",
              "      <td>5.000000</td>\n",
              "      <td>5.000000</td>\n",
              "      <td>5.000000</td>\n",
              "      <td>5.000000</td>\n",
              "      <td>5.000000</td>\n",
              "      <td>5.00000</td>\n",
              "      <td>5.000000</td>\n",
              "      <td>5.000000</td>\n",
              "      <td>5.000000</td>\n",
              "      <td>5.000000</td>\n",
              "      <td>5.000000</td>\n",
              "      <td>5.000000</td>\n",
              "      <td>5.000000</td>\n",
              "      <td>7.000000</td>\n",
              "      <td>1.000000</td>\n",
              "      <td>1.000000</td>\n",
              "      <td>1.000000</td>\n",
              "      <td>1.000000</td>\n",
              "      <td>1.000000</td>\n",
              "      <td>1.000000</td>\n",
              "      <td>1.00000</td>\n",
              "      <td>1.00000</td>\n",
              "      <td>1.000000</td>\n",
              "      <td>1.000000</td>\n",
              "      <td>1.000000</td>\n",
              "      <td>1.000000</td>\n",
              "      <td>1.00000</td>\n",
              "      <td>1.000000</td>\n",
              "      <td>1.000000</td>\n",
              "      <td>5.000000</td>\n",
              "      <td>5.000000</td>\n",
              "      <td>3.000000</td>\n",
              "      <td>3.0000</td>\n",
              "      <td>7.000000</td>\n",
              "      <td>10.000000</td>\n",
              "      <td>7.000000</td>\n",
              "      <td>4.0</td>\n",
              "      <td>5.000000</td>\n",
              "      <td>7.000000</td>\n",
              "      <td>10.000000</td>\n",
              "      <td>5.000000</td>\n",
              "      <td>7.000000</td>\n",
              "      <td>1.000000</td>\n",
              "      <td>1.000000</td>\n",
              "      <td>6.000000</td>\n",
              "    </tr>\n",
              "  </tbody>\n",
              "</table>\n",
              "</div>"
            ],
            "text/plain": [
              "       Respondent.ID  ...  s13b.bottles.of.Deodorant.do.you.currently.own\n",
              "count    2500.000000  ...                                     2500.000000\n",
              "mean     8249.500000  ...                                        3.072000\n",
              "std      3433.008516  ...                                        1.620082\n",
              "min      3800.000000  ...                                        1.000000\n",
              "25%      5324.750000  ...                                        2.000000\n",
              "50%      8249.500000  ...                                        3.000000\n",
              "75%      9774.250000  ...                                        4.000000\n",
              "max     14099.000000  ...                                        6.000000\n",
              "\n",
              "[8 rows x 63 columns]"
            ]
          },
          "metadata": {
            "tags": []
          },
          "execution_count": 7
        }
      ]
    },
    {
      "cell_type": "code",
      "metadata": {
        "id": "uyktGbkIa0rt"
      },
      "source": [
        "#Getting separate values of features\r\n",
        "personal_opinion = dataset.iloc[0:dataset.shape[0],4:5]\r\n",
        "bottles = dataset.iloc[0:dataset.shape[0],-1]\r\n",
        "strength = dataset.iloc[0:dataset.shape[0],6:7]\r\n",
        "artificial_chemical = dataset.iloc[0:dataset.shape[0],7:8]\r\n",
        "instant_liking=dataset.iloc[0:dataset.shape[0],3:4]"
      ],
      "execution_count": null,
      "outputs": []
    },
    {
      "cell_type": "code",
      "metadata": {
        "colab": {
          "base_uri": "https://localhost:8080/",
          "height": 729
        },
        "id": "BOc8sPLteSjK",
        "outputId": "ac8ba110-183c-4aa4-a460-d85fb638e3ea"
      },
      "source": [
        "#plotting graphs of features vs the classification value\r\n",
        "fig,axes = plt.subplots(figsize=(10,10),nrows=2,ncols=2)\r\n",
        "\r\n",
        "axes[0][0].scatter(bottles,instant_liking,color='b')\r\n",
        "axes[0][0].set_xlabel(\"Bottles Owned\")\r\n",
        "axes[0][0].set_ylabel(\"Instant Liking\")\r\n",
        "axes[0][0].set_title(\"Bottles Owned vs Instant Liking\")\r\n",
        "\r\n",
        "axes[0][1].scatter(personal_opinion,instant_liking,color='g')\r\n",
        "axes[0][1].set_xlabel(\"personal_opinion\")\r\n",
        "axes[0][1].set_ylabel(\"Instant_liking\")\r\n",
        "axes[0][1].set_title(\"personal_opinion vs Instant Liking\")\r\n",
        "\r\n",
        "axes[1][0].scatter(strength,instant_liking,color='r')\r\n",
        "axes[1][0].set_xlabel(\"strength\")\r\n",
        "axes[1][0].set_ylabel(\"instant_liking\")\r\n",
        "axes[1][0].set_title(\"strength vs instant_liking\")\r\n",
        "\r\n",
        "axes[1][1].scatter(artificial_chemical,instant_liking,color='y')\r\n",
        "axes[1][1].set_xlabel(\"artificial_chemical\")\r\n",
        "axes[1][1].set_ylabel(\"instant_liking\")\r\n",
        "axes[1][1].set_title(\"artificial_chemical vs instant_liking\")\r\n",
        "\r\n",
        "plt.tight_layout()\r\n"
      ],
      "execution_count": null,
      "outputs": [
        {
          "output_type": "display_data",
          "data": {
            "image/png": "[encoded data removed]",
            "text/plain": [
              "<Figure size 720x720 with 4 Axes>"
            ]
          },
          "metadata": {
            "tags": [],
            "needs_background": "light"
          }
        }
      ]
    },
    {
      "cell_type": "code",
      "metadata": {
        "colab": {
          "base_uri": "https://localhost:8080/"
        },
        "id": "_yOP3HawKFwu",
        "outputId": "8b2a42b0-2e0a-4f60-98d1-68d3588ed4a7"
      },
      "source": [
        "type(dataset)"
      ],
      "execution_count": null,
      "outputs": [
        {
          "output_type": "execute_result",
          "data": {
            "text/plain": [
              "pandas.core.frame.DataFrame"
            ]
          },
          "metadata": {
            "tags": []
          },
          "execution_count": 10
        }
      ]
    },
    {
      "cell_type": "code",
      "metadata": {
        "id": "-rpV2gjEAlIa"
      },
      "source": [
        "# replacing the nan values in the dataset with the mean of that column\r\n",
        "dataset=dataset.fillna(dataset.mean())"
      ],
      "execution_count": null,
      "outputs": []
    },
    {
      "cell_type": "code",
      "metadata": {
        "colab": {
          "base_uri": "https://localhost:8080/"
        },
        "id": "UsYtPjnOKPYV",
        "outputId": "935c4c64-d15e-4951-894a-7223a7f46046"
      },
      "source": [
        "data=dataset.values       #dataframe to array\r\n",
        "n=len(data[:,-1])\r\n",
        "print(n)\r\n",
        "#Creating the feature matrix\r\n",
        "X=data[:,4:].reshape(n,60)\r\n",
        "print(X[0])"
      ],
      "execution_count": null,
      "outputs": [
        {
          "output_type": "stream",
          "text": [
            "2500\n",
            "[4 1 4 2 5 4 2 3 5 5 5 4 5 3 1 5 1 2 4 5 4 5 1 1 4 1 4 1 1 0 0.0 0 0\n",
            " 0.0415 1.0 0.078 0.114 0 0.0 0 0.106 0.061 0 0.0 2 1 1 2 1 7 7 4 1 4 3 1\n",
            " 1 0.0 0 3]\n"
          ],
          "name": "stdout"
        }
      ]
    },
    {
      "cell_type": "code",
      "metadata": {
        "colab": {
          "base_uri": "https://localhost:8080/"
        },
        "id": "hdxIfENyRBVm",
        "outputId": "d6ccceae-5d22-4e6c-f07d-5808f0a30bfc"
      },
      "source": [
        "#creating the output variable matrix\r\n",
        "Y=data[:,3].reshape(n,1)\r\n",
        "Y"
      ],
      "execution_count": null,
      "outputs": [
        {
          "output_type": "execute_result",
          "data": {
            "text/plain": [
              "array([[1],\n",
              "       [0],\n",
              "       [0],\n",
              "       ...,\n",
              "       [1],\n",
              "       [0],\n",
              "       [0]], dtype=object)"
            ]
          },
          "metadata": {
            "tags": []
          },
          "execution_count": 13
        }
      ]
    },
    {
      "cell_type": "code",
      "metadata": {
        "colab": {
          "base_uri": "https://localhost:8080/"
        },
        "id": "k6-ccRYFRatr",
        "outputId": "1262f406-111c-45f4-b4f4-53af6ff24cd9"
      },
      "source": [
        "#Creating theta array\r\n",
        "theta_array=np.zeros((61,1))\r\n",
        "theta_array\r\n",
        "theta_array.shape"
      ],
      "execution_count": null,
      "outputs": [
        {
          "output_type": "execute_result",
          "data": {
            "text/plain": [
              "(61, 1)"
            ]
          },
          "metadata": {
            "tags": []
          },
          "execution_count": 14
        }
      ]
    },
    {
      "cell_type": "code",
      "metadata": {
        "id": "5KRe1vBuRmYk"
      },
      "source": [
        "#define hypothesis\r\n",
        "\r\n",
        "def hypothesis(theta_array,X): #theta_array = [theta_array[0],theta_array[1]]\r\n",
        "  hypo = theta_array[0]\r\n",
        "  for i in range(1,61):\r\n",
        "    hypo+=theta_array[i]*X[:,i]\r\n",
        "  return hypo"
      ],
      "execution_count": null,
      "outputs": []
    },
    {
      "cell_type": "code",
      "metadata": {
        "id": "7-F7CA27TDmz"
      },
      "source": [
        "#Defining the cost function\r\n",
        "def cost_function(theta_array,X,y,m):  #x and y are list of observations\r\n",
        "  total_error = 0\r\n",
        "  x=0\r\n",
        "  for i in range(m):\r\n",
        "    for j in range(60):\r\n",
        "      x+=theta_array[j+1]*X[i][j]\r\n",
        "    total_error+=(theta_array[0]+x-y[i])**2\r\n",
        "    x=0\r\n",
        "  return total_error/(2*m)"
      ],
      "execution_count": null,
      "outputs": []
    },
    {
      "cell_type": "code",
      "metadata": {
        "id": "bCXO7UxjaHdf"
      },
      "source": [
        "#Defining thr gradient descent for the training\r\n",
        "def gradient_descent(theta_array,X,y,alpha,m):\r\n",
        "  summation_array=np.zeros((61,1))\r\n",
        "  x=0\r\n",
        "\r\n",
        "  for i in range(m):\r\n",
        "    for j in range(60):\r\n",
        "        x+=theta_array[j+1]*X[i][j]\r\n",
        "    summation_array[0]=summation_array[0]+((theta_array[0]+x)-y[i])\r\n",
        "\r\n",
        "  for k in range(60):\r\n",
        "    for i in range(m):\r\n",
        "      for j in range(60):\r\n",
        "        x+=theta_array[j+1]*X[i][j]\r\n",
        "      summation_array[k+1]=summation_array[k]+((theta_array[0]+x)-y[i])*X[i][k]\r\n",
        "\r\n",
        "  new_theta_array=np.zeros((61,1))\r\n",
        "  for i in range(61):\r\n",
        "    new_theta_array[i] = theta_array[i] - alpha*(summation_array[i]/m)\r\n",
        "\r\n",
        "  return new_theta_array"
      ],
      "execution_count": null,
      "outputs": []
    },
    {
      "cell_type": "code",
      "metadata": {
        "id": "xePKeDbCgN1v"
      },
      "source": [
        "#Defining the training process\r\n",
        "def training(X,y,alpha,iters):\r\n",
        "  theta_array=np.zeros((61,1))\r\n",
        "  cost_function_values=[]\r\n",
        "\r\n",
        "  m=X[:,0].size #size of dataset / number of observations\r\n",
        "\r\n",
        "  for i in range(iters):\r\n",
        "    theta_array=gradient_descent(theta_array,X,y,alpha,m)\r\n",
        "\r\n",
        "    cost_function_values.append(cost_function(theta_array,X,y,m)) \r\n",
        "    \"\"\"if i %10 ==0:\r\n",
        "      y_new=theta_array[0] #linear regression line\r\n",
        "      for j in range(60):\r\n",
        "        y_new+=X[:,j]*theta_array[j+1]\r\n",
        "      plt.plot(X[:,0],y_new,'r')\r\n",
        "      plt.scatter(X[:,0],y)\r\n",
        "      plt.show()\"\"\"\r\n",
        "\r\n",
        "  x=np.arange(0,len(cost_function_values),step=1)\r\n",
        "  plt.plot(x,cost_function_values,\"-b\")\r\n",
        "  plt.xlabel(\"Number of iterations\")\r\n",
        "  plt.ylabel(\"Cost/loss Values\")\r\n",
        "  plt.title(\"Cost Function Curve\")\r\n",
        "  plt.show()\r\n",
        "  return theta_array"
      ],
      "execution_count": null,
      "outputs": []
    },
    {
      "cell_type": "code",
      "metadata": {
        "id": "-T_UARwAiwgk",
        "colab": {
          "base_uri": "https://localhost:8080/",
          "height": 295
        },
        "outputId": "f00aaab7-e79b-4a77-e034-6b336bd1a48d"
      },
      "source": [
        "theta_array=training(X,Y,0.001,50)"
      ],
      "execution_count": null,
      "outputs": [
        {
          "output_type": "display_data",
          "data": {
            "image/png": "[encoded data removed]",
            "text/plain": [
              "<Figure size 432x288 with 1 Axes>"
            ]
          },
          "metadata": {
            "tags": [],
            "needs_background": "light"
          }
        }
      ]
    },
    {
      "cell_type": "code",
      "metadata": {
        "colab": {
          "base_uri": "https://localhost:8080/",
          "height": 295
        },
        "id": "pW42Npepl9U4",
        "outputId": "e7f12fa5-8608-42e4-e718-6524d25b5aab"
      },
      "source": [
        "theta_array1 = training(X,Y,0.001,3)"
      ],
      "execution_count": null,
      "outputs": [
        {
          "output_type": "display_data",
          "data": {
            "image/png": "[encoded data removed]",
            "text/plain": [
              "<Figure size 432x288 with 1 Axes>"
            ]
          },
          "metadata": {
            "tags": [],
            "needs_background": "light"
          }
        }
      ]
    },
    {
      "cell_type": "code",
      "metadata": {
        "id": "OViXAG2dufmL"
      },
      "source": [
        "def classifierPredict(theta,X):\r\n",
        "  predictions = X.dot(theta)\r\n",
        "  return predictions>0"
      ],
      "execution_count": null,
      "outputs": []
    },
    {
      "cell_type": "code",
      "metadata": {
        "colab": {
          "base_uri": "https://localhost:8080/"
        },
        "id": "nOQNL1ZVwSs3",
        "outputId": "affacb5f-7c6a-4ce7-ca24-45a8db6aec00"
      },
      "source": [
        "length=len(X[:,0])\r\n",
        "print(theta_array1.shape)\r\n",
        "X=np.append(np.ones((length,1)),X,axis=1)\r\n",
        "print(X)\r\n",
        "p=classifierPredict(theta_array1,X)\r\n",
        "print(\"Train Accuracy: \",sum(p==Y)[0]/X.shape[0]*100,\"%\")"
      ],
      "execution_count": null,
      "outputs": [
        {
          "output_type": "stream",
          "text": [
            "(61, 1)\n",
            "[[1.0 4 1 ... 0.0 0 3]\n",
            " [1.0 5 1 ... 0.0 0 4]\n",
            " [1.0 6 1 ... 0.0 0 2]\n",
            " ...\n",
            " [1.0 4 2 ... 0.0 0 5]\n",
            " [1.0 5 2 ... 0.0 0 4]\n",
            " [1.0 7 3 ... 0.0 0 1]]\n",
            "Train Accuracy:  24.72 %\n"
          ],
          "name": "stdout"
        }
      ]
    },
    {
      "cell_type": "markdown",
      "metadata": {
        "id": "hA7uhaeosdE4"
      },
      "source": [
        "***CONCLUSION:***\r\n",
        "\r\n",
        "Here as we can see that the cost function is having increasing nature, which indicates that the method is not feasible/appropriate over the dataset.And that is also obvious because for fitting 60 parameters using a single linear line is not possible. In 1 instance the line is getting stretched by top levelled features while in other iteration by bottom leveled features. As we can see in the second training output the cost is increasing from 1st iteration only, we need to change the algorithm that is used for classification of the dataset. For dealing with large number of features (in this case 60) a complex regression line is required of higher degree.\r\n",
        "\r\n",
        "Also as we can see the accuracy of the model is very low. This also indicates that the algorithm we are trying to use does not fit for the dataset."
      ]
    }
  ]
}