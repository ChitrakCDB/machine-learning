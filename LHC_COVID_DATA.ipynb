{
  "nbformat": 4,
  "nbformat_minor": 0,
  "metadata": {
    "colab": {
      "name": "LHC-COVID_DATA.ipynb",
      "provenance": [],
      "collapsed_sections": [],
      "authorship_tag": "ABX9TyMl0dBRhHNELaA7Osn2wIAE",
      "include_colab_link": true
    },
    "kernelspec": {
      "name": "python3",
      "display_name": "Python 3"
    },
    "language_info": {
      "name": "python"
    }
  },
  "cells": [
    {
      "cell_type": "markdown",
      "metadata": {
        "id": "view-in-github",
        "colab_type": "text"
      },
      "source": [
        "<a href=\"https://colab.research.google.com/github/KiranTanwani/Machine-Learning/blob/main/LHC_COVID_DATA.ipynb\" target=\"_parent\"><img src=\"https://colab.research.google.com/assets/colab-badge.svg\" alt=\"Open In Colab\"/></a>"
      ]
    },
    {
      "cell_type": "markdown",
      "metadata": {
        "id": "wBEkPAj7cfUk"
      },
      "source": [
        "Datasets used are:\n",
        "\n",
        "https://github.com/CSSEGISandData/COVID\u000219/tree/master/csse_covid_19_data/csse_covid_19_time_series\n",
        "\n",
        "https://github.com/CSSEGISandData/COVID\u000219/tree/master/csse_covid_19_data/csse_covid_19_daily_reports"
      ]
    },
    {
      "cell_type": "code",
      "metadata": {
        "id": "TsuxGZNGxfOl"
      },
      "source": [
        "import numpy as np  #helps in mathematical operations\n",
        "import matplotlib.pyplot as plt #helps in plotting of graph\n",
        "import pandas as pd #helps in making dataframes and importing csv files"
      ],
      "execution_count": 9,
      "outputs": []
    },
    {
      "cell_type": "code",
      "metadata": {
        "id": "Vj_fLkCDx6QS"
      },
      "source": [
        "from google.colab import drive #to import google drive data"
      ],
      "execution_count": 10,
      "outputs": []
    },
    {
      "cell_type": "code",
      "metadata": {
        "colab": {
          "base_uri": "https://localhost:8080/"
        },
        "id": "uMdiN76rx82j",
        "outputId": "b8efffe2-fe1f-40dc-e053-0fc02cf12684"
      },
      "source": [
        "drive.mount('/content/drive') # mount the drive on colab using authentication"
      ],
      "execution_count": 11,
      "outputs": [
        {
          "output_type": "stream",
          "text": [
            "Mounted at /content/drive\n"
          ],
          "name": "stdout"
        }
      ]
    },
    {
      "cell_type": "code",
      "metadata": {
        "colab": {
          "base_uri": "https://localhost:8080/"
        },
        "id": "baPLZVhyx-4m",
        "outputId": "e3ef6574-a5a6-42a3-9a43-676e61e5d4e2"
      },
      "source": [
        "cd /content/drive/\"My Drive/Colab Notebooks/Long Hour Coding\""
      ],
      "execution_count": 12,
      "outputs": [
        {
          "output_type": "stream",
          "text": [
            "/content/drive/My Drive/Colab Notebooks/Long Hour Coding\n"
          ],
          "name": "stdout"
        }
      ]
    },
    {
      "cell_type": "code",
      "metadata": {
        "id": "VLnzreUjyILr"
      },
      "source": [
        "confirmed_cases = pd.read_csv(\"time_series_covid19_confirmed_global.csv\")\n",
        "recovered_cases = pd.read_csv(\"time_series_covid19_recovered_global.csv\")\n",
        "deaths = pd.read_csv(\"time_series_covid19_deaths_global.csv\")\n",
        "confirmed_cases = confirmed_cases.drop(['Province/State','Lat','Long'],axis=1)\n",
        "recovered_cases = recovered_cases.drop(['Province/State','Lat','Long'],axis=1)\n",
        "deaths = deaths.drop(['Province/State','Lat','Long'],axis=1)"
      ],
      "execution_count": 13,
      "outputs": []
    },
    {
      "cell_type": "markdown",
      "metadata": {
        "id": "dUmk6c7tw5Ri"
      },
      "source": [
        "# ***TASK - 1***\n",
        "\n",
        "\n",
        "Analyse the growth rate of covid-19 in INDIA with reference to number of cases, deaths and \n",
        "recovered. You may use the 7-days moving average for better graph visualization"
      ]
    },
    {
      "cell_type": "code",
      "metadata": {
        "id": "FVVIxRHOylkI"
      },
      "source": [
        "india_confirmed_cases = confirmed_cases.loc[confirmed_cases['Country/Region']=='India']"
      ],
      "execution_count": 14,
      "outputs": []
    },
    {
      "cell_type": "code",
      "metadata": {
        "id": "RZdFsWORzmVb"
      },
      "source": [
        "india_recovered_cases = recovered_cases.loc[recovered_cases['Country/Region']=='India']\n",
        "india_deaths = deaths.loc[deaths['Country/Region']=='India']"
      ],
      "execution_count": 15,
      "outputs": []
    },
    {
      "cell_type": "code",
      "metadata": {
        "id": "1-sArdue01EM"
      },
      "source": [
        "india_confirmed_cases = pd.DataFrame(india_confirmed_cases)\n",
        "india_recovered_cases = pd.DataFrame(india_recovered_cases)\n",
        "india_deaths = pd.DataFrame(india_deaths)"
      ],
      "execution_count": 16,
      "outputs": []
    },
    {
      "cell_type": "code",
      "metadata": {
        "id": "YkBkPaFH1xLB"
      },
      "source": [
        "india_confirmed_cases=india_confirmed_cases.drop(['Country/Region'],axis=1)\n",
        "india_recovered_cases=india_recovered_cases.drop(['Country/Region'],axis=1)\n",
        "india_deaths = india_deaths.drop(['Country/Region'],axis=1)"
      ],
      "execution_count": 17,
      "outputs": []
    },
    {
      "cell_type": "code",
      "metadata": {
        "id": "RQNL7XMR2UQD"
      },
      "source": [
        "india_confirmed_cases.index = [\"Confirm_Cases\"]\n",
        "india_confirmed_cases = india_confirmed_cases.transpose()"
      ],
      "execution_count": 18,
      "outputs": []
    },
    {
      "cell_type": "code",
      "metadata": {
        "colab": {
          "base_uri": "https://localhost:8080/",
          "height": 402
        },
        "id": "itFYTLY87XSK",
        "outputId": "5b4b688a-621b-4b54-ec89-d97c5c35aa15"
      },
      "source": [
        "india_confirmed_cases"
      ],
      "execution_count": 19,
      "outputs": [
        {
          "output_type": "execute_result",
          "data": {
            "text/html": [
              "<div>\n",
              "<style scoped>\n",
              "    .dataframe tbody tr th:only-of-type {\n",
              "        vertical-align: middle;\n",
              "    }\n",
              "\n",
              "    .dataframe tbody tr th {\n",
              "        vertical-align: top;\n",
              "    }\n",
              "\n",
              "    .dataframe thead th {\n",
              "        text-align: right;\n",
              "    }\n",
              "</style>\n",
              "<table border=\"1\" class=\"dataframe\">\n",
              "  <thead>\n",
              "    <tr style=\"text-align: right;\">\n",
              "      <th></th>\n",
              "      <th>Confirm_Cases</th>\n",
              "    </tr>\n",
              "  </thead>\n",
              "  <tbody>\n",
              "    <tr>\n",
              "      <th>1/22/20</th>\n",
              "      <td>0</td>\n",
              "    </tr>\n",
              "    <tr>\n",
              "      <th>1/23/20</th>\n",
              "      <td>0</td>\n",
              "    </tr>\n",
              "    <tr>\n",
              "      <th>1/24/20</th>\n",
              "      <td>0</td>\n",
              "    </tr>\n",
              "    <tr>\n",
              "      <th>1/25/20</th>\n",
              "      <td>0</td>\n",
              "    </tr>\n",
              "    <tr>\n",
              "      <th>1/26/20</th>\n",
              "      <td>0</td>\n",
              "    </tr>\n",
              "    <tr>\n",
              "      <th>...</th>\n",
              "      <td>...</td>\n",
              "    </tr>\n",
              "    <tr>\n",
              "      <th>4/29/21</th>\n",
              "      <td>18762976</td>\n",
              "    </tr>\n",
              "    <tr>\n",
              "      <th>4/30/21</th>\n",
              "      <td>19164969</td>\n",
              "    </tr>\n",
              "    <tr>\n",
              "      <th>5/1/21</th>\n",
              "      <td>19557457</td>\n",
              "    </tr>\n",
              "    <tr>\n",
              "      <th>5/2/21</th>\n",
              "      <td>19925517</td>\n",
              "    </tr>\n",
              "    <tr>\n",
              "      <th>5/3/21</th>\n",
              "      <td>19925604</td>\n",
              "    </tr>\n",
              "  </tbody>\n",
              "</table>\n",
              "<p>468 rows × 1 columns</p>\n",
              "</div>"
            ],
            "text/plain": [
              "         Confirm_Cases\n",
              "1/22/20              0\n",
              "1/23/20              0\n",
              "1/24/20              0\n",
              "1/25/20              0\n",
              "1/26/20              0\n",
              "...                ...\n",
              "4/29/21       18762976\n",
              "4/30/21       19164969\n",
              "5/1/21        19557457\n",
              "5/2/21        19925517\n",
              "5/3/21        19925604\n",
              "\n",
              "[468 rows x 1 columns]"
            ]
          },
          "metadata": {
            "tags": []
          },
          "execution_count": 19
        }
      ]
    },
    {
      "cell_type": "code",
      "metadata": {
        "id": "usZWzMPX7bW-"
      },
      "source": [
        "india_recovered_cases.index = [\"Recovered_Cases\"]\n",
        "india_recovered_cases = india_recovered_cases.transpose()\n",
        "india_deaths.index = [\"Deaths\"]\n",
        "india_deaths = india_deaths.transpose()"
      ],
      "execution_count": 20,
      "outputs": []
    },
    {
      "cell_type": "code",
      "metadata": {
        "id": "_XCvsN6g3nhf"
      },
      "source": [
        "india_data = india_confirmed_cases"
      ],
      "execution_count": 21,
      "outputs": []
    },
    {
      "cell_type": "code",
      "metadata": {
        "id": "BumtnYj45qJ8"
      },
      "source": [
        "india_data['Recovered_Cases'] = india_recovered_cases"
      ],
      "execution_count": 22,
      "outputs": []
    },
    {
      "cell_type": "code",
      "metadata": {
        "id": "9h2Xvkfw8EhO"
      },
      "source": [
        "india_data['Deaths'] = india_deaths"
      ],
      "execution_count": 23,
      "outputs": []
    },
    {
      "cell_type": "code",
      "metadata": {
        "colab": {
          "base_uri": "https://localhost:8080/",
          "height": 402
        },
        "id": "QIxldL3m8Rqr",
        "outputId": "6046b7ca-cd63-45e7-9b10-58d39f8b3974"
      },
      "source": [
        "india_data"
      ],
      "execution_count": 24,
      "outputs": [
        {
          "output_type": "execute_result",
          "data": {
            "text/html": [
              "<div>\n",
              "<style scoped>\n",
              "    .dataframe tbody tr th:only-of-type {\n",
              "        vertical-align: middle;\n",
              "    }\n",
              "\n",
              "    .dataframe tbody tr th {\n",
              "        vertical-align: top;\n",
              "    }\n",
              "\n",
              "    .dataframe thead th {\n",
              "        text-align: right;\n",
              "    }\n",
              "</style>\n",
              "<table border=\"1\" class=\"dataframe\">\n",
              "  <thead>\n",
              "    <tr style=\"text-align: right;\">\n",
              "      <th></th>\n",
              "      <th>Confirm_Cases</th>\n",
              "      <th>Recovered_Cases</th>\n",
              "      <th>Deaths</th>\n",
              "    </tr>\n",
              "  </thead>\n",
              "  <tbody>\n",
              "    <tr>\n",
              "      <th>1/22/20</th>\n",
              "      <td>0</td>\n",
              "      <td>0</td>\n",
              "      <td>0</td>\n",
              "    </tr>\n",
              "    <tr>\n",
              "      <th>1/23/20</th>\n",
              "      <td>0</td>\n",
              "      <td>0</td>\n",
              "      <td>0</td>\n",
              "    </tr>\n",
              "    <tr>\n",
              "      <th>1/24/20</th>\n",
              "      <td>0</td>\n",
              "      <td>0</td>\n",
              "      <td>0</td>\n",
              "    </tr>\n",
              "    <tr>\n",
              "      <th>1/25/20</th>\n",
              "      <td>0</td>\n",
              "      <td>0</td>\n",
              "      <td>0</td>\n",
              "    </tr>\n",
              "    <tr>\n",
              "      <th>1/26/20</th>\n",
              "      <td>0</td>\n",
              "      <td>0</td>\n",
              "      <td>0</td>\n",
              "    </tr>\n",
              "    <tr>\n",
              "      <th>...</th>\n",
              "      <td>...</td>\n",
              "      <td>...</td>\n",
              "      <td>...</td>\n",
              "    </tr>\n",
              "    <tr>\n",
              "      <th>4/29/21</th>\n",
              "      <td>18762976</td>\n",
              "      <td>15384418</td>\n",
              "      <td>208330</td>\n",
              "    </tr>\n",
              "    <tr>\n",
              "      <th>4/30/21</th>\n",
              "      <td>19164969</td>\n",
              "      <td>15684406</td>\n",
              "      <td>211853</td>\n",
              "    </tr>\n",
              "    <tr>\n",
              "      <th>5/1/21</th>\n",
              "      <td>19557457</td>\n",
              "      <td>15992271</td>\n",
              "      <td>215542</td>\n",
              "    </tr>\n",
              "    <tr>\n",
              "      <th>5/2/21</th>\n",
              "      <td>19925517</td>\n",
              "      <td>16292725</td>\n",
              "      <td>218959</td>\n",
              "    </tr>\n",
              "    <tr>\n",
              "      <th>5/3/21</th>\n",
              "      <td>19925604</td>\n",
              "      <td>16293003</td>\n",
              "      <td>218959</td>\n",
              "    </tr>\n",
              "  </tbody>\n",
              "</table>\n",
              "<p>468 rows × 3 columns</p>\n",
              "</div>"
            ],
            "text/plain": [
              "         Confirm_Cases  Recovered_Cases  Deaths\n",
              "1/22/20              0                0       0\n",
              "1/23/20              0                0       0\n",
              "1/24/20              0                0       0\n",
              "1/25/20              0                0       0\n",
              "1/26/20              0                0       0\n",
              "...                ...              ...     ...\n",
              "4/29/21       18762976         15384418  208330\n",
              "4/30/21       19164969         15684406  211853\n",
              "5/1/21        19557457         15992271  215542\n",
              "5/2/21        19925517         16292725  218959\n",
              "5/3/21        19925604         16293003  218959\n",
              "\n",
              "[468 rows x 3 columns]"
            ]
          },
          "metadata": {
            "tags": []
          },
          "execution_count": 24
        }
      ]
    },
    {
      "cell_type": "code",
      "metadata": {
        "colab": {
          "base_uri": "https://localhost:8080/",
          "height": 295
        },
        "id": "vuRksy-i8S0Z",
        "outputId": "c76e2050-ffc1-46e1-807e-311c0e76f8cf"
      },
      "source": [
        "plt.plot(india_data.index, india_data['Confirm_Cases'], label = \"Confirmed Cases\", linestyle=\"-\")\n",
        "plt.plot(india_data.index, india_data['Recovered_Cases'], label = \"Recovered Cases\", linestyle=\"--\")\n",
        "plt.plot(india_data.index, india_data['Deaths'], label = \"Deaths\", linestyle=\"-.\")\n",
        "plt.xlabel(\"Days\")\n",
        "plt.ylabel(\"Number of Cases\")\n",
        "plt.title(\"Indian Covid Cases\")\n",
        "plt.legend()\n",
        "plt.show()"
      ],
      "execution_count": 25,
      "outputs": [
        {
          "output_type": "display_data",
          "data": {
            "image/png": "[encoded data removed]",
            "text/plain": [
              "<Figure size 432x288 with 1 Axes>"
            ]
          },
          "metadata": {
            "tags": [],
            "needs_background": "light"
          }
        }
      ]
    },
    {
      "cell_type": "markdown",
      "metadata": {
        "id": "QOIdMNr1w_vg"
      },
      "source": [
        "# ***TASK - 2***\n",
        "\n",
        "\n",
        "Perform part-1 for US and Italy"
      ]
    },
    {
      "cell_type": "code",
      "metadata": {
        "id": "-1XMYJnj8yYM"
      },
      "source": [
        "usa_confirmed_cases = confirmed_cases.loc[confirmed_cases['Country/Region']=='US']\n",
        "usa_recovered_cases = recovered_cases.loc[recovered_cases['Country/Region']=='US']\n",
        "usa_deaths = deaths.loc[confirmed_cases['Country/Region']=='US']"
      ],
      "execution_count": 26,
      "outputs": []
    },
    {
      "cell_type": "code",
      "metadata": {
        "id": "eaQueeWz-VWc"
      },
      "source": [
        "usa_confirmed_cases = usa_confirmed_cases.drop(['Country/Region'], axis = 1)\n",
        "usa_recovered_cases = usa_recovered_cases.drop(['Country/Region'], axis = 1)\n",
        "usa_deaths = usa_deaths.drop(['Country/Region'], axis = 1)"
      ],
      "execution_count": 27,
      "outputs": []
    },
    {
      "cell_type": "code",
      "metadata": {
        "colab": {
          "base_uri": "https://localhost:8080/",
          "height": 455
        },
        "id": "1ebvepGJ-rWr",
        "outputId": "7b11f8ae-a1bc-4d5d-9cce-99ac300fd5f8"
      },
      "source": [
        "usa_confirmed_cases.index = ['Confirm_Cases']\n",
        "usa_confirmed_cases = usa_confirmed_cases.transpose()\n",
        "usa_data = usa_confirmed_cases\n",
        "\n",
        "usa_recovered_cases.indea = ['Recovered_Cases']\n",
        "usa_recovered_cases = usa_recovered_cases.transpose()\n",
        "usa_data['Recovered_Cases'] = usa_recovered_cases\n",
        "\n",
        "usa_deaths.index = ['Deaths']\n",
        "usa_deaths = usa_deaths.transpose()\n",
        "usa_data['Deaths'] = usa_deaths\n",
        "\n",
        "usa_data"
      ],
      "execution_count": 28,
      "outputs": [
        {
          "output_type": "stream",
          "text": [
            "/usr/local/lib/python3.7/dist-packages/ipykernel_launcher.py:5: UserWarning: Pandas doesn't allow columns to be created via a new attribute name - see https://pandas.pydata.org/pandas-docs/stable/indexing.html#attribute-access\n",
            "  \"\"\"\n"
          ],
          "name": "stderr"
        },
        {
          "output_type": "execute_result",
          "data": {
            "text/html": [
              "<div>\n",
              "<style scoped>\n",
              "    .dataframe tbody tr th:only-of-type {\n",
              "        vertical-align: middle;\n",
              "    }\n",
              "\n",
              "    .dataframe tbody tr th {\n",
              "        vertical-align: top;\n",
              "    }\n",
              "\n",
              "    .dataframe thead th {\n",
              "        text-align: right;\n",
              "    }\n",
              "</style>\n",
              "<table border=\"1\" class=\"dataframe\">\n",
              "  <thead>\n",
              "    <tr style=\"text-align: right;\">\n",
              "      <th></th>\n",
              "      <th>Confirm_Cases</th>\n",
              "      <th>Recovered_Cases</th>\n",
              "      <th>Deaths</th>\n",
              "    </tr>\n",
              "  </thead>\n",
              "  <tbody>\n",
              "    <tr>\n",
              "      <th>1/22/20</th>\n",
              "      <td>1</td>\n",
              "      <td>0</td>\n",
              "      <td>0</td>\n",
              "    </tr>\n",
              "    <tr>\n",
              "      <th>1/23/20</th>\n",
              "      <td>1</td>\n",
              "      <td>0</td>\n",
              "      <td>0</td>\n",
              "    </tr>\n",
              "    <tr>\n",
              "      <th>1/24/20</th>\n",
              "      <td>2</td>\n",
              "      <td>0</td>\n",
              "      <td>0</td>\n",
              "    </tr>\n",
              "    <tr>\n",
              "      <th>1/25/20</th>\n",
              "      <td>2</td>\n",
              "      <td>0</td>\n",
              "      <td>0</td>\n",
              "    </tr>\n",
              "    <tr>\n",
              "      <th>1/26/20</th>\n",
              "      <td>5</td>\n",
              "      <td>0</td>\n",
              "      <td>0</td>\n",
              "    </tr>\n",
              "    <tr>\n",
              "      <th>...</th>\n",
              "      <td>...</td>\n",
              "      <td>...</td>\n",
              "      <td>...</td>\n",
              "    </tr>\n",
              "    <tr>\n",
              "      <th>4/29/21</th>\n",
              "      <td>32289049</td>\n",
              "      <td>0</td>\n",
              "      <td>575290</td>\n",
              "    </tr>\n",
              "    <tr>\n",
              "      <th>4/30/21</th>\n",
              "      <td>32346971</td>\n",
              "      <td>0</td>\n",
              "      <td>576328</td>\n",
              "    </tr>\n",
              "    <tr>\n",
              "      <th>5/1/21</th>\n",
              "      <td>32392274</td>\n",
              "      <td>0</td>\n",
              "      <td>576722</td>\n",
              "    </tr>\n",
              "    <tr>\n",
              "      <th>5/2/21</th>\n",
              "      <td>32421641</td>\n",
              "      <td>0</td>\n",
              "      <td>577045</td>\n",
              "    </tr>\n",
              "    <tr>\n",
              "      <th>5/3/21</th>\n",
              "      <td>32470920</td>\n",
              "      <td>0</td>\n",
              "      <td>577500</td>\n",
              "    </tr>\n",
              "  </tbody>\n",
              "</table>\n",
              "<p>468 rows × 3 columns</p>\n",
              "</div>"
            ],
            "text/plain": [
              "         Confirm_Cases  Recovered_Cases  Deaths\n",
              "1/22/20              1                0       0\n",
              "1/23/20              1                0       0\n",
              "1/24/20              2                0       0\n",
              "1/25/20              2                0       0\n",
              "1/26/20              5                0       0\n",
              "...                ...              ...     ...\n",
              "4/29/21       32289049                0  575290\n",
              "4/30/21       32346971                0  576328\n",
              "5/1/21        32392274                0  576722\n",
              "5/2/21        32421641                0  577045\n",
              "5/3/21        32470920                0  577500\n",
              "\n",
              "[468 rows x 3 columns]"
            ]
          },
          "metadata": {
            "tags": []
          },
          "execution_count": 28
        }
      ]
    },
    {
      "cell_type": "code",
      "metadata": {
        "id": "G1drXmNdGH58"
      },
      "source": [
        "usa_data = usa_data.head(327)"
      ],
      "execution_count": 29,
      "outputs": []
    },
    {
      "cell_type": "code",
      "metadata": {
        "colab": {
          "base_uri": "https://localhost:8080/",
          "height": 295
        },
        "id": "7GxRYIv__XAv",
        "outputId": "b5cd627e-2a3c-43ab-fc38-fab156c1ef9e"
      },
      "source": [
        "plt.plot(usa_data.index, usa_data['Confirm_Cases'], label = \"Confirmed Cases\", linestyle=\"-\")\n",
        "plt.plot(usa_data.index, usa_data['Recovered_Cases'], label = \"Recovered Cases\", linestyle=\"--\")\n",
        "plt.plot(usa_data.index, usa_data['Deaths'], label = \"Deaths\", linestyle=\"-.\")\n",
        "plt.xlabel(\"Days\")\n",
        "plt.ylabel(\"Number of Cases\")\n",
        "plt.title(\"USA Covid Cases\")\n",
        "plt.legend()\n",
        "plt.show()"
      ],
      "execution_count": 30,
      "outputs": [
        {
          "output_type": "display_data",
          "data": {
            "image/png": "[encoded data removed]",
            "text/plain": [
              "<Figure size 432x288 with 1 Axes>"
            ]
          },
          "metadata": {
            "tags": [],
            "needs_background": "light"
          }
        }
      ]
    },
    {
      "cell_type": "code",
      "metadata": {
        "colab": {
          "base_uri": "https://localhost:8080/",
          "height": 455
        },
        "id": "hm0sbDpj_miX",
        "outputId": "232cb3bf-e7a2-431d-a1cc-56e6c72079c5"
      },
      "source": [
        "italy_confirmed_cases = confirmed_cases.loc[confirmed_cases['Country/Region']=='Italy']\n",
        "italy_confirmed_cases = italy_confirmed_cases.drop(['Country/Region'], axis = 1)\n",
        "italy_recovered_cases = recovered_cases.loc[recovered_cases['Country/Region']=='Italy']\n",
        "italy_recovered_cases = italy_recovered_cases.drop(['Country/Region'], axis = 1)\n",
        "italy_deaths = deaths.loc[confirmed_cases['Country/Region']=='Italy']\n",
        "italy_deaths = italy_deaths.drop(['Country/Region'], axis = 1)\n",
        "\n",
        "italy_confirmed_cases.index = ['Confirm_Cases']\n",
        "italy_confirmed_cases = italy_confirmed_cases.transpose()\n",
        "italy_data = italy_confirmed_cases\n",
        "\n",
        "italy_recovered_cases.indea = ['Recovered_Cases']\n",
        "italy_recovered_cases = italy_recovered_cases.transpose()\n",
        "italy_data['Recovered_Cases'] = italy_recovered_cases\n",
        "\n",
        "italy_deaths.index = ['Deaths']\n",
        "italy_deaths = italy_deaths.transpose()\n",
        "italy_data['Deaths'] = italy_deaths\n",
        "\n",
        "italy_data"
      ],
      "execution_count": 31,
      "outputs": [
        {
          "output_type": "stream",
          "text": [
            "/usr/local/lib/python3.7/dist-packages/ipykernel_launcher.py:12: UserWarning: Pandas doesn't allow columns to be created via a new attribute name - see https://pandas.pydata.org/pandas-docs/stable/indexing.html#attribute-access\n",
            "  if sys.path[0] == '':\n"
          ],
          "name": "stderr"
        },
        {
          "output_type": "execute_result",
          "data": {
            "text/html": [
              "<div>\n",
              "<style scoped>\n",
              "    .dataframe tbody tr th:only-of-type {\n",
              "        vertical-align: middle;\n",
              "    }\n",
              "\n",
              "    .dataframe tbody tr th {\n",
              "        vertical-align: top;\n",
              "    }\n",
              "\n",
              "    .dataframe thead th {\n",
              "        text-align: right;\n",
              "    }\n",
              "</style>\n",
              "<table border=\"1\" class=\"dataframe\">\n",
              "  <thead>\n",
              "    <tr style=\"text-align: right;\">\n",
              "      <th></th>\n",
              "      <th>Confirm_Cases</th>\n",
              "      <th>Recovered_Cases</th>\n",
              "      <th>Deaths</th>\n",
              "    </tr>\n",
              "  </thead>\n",
              "  <tbody>\n",
              "    <tr>\n",
              "      <th>1/22/20</th>\n",
              "      <td>0</td>\n",
              "      <td>0</td>\n",
              "      <td>0</td>\n",
              "    </tr>\n",
              "    <tr>\n",
              "      <th>1/23/20</th>\n",
              "      <td>0</td>\n",
              "      <td>0</td>\n",
              "      <td>0</td>\n",
              "    </tr>\n",
              "    <tr>\n",
              "      <th>1/24/20</th>\n",
              "      <td>0</td>\n",
              "      <td>0</td>\n",
              "      <td>0</td>\n",
              "    </tr>\n",
              "    <tr>\n",
              "      <th>1/25/20</th>\n",
              "      <td>0</td>\n",
              "      <td>0</td>\n",
              "      <td>0</td>\n",
              "    </tr>\n",
              "    <tr>\n",
              "      <th>1/26/20</th>\n",
              "      <td>0</td>\n",
              "      <td>0</td>\n",
              "      <td>0</td>\n",
              "    </tr>\n",
              "    <tr>\n",
              "      <th>...</th>\n",
              "      <td>...</td>\n",
              "      <td>...</td>\n",
              "      <td>...</td>\n",
              "    </tr>\n",
              "    <tr>\n",
              "      <th>4/29/21</th>\n",
              "      <td>4009208</td>\n",
              "      <td>3449955</td>\n",
              "      <td>120544</td>\n",
              "    </tr>\n",
              "    <tr>\n",
              "      <th>4/30/21</th>\n",
              "      <td>4022653</td>\n",
              "      <td>3465576</td>\n",
              "      <td>120807</td>\n",
              "    </tr>\n",
              "    <tr>\n",
              "      <th>5/1/21</th>\n",
              "      <td>4035617</td>\n",
              "      <td>3484042</td>\n",
              "      <td>121033</td>\n",
              "    </tr>\n",
              "    <tr>\n",
              "      <th>5/2/21</th>\n",
              "      <td>4044762</td>\n",
              "      <td>3492679</td>\n",
              "      <td>121177</td>\n",
              "    </tr>\n",
              "    <tr>\n",
              "      <th>5/3/21</th>\n",
              "      <td>4050708</td>\n",
              "      <td>3505717</td>\n",
              "      <td>121433</td>\n",
              "    </tr>\n",
              "  </tbody>\n",
              "</table>\n",
              "<p>468 rows × 3 columns</p>\n",
              "</div>"
            ],
            "text/plain": [
              "         Confirm_Cases  Recovered_Cases  Deaths\n",
              "1/22/20              0                0       0\n",
              "1/23/20              0                0       0\n",
              "1/24/20              0                0       0\n",
              "1/25/20              0                0       0\n",
              "1/26/20              0                0       0\n",
              "...                ...              ...     ...\n",
              "4/29/21        4009208          3449955  120544\n",
              "4/30/21        4022653          3465576  120807\n",
              "5/1/21         4035617          3484042  121033\n",
              "5/2/21         4044762          3492679  121177\n",
              "5/3/21         4050708          3505717  121433\n",
              "\n",
              "[468 rows x 3 columns]"
            ]
          },
          "metadata": {
            "tags": []
          },
          "execution_count": 31
        }
      ]
    },
    {
      "cell_type": "code",
      "metadata": {
        "colab": {
          "base_uri": "https://localhost:8080/",
          "height": 295
        },
        "id": "FUnSTEugBQkV",
        "outputId": "ec04458c-e65e-4314-f49e-8525928fa265"
      },
      "source": [
        "plt.plot(italy_data.index, italy_data['Confirm_Cases'], label = \"Confirmed Cases\", linestyle=\"-\")\n",
        "plt.plot(italy_data.index, italy_data['Recovered_Cases'], label = \"Recovered Cases\", linestyle=\"--\")\n",
        "plt.plot(italy_data.index, italy_data['Deaths'], label = \"Deaths\", linestyle=\"-.\")\n",
        "plt.xlabel(\"Days\")\n",
        "plt.ylabel(\"Number of Cases\")\n",
        "plt.title(\"Italy Covid Cases\")\n",
        "plt.legend()\n",
        "plt.show()"
      ],
      "execution_count": 32,
      "outputs": [
        {
          "output_type": "display_data",
          "data": {
            "image/png": "[encoded data removed]",
            "text/plain": [
              "<Figure size 432x288 with 1 Axes>"
            ]
          },
          "metadata": {
            "tags": [],
            "needs_background": "light"
          }
        }
      ]
    },
    {
      "cell_type": "markdown",
      "metadata": {
        "id": "MRIM4OCtxE_C"
      },
      "source": [
        "# ***TASK - 3***\n",
        "\n",
        "\n",
        "Train the ML model with the hypothesis of regression for India and predict the number of \n",
        "covid cases on 4th May, 2021 (i.e. Today)"
      ]
    },
    {
      "cell_type": "code",
      "metadata": {
        "id": "2zgpg1uizrEt"
      },
      "source": [
        "from sklearn.linear_model import LinearRegression"
      ],
      "execution_count": 73,
      "outputs": []
    },
    {
      "cell_type": "code",
      "metadata": {
        "id": "H2K6kHFvRG58"
      },
      "source": [
        "X_features = np.array(range(1,469))\n",
        "X_features = X_features.reshape(-1,1)\n",
        "Y = np.array(india_confirmed_cases['Confirm_Cases'])\n",
        "Y = Y.reshape(-1,1)"
      ],
      "execution_count": 34,
      "outputs": []
    },
    {
      "cell_type": "code",
      "metadata": {
        "colab": {
          "base_uri": "https://localhost:8080/"
        },
        "id": "5YDcRaTBSPbl",
        "outputId": "451c06a8-c3aa-4c54-ebdb-c8c1a7124047"
      },
      "source": [
        "x = np.array([469]).reshape(-1, 1)\n",
        "x"
      ],
      "execution_count": 72,
      "outputs": [
        {
          "output_type": "execute_result",
          "data": {
            "text/plain": [
              "array([[469]])"
            ]
          },
          "metadata": {
            "tags": []
          },
          "execution_count": 72
        }
      ]
    },
    {
      "cell_type": "code",
      "metadata": {
        "colab": {
          "base_uri": "https://localhost:8080/"
        },
        "id": "VY86P0JFyaBP",
        "outputId": "c6352534-7fc4-4e85-f320-0ce4e3c638b2"
      },
      "source": [
        "from sklearn.preprocessing import PolynomialFeatures\n",
        "polynomial_model = PolynomialFeatures(degree = 10)\n",
        "X_poly = polynomial_model.fit_transform(X_features)\n",
        "polynomial_model = polynomial_model.fit(X_poly, Y)\n",
        "lin2 = LinearRegression()\n",
        "lin2.fit(X_poly, Y)\n",
        "ans2 =int(lin2.predict(polynomial_model.fit_transform(x))) \n",
        "print(ans2)"
      ],
      "execution_count": 71,
      "outputs": [
        {
          "output_type": "stream",
          "text": [
            "20245941\n"
          ],
          "name": "stdout"
        }
      ]
    },
    {
      "cell_type": "code",
      "metadata": {
        "id": "U_5P2IZwz5tV"
      },
      "source": [
        "cases_4_may = ans2 - Y[-1]"
      ],
      "execution_count": 77,
      "outputs": []
    },
    {
      "cell_type": "code",
      "metadata": {
        "colab": {
          "base_uri": "https://localhost:8080/"
        },
        "id": "fnvOryuQ0G9K",
        "outputId": "7cd4a601-4a41-4dcf-f2cb-c407a41c526c"
      },
      "source": [
        "#Cases on 4th May all over India\n",
        "cases_4_may"
      ],
      "execution_count": 78,
      "outputs": [
        {
          "output_type": "execute_result",
          "data": {
            "text/plain": [
              "array([320337])"
            ]
          },
          "metadata": {
            "tags": []
          },
          "execution_count": 78
        }
      ]
    },
    {
      "cell_type": "markdown",
      "metadata": {
        "id": "kWgHtvHOxKo8"
      },
      "source": [
        "# ***TASK - 4***\n",
        "\n",
        "\n",
        "Analyse the cases of Confirmed, Death and Recovered figures from 01 March, 2021 in \n",
        "Gujarat"
      ]
    },
    {
      "cell_type": "code",
      "metadata": {
        "id": "exlHt5FITXSX"
      },
      "source": [
        "import os\n",
        "import glob"
      ],
      "execution_count": 37,
      "outputs": []
    },
    {
      "cell_type": "code",
      "metadata": {
        "colab": {
          "base_uri": "https://localhost:8080/"
        },
        "id": "p13ZW_frk_ZT",
        "outputId": "16721905-77ee-42fa-cb82-d4028abfd10c"
      },
      "source": [
        "location = \"DailyCases\"\n",
        "file_name = []\n",
        "\n",
        "for file in os.listdir(location):\n",
        "  file_name.append(file)\n",
        "\n",
        "print(file_name)\n",
        "\n",
        "combined_csv = pd.concat([pd.read_csv(\"DailyCases/\"+f) for f in file_name ])\n",
        "combined_csv.to_csv(\"combined_csv.csv\",index=False,encoding='utf-8-sig')"
      ],
      "execution_count": 122,
      "outputs": [
        {
          "output_type": "stream",
          "text": [
            "['03-01-2021.csv', '03-02-2021.csv', '03-03-2021.csv', '03-04-2021.csv', '03-05-2021.csv', '03-06-2021.csv', '03-07-2021.csv', '03-08-2021.csv', '03-09-2021.csv', '03-10-2021.csv', '03-11-2021.csv', '03-12-2021.csv', '03-13-2021.csv', '03-14-2021.csv', '03-15-2021.csv', '03-16-2021.csv', '03-17-2021.csv', '03-18-2021.csv', '03-19-2021.csv', '03-20-2021.csv', '03-21-2021.csv', '03-22-2021.csv', '03-23-2021.csv', '03-24-2021.csv', '03-25-2021.csv', '03-26-2021.csv', '03-27-2021.csv', '03-28-2021.csv', '03-29-2021.csv', '03-30-2021.csv', '03-31-2021.csv', '04-01-2021.csv', '04-02-2021.csv', '04-03-2021.csv', '04-04-2021.csv', '04-05-2021.csv', '04-06-2021.csv', '04-07-2021.csv', '04-08-2021.csv', '04-09-2021.csv', '04-10-2021.csv', '04-11-2021.csv', '04-12-2021.csv', '04-13-2021.csv', '04-14-2021.csv', '04-15-2021.csv', '04-16-2021.csv', '04-17-2021.csv', '04-18-2021.csv', '04-19-2021.csv', '04-20-2021.csv', '04-21-2021.csv', '04-22-2021.csv', '04-23-2021.csv', '04-24-2021.csv', '04-25-2021.csv', '04-26-2021.csv', '04-27-2021.csv', '04-28-2021.csv', '04-29-2021.csv', '04-30-2021.csv', '05-01-2021.csv', '05-02-2021.csv', '05-03-2021.csv']\n"
          ],
          "name": "stdout"
        }
      ]
    },
    {
      "cell_type": "code",
      "metadata": {
        "colab": {
          "base_uri": "https://localhost:8080/",
          "height": 570
        },
        "id": "zSDduDP5nFfZ",
        "outputId": "f3529e5a-2e9a-4629-e39d-c8a64eb19541"
      },
      "source": [
        "combined_csv"
      ],
      "execution_count": 123,
      "outputs": [
        {
          "output_type": "execute_result",
          "data": {
            "text/html": [
              "<div>\n",
              "<style scoped>\n",
              "    .dataframe tbody tr th:only-of-type {\n",
              "        vertical-align: middle;\n",
              "    }\n",
              "\n",
              "    .dataframe tbody tr th {\n",
              "        vertical-align: top;\n",
              "    }\n",
              "\n",
              "    .dataframe thead th {\n",
              "        text-align: right;\n",
              "    }\n",
              "</style>\n",
              "<table border=\"1\" class=\"dataframe\">\n",
              "  <thead>\n",
              "    <tr style=\"text-align: right;\">\n",
              "      <th></th>\n",
              "      <th>FIPS</th>\n",
              "      <th>Admin2</th>\n",
              "      <th>Province_State</th>\n",
              "      <th>Country_Region</th>\n",
              "      <th>Last_Update</th>\n",
              "      <th>Lat</th>\n",
              "      <th>Long_</th>\n",
              "      <th>Confirmed</th>\n",
              "      <th>Deaths</th>\n",
              "      <th>Recovered</th>\n",
              "      <th>Active</th>\n",
              "      <th>Combined_Key</th>\n",
              "      <th>Incident_Rate</th>\n",
              "      <th>Case_Fatality_Ratio</th>\n",
              "    </tr>\n",
              "  </thead>\n",
              "  <tbody>\n",
              "    <tr>\n",
              "      <th>0</th>\n",
              "      <td>NaN</td>\n",
              "      <td>NaN</td>\n",
              "      <td>NaN</td>\n",
              "      <td>Afghanistan</td>\n",
              "      <td>2021-03-02 05:23:30</td>\n",
              "      <td>33.939110</td>\n",
              "      <td>67.709953</td>\n",
              "      <td>55733</td>\n",
              "      <td>2444</td>\n",
              "      <td>49344.0</td>\n",
              "      <td>3945.0</td>\n",
              "      <td>Afghanistan</td>\n",
              "      <td>143.168187</td>\n",
              "      <td>4.385194</td>\n",
              "    </tr>\n",
              "    <tr>\n",
              "      <th>1</th>\n",
              "      <td>NaN</td>\n",
              "      <td>NaN</td>\n",
              "      <td>NaN</td>\n",
              "      <td>Albania</td>\n",
              "      <td>2021-03-02 05:23:30</td>\n",
              "      <td>41.153300</td>\n",
              "      <td>20.168300</td>\n",
              "      <td>107931</td>\n",
              "      <td>1816</td>\n",
              "      <td>70413.0</td>\n",
              "      <td>35702.0</td>\n",
              "      <td>Albania</td>\n",
              "      <td>3750.469108</td>\n",
              "      <td>1.682556</td>\n",
              "    </tr>\n",
              "    <tr>\n",
              "      <th>2</th>\n",
              "      <td>NaN</td>\n",
              "      <td>NaN</td>\n",
              "      <td>NaN</td>\n",
              "      <td>Algeria</td>\n",
              "      <td>2021-03-02 05:23:30</td>\n",
              "      <td>28.033900</td>\n",
              "      <td>1.659600</td>\n",
              "      <td>113255</td>\n",
              "      <td>2987</td>\n",
              "      <td>78234.0</td>\n",
              "      <td>32034.0</td>\n",
              "      <td>Algeria</td>\n",
              "      <td>258.272078</td>\n",
              "      <td>2.637411</td>\n",
              "    </tr>\n",
              "    <tr>\n",
              "      <th>3</th>\n",
              "      <td>NaN</td>\n",
              "      <td>NaN</td>\n",
              "      <td>NaN</td>\n",
              "      <td>Andorra</td>\n",
              "      <td>2021-03-02 05:23:30</td>\n",
              "      <td>42.506300</td>\n",
              "      <td>1.521800</td>\n",
              "      <td>10889</td>\n",
              "      <td>110</td>\n",
              "      <td>10475.0</td>\n",
              "      <td>304.0</td>\n",
              "      <td>Andorra</td>\n",
              "      <td>14093.056364</td>\n",
              "      <td>1.010194</td>\n",
              "    </tr>\n",
              "    <tr>\n",
              "      <th>4</th>\n",
              "      <td>NaN</td>\n",
              "      <td>NaN</td>\n",
              "      <td>NaN</td>\n",
              "      <td>Angola</td>\n",
              "      <td>2021-03-02 05:23:30</td>\n",
              "      <td>-11.202700</td>\n",
              "      <td>17.873900</td>\n",
              "      <td>20854</td>\n",
              "      <td>508</td>\n",
              "      <td>19400.0</td>\n",
              "      <td>946.0</td>\n",
              "      <td>Angola</td>\n",
              "      <td>63.451074</td>\n",
              "      <td>2.435984</td>\n",
              "    </tr>\n",
              "    <tr>\n",
              "      <th>...</th>\n",
              "      <td>...</td>\n",
              "      <td>...</td>\n",
              "      <td>...</td>\n",
              "      <td>...</td>\n",
              "      <td>...</td>\n",
              "      <td>...</td>\n",
              "      <td>...</td>\n",
              "      <td>...</td>\n",
              "      <td>...</td>\n",
              "      <td>...</td>\n",
              "      <td>...</td>\n",
              "      <td>...</td>\n",
              "      <td>...</td>\n",
              "      <td>...</td>\n",
              "    </tr>\n",
              "    <tr>\n",
              "      <th>3978</th>\n",
              "      <td>NaN</td>\n",
              "      <td>NaN</td>\n",
              "      <td>NaN</td>\n",
              "      <td>Vietnam</td>\n",
              "      <td>2021-05-04 04:20:34</td>\n",
              "      <td>14.058324</td>\n",
              "      <td>108.277199</td>\n",
              "      <td>2985</td>\n",
              "      <td>35</td>\n",
              "      <td>2560.0</td>\n",
              "      <td>390.0</td>\n",
              "      <td>Vietnam</td>\n",
              "      <td>3.066615</td>\n",
              "      <td>1.172529</td>\n",
              "    </tr>\n",
              "    <tr>\n",
              "      <th>3979</th>\n",
              "      <td>NaN</td>\n",
              "      <td>NaN</td>\n",
              "      <td>NaN</td>\n",
              "      <td>West Bank and Gaza</td>\n",
              "      <td>2021-05-04 04:20:34</td>\n",
              "      <td>31.952200</td>\n",
              "      <td>35.233200</td>\n",
              "      <td>298203</td>\n",
              "      <td>3283</td>\n",
              "      <td>276171.0</td>\n",
              "      <td>18749.0</td>\n",
              "      <td>West Bank and Gaza</td>\n",
              "      <td>5845.494663</td>\n",
              "      <td>1.100928</td>\n",
              "    </tr>\n",
              "    <tr>\n",
              "      <th>3980</th>\n",
              "      <td>NaN</td>\n",
              "      <td>NaN</td>\n",
              "      <td>NaN</td>\n",
              "      <td>Yemen</td>\n",
              "      <td>2021-05-04 04:20:34</td>\n",
              "      <td>15.552727</td>\n",
              "      <td>48.516388</td>\n",
              "      <td>6363</td>\n",
              "      <td>1239</td>\n",
              "      <td>2910.0</td>\n",
              "      <td>2214.0</td>\n",
              "      <td>Yemen</td>\n",
              "      <td>21.333759</td>\n",
              "      <td>19.471947</td>\n",
              "    </tr>\n",
              "    <tr>\n",
              "      <th>3981</th>\n",
              "      <td>NaN</td>\n",
              "      <td>NaN</td>\n",
              "      <td>NaN</td>\n",
              "      <td>Zambia</td>\n",
              "      <td>2021-05-04 04:20:34</td>\n",
              "      <td>-13.133897</td>\n",
              "      <td>27.849332</td>\n",
              "      <td>91722</td>\n",
              "      <td>1253</td>\n",
              "      <td>90130.0</td>\n",
              "      <td>339.0</td>\n",
              "      <td>Zambia</td>\n",
              "      <td>498.924171</td>\n",
              "      <td>1.366084</td>\n",
              "    </tr>\n",
              "    <tr>\n",
              "      <th>3982</th>\n",
              "      <td>NaN</td>\n",
              "      <td>NaN</td>\n",
              "      <td>NaN</td>\n",
              "      <td>Zimbabwe</td>\n",
              "      <td>2021-05-04 04:20:34</td>\n",
              "      <td>-19.015438</td>\n",
              "      <td>29.154857</td>\n",
              "      <td>38293</td>\n",
              "      <td>1573</td>\n",
              "      <td>35647.0</td>\n",
              "      <td>1073.0</td>\n",
              "      <td>Zimbabwe</td>\n",
              "      <td>257.641042</td>\n",
              "      <td>4.107800</td>\n",
              "    </tr>\n",
              "  </tbody>\n",
              "</table>\n",
              "<p>254912 rows × 14 columns</p>\n",
              "</div>"
            ],
            "text/plain": [
              "      FIPS Admin2  ... Incident_Rate Case_Fatality_Ratio\n",
              "0      NaN    NaN  ...    143.168187            4.385194\n",
              "1      NaN    NaN  ...   3750.469108            1.682556\n",
              "2      NaN    NaN  ...    258.272078            2.637411\n",
              "3      NaN    NaN  ...  14093.056364            1.010194\n",
              "4      NaN    NaN  ...     63.451074            2.435984\n",
              "...    ...    ...  ...           ...                 ...\n",
              "3978   NaN    NaN  ...      3.066615            1.172529\n",
              "3979   NaN    NaN  ...   5845.494663            1.100928\n",
              "3980   NaN    NaN  ...     21.333759           19.471947\n",
              "3981   NaN    NaN  ...    498.924171            1.366084\n",
              "3982   NaN    NaN  ...    257.641042            4.107800\n",
              "\n",
              "[254912 rows x 14 columns]"
            ]
          },
          "metadata": {
            "tags": []
          },
          "execution_count": 123
        }
      ]
    },
    {
      "cell_type": "code",
      "metadata": {
        "id": "H79YFI6_rr2C"
      },
      "source": [
        "combined_csv = combined_csv.drop(['FIPS','Admin2','Lat','Long_','Incident_Rate','Case_Fatality_Ratio'],axis=1)"
      ],
      "execution_count": 124,
      "outputs": []
    },
    {
      "cell_type": "code",
      "metadata": {
        "colab": {
          "base_uri": "https://localhost:8080/",
          "height": 402
        },
        "id": "FPea1KtXsHcO",
        "outputId": "ebce45f5-8977-4e2f-9953-0e162de4e6e8"
      },
      "source": [
        "combined_csv"
      ],
      "execution_count": 50,
      "outputs": [
        {
          "output_type": "execute_result",
          "data": {
            "text/html": [
              "<div>\n",
              "<style scoped>\n",
              "    .dataframe tbody tr th:only-of-type {\n",
              "        vertical-align: middle;\n",
              "    }\n",
              "\n",
              "    .dataframe tbody tr th {\n",
              "        vertical-align: top;\n",
              "    }\n",
              "\n",
              "    .dataframe thead th {\n",
              "        text-align: right;\n",
              "    }\n",
              "</style>\n",
              "<table border=\"1\" class=\"dataframe\">\n",
              "  <thead>\n",
              "    <tr style=\"text-align: right;\">\n",
              "      <th></th>\n",
              "      <th>Province_State</th>\n",
              "      <th>Last_Update</th>\n",
              "      <th>Confirmed</th>\n",
              "      <th>Deaths</th>\n",
              "      <th>Recovered</th>\n",
              "      <th>Active</th>\n",
              "      <th>Combined_Key</th>\n",
              "    </tr>\n",
              "  </thead>\n",
              "  <tbody>\n",
              "    <tr>\n",
              "      <th>0</th>\n",
              "      <td>NaN</td>\n",
              "      <td>2021-03-02 05:23:30</td>\n",
              "      <td>55733</td>\n",
              "      <td>2444</td>\n",
              "      <td>49344.0</td>\n",
              "      <td>3945.0</td>\n",
              "      <td>Afghanistan</td>\n",
              "    </tr>\n",
              "    <tr>\n",
              "      <th>1</th>\n",
              "      <td>NaN</td>\n",
              "      <td>2021-03-02 05:23:30</td>\n",
              "      <td>107931</td>\n",
              "      <td>1816</td>\n",
              "      <td>70413.0</td>\n",
              "      <td>35702.0</td>\n",
              "      <td>Albania</td>\n",
              "    </tr>\n",
              "    <tr>\n",
              "      <th>2</th>\n",
              "      <td>NaN</td>\n",
              "      <td>2021-03-02 05:23:30</td>\n",
              "      <td>113255</td>\n",
              "      <td>2987</td>\n",
              "      <td>78234.0</td>\n",
              "      <td>32034.0</td>\n",
              "      <td>Algeria</td>\n",
              "    </tr>\n",
              "    <tr>\n",
              "      <th>3</th>\n",
              "      <td>NaN</td>\n",
              "      <td>2021-03-02 05:23:30</td>\n",
              "      <td>10889</td>\n",
              "      <td>110</td>\n",
              "      <td>10475.0</td>\n",
              "      <td>304.0</td>\n",
              "      <td>Andorra</td>\n",
              "    </tr>\n",
              "    <tr>\n",
              "      <th>4</th>\n",
              "      <td>NaN</td>\n",
              "      <td>2021-03-02 05:23:30</td>\n",
              "      <td>20854</td>\n",
              "      <td>508</td>\n",
              "      <td>19400.0</td>\n",
              "      <td>946.0</td>\n",
              "      <td>Angola</td>\n",
              "    </tr>\n",
              "    <tr>\n",
              "      <th>...</th>\n",
              "      <td>...</td>\n",
              "      <td>...</td>\n",
              "      <td>...</td>\n",
              "      <td>...</td>\n",
              "      <td>...</td>\n",
              "      <td>...</td>\n",
              "      <td>...</td>\n",
              "    </tr>\n",
              "    <tr>\n",
              "      <th>3978</th>\n",
              "      <td>NaN</td>\n",
              "      <td>2021-05-04 04:20:34</td>\n",
              "      <td>2985</td>\n",
              "      <td>35</td>\n",
              "      <td>2560.0</td>\n",
              "      <td>390.0</td>\n",
              "      <td>Vietnam</td>\n",
              "    </tr>\n",
              "    <tr>\n",
              "      <th>3979</th>\n",
              "      <td>NaN</td>\n",
              "      <td>2021-05-04 04:20:34</td>\n",
              "      <td>298203</td>\n",
              "      <td>3283</td>\n",
              "      <td>276171.0</td>\n",
              "      <td>18749.0</td>\n",
              "      <td>West Bank and Gaza</td>\n",
              "    </tr>\n",
              "    <tr>\n",
              "      <th>3980</th>\n",
              "      <td>NaN</td>\n",
              "      <td>2021-05-04 04:20:34</td>\n",
              "      <td>6363</td>\n",
              "      <td>1239</td>\n",
              "      <td>2910.0</td>\n",
              "      <td>2214.0</td>\n",
              "      <td>Yemen</td>\n",
              "    </tr>\n",
              "    <tr>\n",
              "      <th>3981</th>\n",
              "      <td>NaN</td>\n",
              "      <td>2021-05-04 04:20:34</td>\n",
              "      <td>91722</td>\n",
              "      <td>1253</td>\n",
              "      <td>90130.0</td>\n",
              "      <td>339.0</td>\n",
              "      <td>Zambia</td>\n",
              "    </tr>\n",
              "    <tr>\n",
              "      <th>3982</th>\n",
              "      <td>NaN</td>\n",
              "      <td>2021-05-04 04:20:34</td>\n",
              "      <td>38293</td>\n",
              "      <td>1573</td>\n",
              "      <td>35647.0</td>\n",
              "      <td>1073.0</td>\n",
              "      <td>Zimbabwe</td>\n",
              "    </tr>\n",
              "  </tbody>\n",
              "</table>\n",
              "<p>254912 rows × 7 columns</p>\n",
              "</div>"
            ],
            "text/plain": [
              "     Province_State          Last_Update  ...   Active        Combined_Key\n",
              "0               NaN  2021-03-02 05:23:30  ...   3945.0         Afghanistan\n",
              "1               NaN  2021-03-02 05:23:30  ...  35702.0             Albania\n",
              "2               NaN  2021-03-02 05:23:30  ...  32034.0             Algeria\n",
              "3               NaN  2021-03-02 05:23:30  ...    304.0             Andorra\n",
              "4               NaN  2021-03-02 05:23:30  ...    946.0              Angola\n",
              "...             ...                  ...  ...      ...                 ...\n",
              "3978            NaN  2021-05-04 04:20:34  ...    390.0             Vietnam\n",
              "3979            NaN  2021-05-04 04:20:34  ...  18749.0  West Bank and Gaza\n",
              "3980            NaN  2021-05-04 04:20:34  ...   2214.0               Yemen\n",
              "3981            NaN  2021-05-04 04:20:34  ...    339.0              Zambia\n",
              "3982            NaN  2021-05-04 04:20:34  ...   1073.0            Zimbabwe\n",
              "\n",
              "[254912 rows x 7 columns]"
            ]
          },
          "metadata": {
            "tags": []
          },
          "execution_count": 50
        }
      ]
    },
    {
      "cell_type": "code",
      "metadata": {
        "id": "LnrGH8S5JUQ5"
      },
      "source": [
        "india_daily_data = combined_csv.loc[combined_csv['Country_Region']=='India']"
      ],
      "execution_count": 129,
      "outputs": []
    },
    {
      "cell_type": "code",
      "metadata": {
        "id": "InawEjH_sI9S"
      },
      "source": [
        "gujarat_data = combined_csv.loc[combined_csv['Province_State']=='Gujarat']\n",
        "gujarat_data = pd.DataFrame(gujarat_data)"
      ],
      "execution_count": 55,
      "outputs": []
    },
    {
      "cell_type": "code",
      "metadata": {
        "colab": {
          "base_uri": "https://localhost:8080/",
          "height": 402
        },
        "id": "kVOOydqhubHn",
        "outputId": "ded24e40-6445-4dac-b03f-aec053819e77"
      },
      "source": [
        "gujarat_data"
      ],
      "execution_count": 57,
      "outputs": [
        {
          "output_type": "execute_result",
          "data": {
            "text/html": [
              "<div>\n",
              "<style scoped>\n",
              "    .dataframe tbody tr th:only-of-type {\n",
              "        vertical-align: middle;\n",
              "    }\n",
              "\n",
              "    .dataframe tbody tr th {\n",
              "        vertical-align: top;\n",
              "    }\n",
              "\n",
              "    .dataframe thead th {\n",
              "        text-align: right;\n",
              "    }\n",
              "</style>\n",
              "<table border=\"1\" class=\"dataframe\">\n",
              "  <thead>\n",
              "    <tr style=\"text-align: right;\">\n",
              "      <th></th>\n",
              "      <th>Province_State</th>\n",
              "      <th>Last_Update</th>\n",
              "      <th>Confirmed</th>\n",
              "      <th>Deaths</th>\n",
              "      <th>Recovered</th>\n",
              "      <th>Active</th>\n",
              "      <th>Combined_Key</th>\n",
              "    </tr>\n",
              "  </thead>\n",
              "  <tbody>\n",
              "    <tr>\n",
              "      <th>259</th>\n",
              "      <td>Gujarat</td>\n",
              "      <td>2021-03-02 05:23:30</td>\n",
              "      <td>270316</td>\n",
              "      <td>4410</td>\n",
              "      <td>263475.0</td>\n",
              "      <td>2431.0</td>\n",
              "      <td>Gujarat, India</td>\n",
              "    </tr>\n",
              "    <tr>\n",
              "      <th>259</th>\n",
              "      <td>Gujarat</td>\n",
              "      <td>2021-03-03 05:23:28</td>\n",
              "      <td>270770</td>\n",
              "      <td>4411</td>\n",
              "      <td>263837.0</td>\n",
              "      <td>2522.0</td>\n",
              "      <td>Gujarat, India</td>\n",
              "    </tr>\n",
              "    <tr>\n",
              "      <th>259</th>\n",
              "      <td>Gujarat</td>\n",
              "      <td>2021-03-04 05:24:24</td>\n",
              "      <td>271245</td>\n",
              "      <td>4412</td>\n",
              "      <td>264195.0</td>\n",
              "      <td>2638.0</td>\n",
              "      <td>Gujarat, India</td>\n",
              "    </tr>\n",
              "    <tr>\n",
              "      <th>259</th>\n",
              "      <td>Gujarat</td>\n",
              "      <td>2021-03-05 05:26:29</td>\n",
              "      <td>271725</td>\n",
              "      <td>4412</td>\n",
              "      <td>264564.0</td>\n",
              "      <td>2749.0</td>\n",
              "      <td>Gujarat, India</td>\n",
              "    </tr>\n",
              "    <tr>\n",
              "      <th>259</th>\n",
              "      <td>Gujarat</td>\n",
              "      <td>2021-03-06 04:23:41</td>\n",
              "      <td>272240</td>\n",
              "      <td>4413</td>\n",
              "      <td>264969.0</td>\n",
              "      <td>2858.0</td>\n",
              "      <td>Gujarat, India</td>\n",
              "    </tr>\n",
              "    <tr>\n",
              "      <th>...</th>\n",
              "      <td>...</td>\n",
              "      <td>...</td>\n",
              "      <td>...</td>\n",
              "      <td>...</td>\n",
              "      <td>...</td>\n",
              "      <td>...</td>\n",
              "      <td>...</td>\n",
              "    </tr>\n",
              "    <tr>\n",
              "      <th>259</th>\n",
              "      <td>Gujarat</td>\n",
              "      <td>2021-04-30 04:21:03</td>\n",
              "      <td>553172</td>\n",
              "      <td>7010</td>\n",
              "      <td>408368.0</td>\n",
              "      <td>137794.0</td>\n",
              "      <td>Gujarat, India</td>\n",
              "    </tr>\n",
              "    <tr>\n",
              "      <th>259</th>\n",
              "      <td>Gujarat</td>\n",
              "      <td>2021-05-01 04:20:47</td>\n",
              "      <td>567777</td>\n",
              "      <td>7183</td>\n",
              "      <td>418548.0</td>\n",
              "      <td>142046.0</td>\n",
              "      <td>Gujarat, India</td>\n",
              "    </tr>\n",
              "    <tr>\n",
              "      <th>259</th>\n",
              "      <td>Gujarat</td>\n",
              "      <td>2021-05-02 04:20:48</td>\n",
              "      <td>581624</td>\n",
              "      <td>7355</td>\n",
              "      <td>429130.0</td>\n",
              "      <td>145139.0</td>\n",
              "      <td>Gujarat, India</td>\n",
              "    </tr>\n",
              "    <tr>\n",
              "      <th>259</th>\n",
              "      <td>Gujarat</td>\n",
              "      <td>2021-05-03 04:20:39</td>\n",
              "      <td>594602</td>\n",
              "      <td>7508</td>\n",
              "      <td>440276.0</td>\n",
              "      <td>146818.0</td>\n",
              "      <td>Gujarat, India</td>\n",
              "    </tr>\n",
              "    <tr>\n",
              "      <th>259</th>\n",
              "      <td>Gujarat</td>\n",
              "      <td>2021-05-04 04:20:34</td>\n",
              "      <td>594602</td>\n",
              "      <td>7508</td>\n",
              "      <td>440276.0</td>\n",
              "      <td>146818.0</td>\n",
              "      <td>Gujarat, India</td>\n",
              "    </tr>\n",
              "  </tbody>\n",
              "</table>\n",
              "<p>64 rows × 7 columns</p>\n",
              "</div>"
            ],
            "text/plain": [
              "    Province_State          Last_Update  ...    Active    Combined_Key\n",
              "259        Gujarat  2021-03-02 05:23:30  ...    2431.0  Gujarat, India\n",
              "259        Gujarat  2021-03-03 05:23:28  ...    2522.0  Gujarat, India\n",
              "259        Gujarat  2021-03-04 05:24:24  ...    2638.0  Gujarat, India\n",
              "259        Gujarat  2021-03-05 05:26:29  ...    2749.0  Gujarat, India\n",
              "259        Gujarat  2021-03-06 04:23:41  ...    2858.0  Gujarat, India\n",
              "..             ...                  ...  ...       ...             ...\n",
              "259        Gujarat  2021-04-30 04:21:03  ...  137794.0  Gujarat, India\n",
              "259        Gujarat  2021-05-01 04:20:47  ...  142046.0  Gujarat, India\n",
              "259        Gujarat  2021-05-02 04:20:48  ...  145139.0  Gujarat, India\n",
              "259        Gujarat  2021-05-03 04:20:39  ...  146818.0  Gujarat, India\n",
              "259        Gujarat  2021-05-04 04:20:34  ...  146818.0  Gujarat, India\n",
              "\n",
              "[64 rows x 7 columns]"
            ]
          },
          "metadata": {
            "tags": []
          },
          "execution_count": 57
        }
      ]
    },
    {
      "cell_type": "code",
      "metadata": {
        "colab": {
          "base_uri": "https://localhost:8080/",
          "height": 295
        },
        "id": "bt07mu-2tS2l",
        "outputId": "8d1280b2-b5e6-4307-88f7-090f37869a05"
      },
      "source": [
        "plt.plot(gujarat_data['Last_Update'], gujarat_data['Confirmed'], label = \"Confirmed Cases\", linestyle=\"-\")\n",
        "plt.plot(gujarat_data['Last_Update'], gujarat_data['Recovered'], label = \"Recovered Cases\", linestyle=\"--\")\n",
        "plt.plot(gujarat_data['Last_Update'], gujarat_data['Deaths'], label = \"Deaths\", linestyle=\"-.\")\n",
        "plt.xlabel(\"Days\")\n",
        "plt.ylabel(\"Number of Cases\")\n",
        "plt.title(\"Gujarat Covid Cases\")\n",
        "plt.legend()\n",
        "plt.show()"
      ],
      "execution_count": 58,
      "outputs": [
        {
          "output_type": "display_data",
          "data": {
            "image/png": "[encoded data removed]",
            "text/plain": [
              "<Figure size 432x288 with 1 Axes>"
            ]
          },
          "metadata": {
            "tags": [],
            "needs_background": "light"
          }
        }
      ]
    },
    {
      "cell_type": "markdown",
      "metadata": {
        "id": "X4lH5qxayNaL"
      },
      "source": [
        "# ***TASK - 5***\n",
        "\n",
        "\n",
        "Predict the number of cases in Gujarat on 4th May, 2021"
      ]
    },
    {
      "cell_type": "code",
      "metadata": {
        "colab": {
          "base_uri": "https://localhost:8080/"
        },
        "id": "lON8KkxW01h9",
        "outputId": "d427c161-1956-4ec6-b22f-70f98bfe613b"
      },
      "source": [
        "X_Guj_features = np.array(range(1,65))\n",
        "X_Guj_features = X_Guj_features.reshape(-1,1)\n",
        "Y_Guj = np.array(gujarat_data['Confirmed'])\n",
        "Y_Guj = Y_Guj.reshape(-1,1)\n",
        "X_Guj_features.size"
      ],
      "execution_count": 94,
      "outputs": [
        {
          "output_type": "execute_result",
          "data": {
            "text/plain": [
              "64"
            ]
          },
          "metadata": {
            "tags": []
          },
          "execution_count": 94
        }
      ]
    },
    {
      "cell_type": "code",
      "metadata": {
        "colab": {
          "base_uri": "https://localhost:8080/"
        },
        "id": "cnor9d5-ySk5",
        "outputId": "e1121eb8-f9a5-47b2-e915-27c75ef61e18"
      },
      "source": [
        "from sklearn.preprocessing import PolynomialFeatures\n",
        "poly = PolynomialFeatures(degree = 3)\n",
        "X_poly = poly.fit_transform(X_Guj_features)\n",
        "poly = poly.fit(X_poly, Y_Guj)\n",
        "lin2 = LinearRegression()\n",
        "lin2.fit(X_poly, Y_Guj)\n",
        "x = np.array([65]).reshape(-1, 1)\n",
        "ans2_Guj =int(lin2.predict(poly.fit_transform(x))) \n",
        "cases_Guj_4_may = ans2_Guj - Y_Guj[-1]\n",
        "print(\"Cases in Gujarat on 4th May : \",cases_Guj_4_may)\n",
        "print(ans2_Guj)"
      ],
      "execution_count": 99,
      "outputs": [
        {
          "output_type": "stream",
          "text": [
            "Cases in Gujarat on 4th May :  [40970]\n",
            "635572\n"
          ],
          "name": "stdout"
        }
      ]
    },
    {
      "cell_type": "markdown",
      "metadata": {
        "id": "3X3hl7sn5F2w"
      },
      "source": [
        "# ***TASK - 6***\n",
        "\n",
        "\n",
        "Find out the total percentage of cases in Gujarat w.r.t India on 4th May, 2021\n"
      ]
    },
    {
      "cell_type": "code",
      "metadata": {
        "colab": {
          "base_uri": "https://localhost:8080/",
          "height": 351
        },
        "id": "xuL66s7E5KQn",
        "outputId": "f8f18529-f8df-497b-d599-1d4458a15ede"
      },
      "source": [
        "perct = (cases_Guj_4_may/(cases_4_may+cases_Guj_4_may))*100\n",
        "\n",
        "plt.pie([perct.round(2),100-perct.round(2)],colors=['Blue','Magenta'],labels=['Gujarat','India'],\n",
        "        explode=(0.2,0),shadow=True,autopct='%1.1f%%')\n",
        "plt.title(\"Covid cases on 4th May\")\n",
        "plt.legend()\n",
        "plt.show()\n",
        "\n",
        "print(\"Cases all over India on 4th May : \",cases_4_may)\n",
        "print(\"Cases in Gujarat on 4th May: \",cases_Guj_4_may)"
      ],
      "execution_count": 101,
      "outputs": [
        {
          "output_type": "stream",
          "text": [
            "/usr/local/lib/python3.7/dist-packages/ipykernel_launcher.py:4: MatplotlibDeprecationWarning: Non-1D inputs to pie() are currently squeeze()d, but this behavior is deprecated since 3.1 and will be removed in 3.3; pass a 1D array instead.\n",
            "  after removing the cwd from sys.path.\n"
          ],
          "name": "stderr"
        },
        {
          "output_type": "display_data",
          "data": {
            "image/png": "[encoded data removed]",
            "text/plain": [
              "<Figure size 432x288 with 1 Axes>"
            ]
          },
          "metadata": {
            "tags": []
          }
        },
        {
          "output_type": "stream",
          "text": [
            "Cases all over India on 4th May :  [320337]\n",
            "Cases in Gujarat on 4th May:  [40970]\n"
          ],
          "name": "stdout"
        }
      ]
    },
    {
      "cell_type": "markdown",
      "metadata": {
        "id": "xKGfsjeAxSDs"
      },
      "source": [
        "# ***TASK - 7***\n",
        "\n",
        "\n",
        "Select state Bengal and analyse the confirmed cases from 01 march to 01 April and from 01 \n",
        "April to 01 May,2021"
      ]
    },
    {
      "cell_type": "code",
      "metadata": {
        "id": "d0exdGwruKMk"
      },
      "source": [
        "wb_data = combined_csv.loc[combined_csv['Province_State']=='West Bengal']\n",
        "wb_data = pd.DataFrame(wb_data)"
      ],
      "execution_count": 59,
      "outputs": []
    },
    {
      "cell_type": "code",
      "metadata": {
        "id": "47AMT2x7xftG"
      },
      "source": [
        "wb_data=wb_data.sort_values(by=['Last_Update'])"
      ],
      "execution_count": 126,
      "outputs": []
    },
    {
      "cell_type": "code",
      "metadata": {
        "id": "mYYtn90DIpRh"
      },
      "source": [
        "wb_data_mar_apr = wb_data.head(31)\n",
        "wb_data_apr_may = wb_data.iloc[31:61,:]"
      ],
      "execution_count": 127,
      "outputs": []
    },
    {
      "cell_type": "code",
      "metadata": {
        "colab": {
          "base_uri": "https://localhost:8080/",
          "height": 441
        },
        "id": "zeIdU6QlxhLb",
        "outputId": "8a85ff91-badc-45de-e839-91fb054fdb46"
      },
      "source": [
        "fig,axes=plt.subplots(figsize=(12,6),nrows=1,ncols=2)\n",
        "\n",
        "axes[0].plot(wb_data_mar_apr['Last_Update'],wb_data_mar_apr['Confirmed'],color='b')\n",
        "axes[0].set_xlabel('Date')\n",
        "axes[0].set_ylabel('No. of cases')\n",
        "axes[0].set_title('1 March - 1 April')\n",
        "\n",
        "axes[1].plot(wb_data_apr_may['Last_Update'],wb_data_apr_may['Confirmed'],color='g')\n",
        "axes[1].set_xlabel('Date')\n",
        "axes[1].set_ylabel('No. of cases')\n",
        "axes[1].set_title('1 April - 1 May')\n",
        "\n",
        "plt.tight_layout()"
      ],
      "execution_count": 128,
      "outputs": [
        {
          "output_type": "display_data",
          "data": {
            "image/png": "[encoded data removed]",
            "text/plain": [
              "<Figure size 864x432 with 2 Axes>"
            ]
          },
          "metadata": {
            "tags": [],
            "needs_background": "light"
          }
        }
      ]
    },
    {
      "cell_type": "markdown",
      "metadata": {
        "id": "2j2sCiEx7T91"
      },
      "source": [
        "# ***TASK - 8***\n",
        "\n",
        "\n",
        "Select 20 states of India as per your choice and arrange them in the order of highly infected \n",
        "states using the gradient background colour format. Plot these things in 5 different plots \n",
        "separately considering the 1st date of each months in 2021.\n"
      ]
    },
    {
      "cell_type": "code",
      "metadata": {
        "colab": {
          "base_uri": "https://localhost:8080/",
          "height": 521
        },
        "id": "eiw_j41BJK_1",
        "outputId": "f53f1e45-64ce-4ba6-8962-15adb3ecb343"
      },
      "source": [
        "import seaborn as sns\n",
        "#March Month:\n",
        "data_march = india_daily_data.loc[india_daily_data['Last_Update']=='2021-03-02 05:23:30']\n",
        "data_march.head(20)\n",
        "data_march.reset_index(inplace = True)\n",
        "Maxi=data_march.sort_values(by=['Confirmed'],ascending=False)\n",
        "Maxi\n",
        "\n",
        "fig,ax = plt.subplots(figsize=(20,7))\n",
        "ax.set_xticklabels(ax.get_xticklabels(), rotation=40, ha=\"right\")\n",
        "sns.barplot(ax=ax,x=\"Province_State\",y=\"Confirmed\",data=Maxi.head(20),dodge=False)\n",
        "ax.set(xlabel=\"States\", ylabel = \"Total Cases\",title=\"Top 20 Infected States in March\")\n",
        "plt.show()"
      ],
      "execution_count": 132,
      "outputs": [
        {
          "output_type": "display_data",
          "data": {
            "image/png": "[encoded data removed]",
            "text/plain": [
              "<Figure size 1440x504 with 1 Axes>"
            ]
          },
          "metadata": {
            "tags": [],
            "needs_background": "light"
          }
        }
      ]
    },
    {
      "cell_type": "code",
      "metadata": {
        "colab": {
          "base_uri": "https://localhost:8080/",
          "height": 521
        },
        "id": "TPZ9UhcAJ-Ey",
        "outputId": "0311b150-5288-4f20-d215-5b4b64618377"
      },
      "source": [
        "import seaborn as sns\n",
        "#April Month:\n",
        "data_april = india_daily_data.loc[india_daily_data['Last_Update']=='2021-04-01 04:27:05']\n",
        "data_april.head(20)\n",
        "data_april.reset_index(inplace = True)\n",
        "Maxi=data_april.sort_values(by=['Confirmed'],ascending=False)\n",
        "Maxi\n",
        "\n",
        "fig,ax = plt.subplots(figsize=(20,7))\n",
        "ax.set_xticklabels(ax.get_xticklabels(), rotation=40, ha=\"right\")\n",
        "sns.barplot(ax=ax,x=\"Province_State\",y=\"Confirmed\",data=Maxi.head(20),dodge=False)\n",
        "ax.set(xlabel=\"States\", ylabel = \"Total Cases\",title=\"Top 20 Infected States in April\")\n",
        "plt.show()"
      ],
      "execution_count": 133,
      "outputs": [
        {
          "output_type": "display_data",
          "data": {
            "image/png": "[encoded data removed]",
            "text/plain": [
              "<Figure size 1440x504 with 1 Axes>"
            ]
          },
          "metadata": {
            "tags": [],
            "needs_background": "light"
          }
        }
      ]
    },
    {
      "cell_type": "code",
      "metadata": {
        "colab": {
          "base_uri": "https://localhost:8080/",
          "height": 509
        },
        "id": "eG-3N8YZKNik",
        "outputId": "e865f8d4-62f1-4bad-ef3f-365dbe6fab3f"
      },
      "source": [
        "import seaborn as sns\n",
        "#May Month:\n",
        "data_may = india_daily_data.loc[india_daily_data['Last_Update']=='2021-05-01 04:20:47']\n",
        "data_may.head(20)\n",
        "data_may.reset_index(inplace = True)\n",
        "Maxi=data_may.sort_values(by=['Confirmed'],ascending=False)\n",
        "Maxi\n",
        "\n",
        "fig,ax = plt.subplots(figsize=(20,7))\n",
        "ax.set_xticklabels(ax.get_xticklabels(), rotation=40, ha=\"right\")\n",
        "sns.barplot(ax=ax,x=\"Province_State\",y=\"Confirmed\",data=Maxi.head(20),dodge=False)\n",
        "ax.set(xlabel=\"States\", ylabel = \"Total Cases\",title=\"Top 20 Infected States in April\")\n",
        "plt.show()"
      ],
      "execution_count": 134,
      "outputs": [
        {
          "output_type": "display_data",
          "data": {
            "image/png": "[encoded data removed]",
            "text/plain": [
              "<Figure size 1440x504 with 1 Axes>"
            ]
          },
          "metadata": {
            "tags": [],
            "needs_background": "light"
          }
        }
      ]
    }
  ]
}