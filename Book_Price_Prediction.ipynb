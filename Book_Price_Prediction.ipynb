{
  "nbformat": 4,
  "nbformat_minor": 0,
  "metadata": {
    "colab": {
      "name": "Book Price Prediction.ipynb",
      "provenance": [],
      "authorship_tag": "ABX9TyPBS7dqjpC5ErTCY6CJmJW6",
      "include_colab_link": true
    },
    "kernelspec": {
      "name": "python3",
      "display_name": "Python 3"
    },
    "language_info": {
      "name": "python"
    }
  },
  "cells": [
    {
      "cell_type": "markdown",
      "metadata": {
        "id": "view-in-github",
        "colab_type": "text"
      },
      "source": [
        "<a href=\"https://colab.research.google.com/github/KiranTanwani/Machine-Learning/blob/main/Book_Price_Prediction.ipynb\" target=\"_parent\"><img src=\"https://colab.research.google.com/assets/colab-badge.svg\" alt=\"Open In Colab\"/></a>"
      ]
    },
    {
      "cell_type": "markdown",
      "metadata": {
        "id": "lP2Ps7XFja2l"
      },
      "source": [
        "***BOOK PRICE PREDICTION***\n",
        "\n",
        "The so-called paradoxes of an author, to which a readertakes exception,often exist not in the author's book at all, but ratherin the reader's head. - Friedrich NietzscheBooks open doors to the unimagined worlds which areunique to every person. It is more thanjust a hobby for many. There are many among us whoprefer to spend more time with booksthan anything else. Here we explore a big databaseof books. Books of different genres, fromthousands of authors. In this challenge, participantsare required to use the dataset to build aMachine Learning model to predict the price of booksbased on a given set of features. \n",
        "\n",
        "Size oftraining set: 6237 records \n",
        "\n",
        "Size of test set: 1560records \n",
        "\n",
        "**FEATURES:** \n",
        "\n",
        "Title: The title of the book\n",
        "\n",
        "Author: The author(s) of the book. \n",
        "\n",
        "Edition: The editionof the book eg (Paperback,– Import, 26Apr 2018) \n",
        "\n",
        "Reviews: The customer reviews about thebook \n",
        "\n",
        "Ratings: The customer ratings of thebook \n",
        "\n",
        "Synopsis: The synopsis of the book \n",
        "\n",
        "Genre: Thegenre the book belongs to Book\n",
        "\n",
        "Category:The department the book is usually available at. \n",
        "\n",
        "Price:The price of the book (Target variable)"
      ]
    },
    {
      "cell_type": "code",
      "metadata": {
        "id": "brO_ckvjU8NN"
      },
      "source": [
        "import numpy as np  #helps in mathematical operations\n",
        "import matplotlib.pyplot as plt #helps in plotting of graph\n",
        "import pandas as pd #helps in making dataframes and importing csv files\n",
        "import seaborn as sns#helps in visualization"
      ],
      "execution_count": null,
      "outputs": []
    },
    {
      "cell_type": "code",
      "metadata": {
        "id": "yAZjgTW1Vf6f"
      },
      "source": [
        "from google.colab import drive #to import google drive data"
      ],
      "execution_count": null,
      "outputs": []
    },
    {
      "cell_type": "code",
      "metadata": {
        "colab": {
          "base_uri": "https://localhost:8080/"
        },
        "id": "TGnGoGuuVsBG",
        "outputId": "e4dd2d66-bae9-46c0-9bac-b5231a640c4e"
      },
      "source": [
        "drive.mount('/content/drive') # mount the drive on colab using authentication"
      ],
      "execution_count": null,
      "outputs": [
        {
          "output_type": "stream",
          "text": [
            "Mounted at /content/drive\n"
          ],
          "name": "stdout"
        }
      ]
    },
    {
      "cell_type": "code",
      "metadata": {
        "colab": {
          "base_uri": "https://localhost:8080/"
        },
        "id": "4cJP5MeZVuOJ",
        "outputId": "0c7db3b8-1f25-457f-c3e7-75efa2bbeaaf"
      },
      "source": [
        "cd /content/drive/\"My Drive/Colab Notebooks/Book Price Prediction\" # Going to the location where the data is in drive."
      ],
      "execution_count": null,
      "outputs": [
        {
          "output_type": "stream",
          "text": [
            "/content/drive/My Drive/Colab Notebooks/Book Price Prediction\n"
          ],
          "name": "stdout"
        }
      ]
    },
    {
      "cell_type": "code",
      "metadata": {
        "id": "HwLG7PZsV5Ik"
      },
      "source": [
        "#Reading the xlsx files from the drive\n",
        "train =pd.read_excel(\"Data_Train.xlsx\")\n",
        "test = pd.read_excel(\"Data_Test.xlsx\")"
      ],
      "execution_count": null,
      "outputs": []
    },
    {
      "cell_type": "code",
      "metadata": {
        "id": "lC6cJJf1WGeU"
      },
      "source": [
        "#Converting into dataframes\n",
        "train = pd.DataFrame(train)\n",
        "test = pd.DataFrame(test)"
      ],
      "execution_count": null,
      "outputs": []
    },
    {
      "cell_type": "code",
      "metadata": {
        "colab": {
          "base_uri": "https://localhost:8080/",
          "height": 1000
        },
        "id": "xEByTwTCWjlY",
        "outputId": "05fd5eaa-5530-458f-8287-766347ebff83"
      },
      "source": [
        "train"
      ],
      "execution_count": null,
      "outputs": [
        {
          "output_type": "execute_result",
          "data": {
            "text/html": [
              "<div>\n",
              "<style scoped>\n",
              "    .dataframe tbody tr th:only-of-type {\n",
              "        vertical-align: middle;\n",
              "    }\n",
              "\n",
              "    .dataframe tbody tr th {\n",
              "        vertical-align: top;\n",
              "    }\n",
              "\n",
              "    .dataframe thead th {\n",
              "        text-align: right;\n",
              "    }\n",
              "</style>\n",
              "<table border=\"1\" class=\"dataframe\">\n",
              "  <thead>\n",
              "    <tr style=\"text-align: right;\">\n",
              "      <th></th>\n",
              "      <th>Title</th>\n",
              "      <th>Author</th>\n",
              "      <th>Edition</th>\n",
              "      <th>Reviews</th>\n",
              "      <th>Ratings</th>\n",
              "      <th>Synopsis</th>\n",
              "      <th>Genre</th>\n",
              "      <th>BookCategory</th>\n",
              "      <th>Price</th>\n",
              "    </tr>\n",
              "  </thead>\n",
              "  <tbody>\n",
              "    <tr>\n",
              "      <th>0</th>\n",
              "      <td>The Prisoner's Gold (The Hunters 3)</td>\n",
              "      <td>Chris Kuzneski</td>\n",
              "      <td>Paperback,– 10 Mar 2016</td>\n",
              "      <td>4.0 out of 5 stars</td>\n",
              "      <td>8 customer reviews</td>\n",
              "      <td>THE HUNTERS return in their third brilliant no...</td>\n",
              "      <td>Action &amp; Adventure (Books)</td>\n",
              "      <td>Action &amp; Adventure</td>\n",
              "      <td>220.00</td>\n",
              "    </tr>\n",
              "    <tr>\n",
              "      <th>1</th>\n",
              "      <td>Guru Dutt: A Tragedy in Three Acts</td>\n",
              "      <td>Arun Khopkar</td>\n",
              "      <td>Paperback,– 7 Nov 2012</td>\n",
              "      <td>3.9 out of 5 stars</td>\n",
              "      <td>14 customer reviews</td>\n",
              "      <td>A layered portrait of a troubled genius for wh...</td>\n",
              "      <td>Cinema &amp; Broadcast (Books)</td>\n",
              "      <td>Biographies, Diaries &amp; True Accounts</td>\n",
              "      <td>202.93</td>\n",
              "    </tr>\n",
              "    <tr>\n",
              "      <th>2</th>\n",
              "      <td>Leviathan (Penguin Classics)</td>\n",
              "      <td>Thomas Hobbes</td>\n",
              "      <td>Paperback,– 25 Feb 1982</td>\n",
              "      <td>4.8 out of 5 stars</td>\n",
              "      <td>6 customer reviews</td>\n",
              "      <td>\"During the time men live without a common Pow...</td>\n",
              "      <td>International Relations</td>\n",
              "      <td>Humour</td>\n",
              "      <td>299.00</td>\n",
              "    </tr>\n",
              "    <tr>\n",
              "      <th>3</th>\n",
              "      <td>A Pocket Full of Rye (Miss Marple)</td>\n",
              "      <td>Agatha Christie</td>\n",
              "      <td>Paperback,– 5 Oct 2017</td>\n",
              "      <td>4.1 out of 5 stars</td>\n",
              "      <td>13 customer reviews</td>\n",
              "      <td>A handful of grain is found in the pocket of a...</td>\n",
              "      <td>Contemporary Fiction (Books)</td>\n",
              "      <td>Crime, Thriller &amp; Mystery</td>\n",
              "      <td>180.00</td>\n",
              "    </tr>\n",
              "    <tr>\n",
              "      <th>4</th>\n",
              "      <td>LIFE 70 Years of Extraordinary Photography</td>\n",
              "      <td>Editors of Life</td>\n",
              "      <td>Hardcover,– 10 Oct 2006</td>\n",
              "      <td>5.0 out of 5 stars</td>\n",
              "      <td>1 customer review</td>\n",
              "      <td>For seven decades, \"Life\" has been thrilling t...</td>\n",
              "      <td>Photography Textbooks</td>\n",
              "      <td>Arts, Film &amp; Photography</td>\n",
              "      <td>965.62</td>\n",
              "    </tr>\n",
              "    <tr>\n",
              "      <th>...</th>\n",
              "      <td>...</td>\n",
              "      <td>...</td>\n",
              "      <td>...</td>\n",
              "      <td>...</td>\n",
              "      <td>...</td>\n",
              "      <td>...</td>\n",
              "      <td>...</td>\n",
              "      <td>...</td>\n",
              "      <td>...</td>\n",
              "    </tr>\n",
              "    <tr>\n",
              "      <th>6232</th>\n",
              "      <td>Humans: A Brief History of How We F*cked It Al...</td>\n",
              "      <td>Tom Phillips</td>\n",
              "      <td>Paperback,– 8 Aug 2018</td>\n",
              "      <td>5.0 out of 5 stars</td>\n",
              "      <td>2 customer reviews</td>\n",
              "      <td>'F*cking brilliant' Sarah Knight\\n'Very funny'...</td>\n",
              "      <td>Anthropology (Books)</td>\n",
              "      <td>Humour</td>\n",
              "      <td>322.00</td>\n",
              "    </tr>\n",
              "    <tr>\n",
              "      <th>6233</th>\n",
              "      <td>The Chemist</td>\n",
              "      <td>Stephenie Meyer</td>\n",
              "      <td>Paperback,– 21 Nov 2016</td>\n",
              "      <td>3.3 out of 5 stars</td>\n",
              "      <td>9 customer reviews</td>\n",
              "      <td>In this gripping page-turner, an ex-agent on t...</td>\n",
              "      <td>Contemporary Fiction (Books)</td>\n",
              "      <td>Crime, Thriller &amp; Mystery</td>\n",
              "      <td>421.00</td>\n",
              "    </tr>\n",
              "    <tr>\n",
              "      <th>6234</th>\n",
              "      <td>The Duke And I: Number 1 in series (Bridgerton...</td>\n",
              "      <td>Julia Quinn</td>\n",
              "      <td>Paperback,– 8 Jun 2006</td>\n",
              "      <td>3.8 out of 5 stars</td>\n",
              "      <td>3 customer reviews</td>\n",
              "      <td>'The most refreshing and radiant love story yo...</td>\n",
              "      <td>Romance (Books)</td>\n",
              "      <td>Romance</td>\n",
              "      <td>399.00</td>\n",
              "    </tr>\n",
              "    <tr>\n",
              "      <th>6235</th>\n",
              "      <td>Frostfire (Kanin Chronicles)</td>\n",
              "      <td>Amanda Hocking</td>\n",
              "      <td>Paperback,– 15 Jan 2015</td>\n",
              "      <td>3.5 out of 5 stars</td>\n",
              "      <td>4 customer reviews</td>\n",
              "      <td>Frostfire by Amanda Hocking is the stunning fi...</td>\n",
              "      <td>Action &amp; Adventure (Books)</td>\n",
              "      <td>Action &amp; Adventure</td>\n",
              "      <td>319.00</td>\n",
              "    </tr>\n",
              "    <tr>\n",
              "      <th>6236</th>\n",
              "      <td>The First Order (Sam Capra)</td>\n",
              "      <td>Jeff Abbott</td>\n",
              "      <td>Paperback,– 21 Dec 2016</td>\n",
              "      <td>3.9 out of 5 stars</td>\n",
              "      <td>2 customer reviews</td>\n",
              "      <td>Six years ago, Sam Capra watched his brother, ...</td>\n",
              "      <td>Action &amp; Adventure (Books)</td>\n",
              "      <td>Action &amp; Adventure</td>\n",
              "      <td>452.00</td>\n",
              "    </tr>\n",
              "  </tbody>\n",
              "</table>\n",
              "<p>6237 rows × 9 columns</p>\n",
              "</div>"
            ],
            "text/plain": [
              "                                                  Title  ...   Price\n",
              "0                   The Prisoner's Gold (The Hunters 3)  ...  220.00\n",
              "1                    Guru Dutt: A Tragedy in Three Acts  ...  202.93\n",
              "2                          Leviathan (Penguin Classics)  ...  299.00\n",
              "3                    A Pocket Full of Rye (Miss Marple)  ...  180.00\n",
              "4            LIFE 70 Years of Extraordinary Photography  ...  965.62\n",
              "...                                                 ...  ...     ...\n",
              "6232  Humans: A Brief History of How We F*cked It Al...  ...  322.00\n",
              "6233                                        The Chemist  ...  421.00\n",
              "6234  The Duke And I: Number 1 in series (Bridgerton...  ...  399.00\n",
              "6235                       Frostfire (Kanin Chronicles)  ...  319.00\n",
              "6236                        The First Order (Sam Capra)  ...  452.00\n",
              "\n",
              "[6237 rows x 9 columns]"
            ]
          },
          "metadata": {
            "tags": []
          },
          "execution_count": 15
        }
      ]
    },
    {
      "cell_type": "markdown",
      "metadata": {
        "id": "flgciycMmhpB"
      },
      "source": [
        "# ***DATA Pre Processing***"
      ]
    },
    {
      "cell_type": "code",
      "metadata": {
        "id": "cdH_GkEOXRO0"
      },
      "source": [
        "#Appending the test and train dataset.\n",
        "dataset = train.append(test)"
      ],
      "execution_count": null,
      "outputs": []
    },
    {
      "cell_type": "code",
      "metadata": {
        "id": "0AynI7W6XWQZ"
      },
      "source": [
        "### Cleaning Edition Columns\n",
        "list1 = []\n",
        "for i in list(dataset.Edition):\n",
        "    list1.append(i.split(',')[0])"
      ],
      "execution_count": null,
      "outputs": []
    },
    {
      "cell_type": "code",
      "metadata": {
        "id": "FXEVJX95XcAH"
      },
      "source": [
        "dataset.Edition = list1"
      ],
      "execution_count": null,
      "outputs": []
    },
    {
      "cell_type": "code",
      "metadata": {
        "id": "Md_LTHHEXeaN"
      },
      "source": [
        "### Cleaning Reviews Columns\n",
        "list1 = []\n",
        "for i in dataset.Reviews:\n",
        "    list1.append(i.split(\" \")[0])"
      ],
      "execution_count": null,
      "outputs": []
    },
    {
      "cell_type": "code",
      "metadata": {
        "id": "E5h8vcPzXkHv"
      },
      "source": [
        "dataset.Reviews = list1"
      ],
      "execution_count": null,
      "outputs": []
    },
    {
      "cell_type": "code",
      "metadata": {
        "id": "gtEOLONPXpiT"
      },
      "source": [
        "### Cleaning Ratings Columns\n",
        "list1=[]\n",
        "for i in dataset.Ratings:\n",
        "    list1.append(i.split(\" \")[0])"
      ],
      "execution_count": null,
      "outputs": []
    },
    {
      "cell_type": "code",
      "metadata": {
        "id": "8_AlXOzVXu4t"
      },
      "source": [
        "dataset.Ratings = list1"
      ],
      "execution_count": null,
      "outputs": []
    },
    {
      "cell_type": "code",
      "metadata": {
        "id": "gKuVVztLWka2"
      },
      "source": [
        "#To check the type of all the features and whether or not they contain null values.\n",
        "def dataInfo(data):\n",
        "    d={\"Feature\":data.columns,\n",
        "     \"Type\":data.dtypes,\n",
        "     \"Missing_Data\":data.isnull().sum()}\n",
        "    data_info=pd.DataFrame(data=d)\n",
        "    data_info.reset_index(drop=True,inplace=True)\n",
        "    return data_info"
      ],
      "execution_count": null,
      "outputs": []
    },
    {
      "cell_type": "code",
      "metadata": {
        "colab": {
          "base_uri": "https://localhost:8080/",
          "height": 314
        },
        "id": "5qNVRducW2Rb",
        "outputId": "1f761bb0-7fce-42f8-db0f-1156ae14c1be"
      },
      "source": [
        "dataInfo(dataset)"
      ],
      "execution_count": null,
      "outputs": [
        {
          "output_type": "execute_result",
          "data": {
            "text/html": [
              "<div>\n",
              "<style scoped>\n",
              "    .dataframe tbody tr th:only-of-type {\n",
              "        vertical-align: middle;\n",
              "    }\n",
              "\n",
              "    .dataframe tbody tr th {\n",
              "        vertical-align: top;\n",
              "    }\n",
              "\n",
              "    .dataframe thead th {\n",
              "        text-align: right;\n",
              "    }\n",
              "</style>\n",
              "<table border=\"1\" class=\"dataframe\">\n",
              "  <thead>\n",
              "    <tr style=\"text-align: right;\">\n",
              "      <th></th>\n",
              "      <th>Feature</th>\n",
              "      <th>Type</th>\n",
              "      <th>Missing_Data</th>\n",
              "    </tr>\n",
              "  </thead>\n",
              "  <tbody>\n",
              "    <tr>\n",
              "      <th>0</th>\n",
              "      <td>Title</td>\n",
              "      <td>object</td>\n",
              "      <td>0</td>\n",
              "    </tr>\n",
              "    <tr>\n",
              "      <th>1</th>\n",
              "      <td>Author</td>\n",
              "      <td>object</td>\n",
              "      <td>0</td>\n",
              "    </tr>\n",
              "    <tr>\n",
              "      <th>2</th>\n",
              "      <td>Edition</td>\n",
              "      <td>object</td>\n",
              "      <td>0</td>\n",
              "    </tr>\n",
              "    <tr>\n",
              "      <th>3</th>\n",
              "      <td>Reviews</td>\n",
              "      <td>object</td>\n",
              "      <td>0</td>\n",
              "    </tr>\n",
              "    <tr>\n",
              "      <th>4</th>\n",
              "      <td>Ratings</td>\n",
              "      <td>object</td>\n",
              "      <td>0</td>\n",
              "    </tr>\n",
              "    <tr>\n",
              "      <th>5</th>\n",
              "      <td>Synopsis</td>\n",
              "      <td>object</td>\n",
              "      <td>0</td>\n",
              "    </tr>\n",
              "    <tr>\n",
              "      <th>6</th>\n",
              "      <td>Genre</td>\n",
              "      <td>object</td>\n",
              "      <td>0</td>\n",
              "    </tr>\n",
              "    <tr>\n",
              "      <th>7</th>\n",
              "      <td>BookCategory</td>\n",
              "      <td>object</td>\n",
              "      <td>0</td>\n",
              "    </tr>\n",
              "    <tr>\n",
              "      <th>8</th>\n",
              "      <td>Price</td>\n",
              "      <td>float64</td>\n",
              "      <td>1560</td>\n",
              "    </tr>\n",
              "  </tbody>\n",
              "</table>\n",
              "</div>"
            ],
            "text/plain": [
              "        Feature     Type  Missing_Data\n",
              "0         Title   object             0\n",
              "1        Author   object             0\n",
              "2       Edition   object             0\n",
              "3       Reviews   object             0\n",
              "4       Ratings   object             0\n",
              "5      Synopsis   object             0\n",
              "6         Genre   object             0\n",
              "7  BookCategory   object             0\n",
              "8         Price  float64          1560"
            ]
          },
          "metadata": {
            "tags": []
          },
          "execution_count": 46
        }
      ]
    },
    {
      "cell_type": "code",
      "metadata": {
        "id": "56kHiHRoW6B_"
      },
      "source": [
        "#Performing one hot encoding on Author, Edition,Genre and Book category using label encoder.\n",
        "from sklearn.preprocessing import LabelEncoder\n",
        "le = LabelEncoder()\n",
        "dataset.Author = le.fit_transform(dataset.Author)\n",
        "dataset.Edition = le.fit_transform(dataset.Edition)\n",
        "dataset.Genre = le.fit_transform(dataset.Genre)\n",
        "dataset.BookCategory = le.fit_transform(dataset.BookCategory)"
      ],
      "execution_count": null,
      "outputs": []
    },
    {
      "cell_type": "code",
      "metadata": {
        "id": "4_nlGdtnYJ3l"
      },
      "source": [
        "## Dropping Synopsis and Title\n",
        "dataset.drop('Synopsis',axis=1,inplace=True)\n",
        "dataset.drop('Title',axis=1,inplace=True)"
      ],
      "execution_count": null,
      "outputs": []
    },
    {
      "cell_type": "code",
      "metadata": {
        "colab": {
          "base_uri": "https://localhost:8080/",
          "height": 195
        },
        "id": "G7Kn2RzKYOQD",
        "outputId": "ade6ed92-1fff-4366-ab24-c9fcc2dddd1d"
      },
      "source": [
        "dataset.head()"
      ],
      "execution_count": null,
      "outputs": [
        {
          "output_type": "execute_result",
          "data": {
            "text/html": [
              "<div>\n",
              "<style scoped>\n",
              "    .dataframe tbody tr th:only-of-type {\n",
              "        vertical-align: middle;\n",
              "    }\n",
              "\n",
              "    .dataframe tbody tr th {\n",
              "        vertical-align: top;\n",
              "    }\n",
              "\n",
              "    .dataframe thead th {\n",
              "        text-align: right;\n",
              "    }\n",
              "</style>\n",
              "<table border=\"1\" class=\"dataframe\">\n",
              "  <thead>\n",
              "    <tr style=\"text-align: right;\">\n",
              "      <th></th>\n",
              "      <th>Author</th>\n",
              "      <th>Edition</th>\n",
              "      <th>Reviews</th>\n",
              "      <th>Ratings</th>\n",
              "      <th>Genre</th>\n",
              "      <th>BookCategory</th>\n",
              "      <th>Price</th>\n",
              "    </tr>\n",
              "  </thead>\n",
              "  <tbody>\n",
              "    <tr>\n",
              "      <th>0</th>\n",
              "      <td>748</td>\n",
              "      <td>13</td>\n",
              "      <td>4.0</td>\n",
              "      <td>8</td>\n",
              "      <td>1</td>\n",
              "      <td>0</td>\n",
              "      <td>220.00</td>\n",
              "    </tr>\n",
              "    <tr>\n",
              "      <th>1</th>\n",
              "      <td>370</td>\n",
              "      <td>13</td>\n",
              "      <td>3.9</td>\n",
              "      <td>14</td>\n",
              "      <td>78</td>\n",
              "      <td>2</td>\n",
              "      <td>202.93</td>\n",
              "    </tr>\n",
              "    <tr>\n",
              "      <th>2</th>\n",
              "      <td>4045</td>\n",
              "      <td>13</td>\n",
              "      <td>4.8</td>\n",
              "      <td>6</td>\n",
              "      <td>202</td>\n",
              "      <td>6</td>\n",
              "      <td>299.00</td>\n",
              "    </tr>\n",
              "    <tr>\n",
              "      <th>3</th>\n",
              "      <td>79</td>\n",
              "      <td>13</td>\n",
              "      <td>4.1</td>\n",
              "      <td>13</td>\n",
              "      <td>96</td>\n",
              "      <td>5</td>\n",
              "      <td>180.00</td>\n",
              "    </tr>\n",
              "    <tr>\n",
              "      <th>4</th>\n",
              "      <td>1138</td>\n",
              "      <td>8</td>\n",
              "      <td>5.0</td>\n",
              "      <td>1</td>\n",
              "      <td>264</td>\n",
              "      <td>1</td>\n",
              "      <td>965.62</td>\n",
              "    </tr>\n",
              "  </tbody>\n",
              "</table>\n",
              "</div>"
            ],
            "text/plain": [
              "   Author  Edition Reviews Ratings  Genre  BookCategory   Price\n",
              "0     748       13     4.0       8      1             0  220.00\n",
              "1     370       13     3.9      14     78             2  202.93\n",
              "2    4045       13     4.8       6    202             6  299.00\n",
              "3      79       13     4.1      13     96             5  180.00\n",
              "4    1138        8     5.0       1    264             1  965.62"
            ]
          },
          "metadata": {
            "tags": []
          },
          "execution_count": 49
        }
      ]
    },
    {
      "cell_type": "code",
      "metadata": {
        "colab": {
          "base_uri": "https://localhost:8080/"
        },
        "id": "zN7KQ3xEYSVW",
        "outputId": "13314c87-1c9c-4219-a939-5b4653484260"
      },
      "source": [
        "#Seeing the information of the features of the dataset.\n",
        "dataset.info()"
      ],
      "execution_count": null,
      "outputs": [
        {
          "output_type": "stream",
          "text": [
            "<class 'pandas.core.frame.DataFrame'>\n",
            "Int64Index: 7797 entries, 0 to 1559\n",
            "Data columns (total 7 columns):\n",
            " #   Column        Non-Null Count  Dtype  \n",
            "---  ------        --------------  -----  \n",
            " 0   Author        7797 non-null   int64  \n",
            " 1   Edition       7797 non-null   int64  \n",
            " 2   Reviews       7797 non-null   object \n",
            " 3   Ratings       7797 non-null   object \n",
            " 4   Genre         7797 non-null   int64  \n",
            " 5   BookCategory  7797 non-null   int64  \n",
            " 6   Price         6237 non-null   float64\n",
            "dtypes: float64(1), int64(4), object(2)\n",
            "memory usage: 487.3+ KB\n"
          ],
          "name": "stdout"
        }
      ]
    },
    {
      "cell_type": "code",
      "metadata": {
        "id": "Lax074yyYbGr"
      },
      "source": [
        "### Convertings Obejects dtypes to int and float\n",
        "dataset.Reviews = dataset.Reviews.astype(float)\n",
        "dataset.Ratings = dataset.Ratings.astype(str)\n",
        "dataset.Ratings = dataset.Ratings.str.replace(',','')\n",
        "dataset.Ratings = dataset.Ratings.astype(int)"
      ],
      "execution_count": null,
      "outputs": []
    },
    {
      "cell_type": "markdown",
      "metadata": {
        "id": "kET6HEVqmq1J"
      },
      "source": [
        "# ***DATA VISUALIZATION***"
      ]
    },
    {
      "cell_type": "code",
      "metadata": {
        "colab": {
          "base_uri": "https://localhost:8080/",
          "height": 595
        },
        "id": "p-DezB_SZhMJ",
        "outputId": "63e84c8b-8062-47ce-9ac5-93bbf81e418e"
      },
      "source": [
        "#Plotting the correlation graph between all the features.\n",
        "plt.figure(figsize=(10,10))\n",
        "sns.heatmap(dataset.corr(),annot=True,square=True)\n",
        "plt.title('Correlation Heatmap of Featrues',size=25)"
      ],
      "execution_count": null,
      "outputs": [
        {
          "output_type": "execute_result",
          "data": {
            "text/plain": [
              "Text(0.5, 1.0, 'Correlation Heatmap of Featrues')"
            ]
          },
          "metadata": {
            "tags": []
          },
          "execution_count": 52
        },
        {
          "output_type": "display_data",
          "data": {
            "image/png": "[encoded data removed]",
            "text/plain": [
              "<Figure size 720x720 with 2 Axes>"
            ]
          },
          "metadata": {
            "tags": [],
            "needs_background": "light"
          }
        }
      ]
    },
    {
      "cell_type": "code",
      "metadata": {
        "colab": {
          "base_uri": "https://localhost:8080/",
          "height": 350
        },
        "id": "7CtaQ0e9ZpC5",
        "outputId": "8bfa503d-5862-48da-9840-efedb78fe863"
      },
      "source": [
        "#Plotting a scatter plot of Reviews v/s Price\n",
        "sns.scatterplot(dataset.Reviews,dataset.Price)"
      ],
      "execution_count": null,
      "outputs": [
        {
          "output_type": "stream",
          "text": [
            "/usr/local/lib/python3.7/dist-packages/seaborn/_decorators.py:43: FutureWarning: Pass the following variables as keyword args: x, y. From version 0.12, the only valid positional argument will be `data`, and passing other arguments without an explicit keyword will result in an error or misinterpretation.\n",
            "  FutureWarning\n"
          ],
          "name": "stderr"
        },
        {
          "output_type": "execute_result",
          "data": {
            "text/plain": [
              "<matplotlib.axes._subplots.AxesSubplot at 0x7fd926c203d0>"
            ]
          },
          "metadata": {
            "tags": []
          },
          "execution_count": 53
        },
        {
          "output_type": "display_data",
          "data": {
            "image/png": "[encoded data removed]",
            "text/plain": [
              "<Figure size 432x288 with 1 Axes>"
            ]
          },
          "metadata": {
            "tags": [],
            "needs_background": "light"
          }
        }
      ]
    },
    {
      "cell_type": "code",
      "metadata": {
        "colab": {
          "base_uri": "https://localhost:8080/",
          "height": 350
        },
        "id": "6Kk-eEfLaNWB",
        "outputId": "72b2af72-fcf9-4c1e-b067-b8be1a864a79"
      },
      "source": [
        "#Plotting a scatter plot of Ratings v/s Price\n",
        "sns.scatterplot(dataset.Ratings,dataset.Price)"
      ],
      "execution_count": null,
      "outputs": [
        {
          "output_type": "stream",
          "text": [
            "/usr/local/lib/python3.7/dist-packages/seaborn/_decorators.py:43: FutureWarning: Pass the following variables as keyword args: x, y. From version 0.12, the only valid positional argument will be `data`, and passing other arguments without an explicit keyword will result in an error or misinterpretation.\n",
            "  FutureWarning\n"
          ],
          "name": "stderr"
        },
        {
          "output_type": "execute_result",
          "data": {
            "text/plain": [
              "<matplotlib.axes._subplots.AxesSubplot at 0x7fd9275a6250>"
            ]
          },
          "metadata": {
            "tags": []
          },
          "execution_count": 54
        },
        {
          "output_type": "display_data",
          "data": {
            "image/png": "[encoded data removed]",
            "text/plain": [
              "<Figure size 432x288 with 1 Axes>"
            ]
          },
          "metadata": {
            "tags": [],
            "needs_background": "light"
          }
        }
      ]
    },
    {
      "cell_type": "code",
      "metadata": {
        "colab": {
          "base_uri": "https://localhost:8080/",
          "height": 370
        },
        "id": "-HOhqH7DaSHZ",
        "outputId": "688cbcf0-3988-49c4-8b24-1a810ff4a3fe"
      },
      "source": [
        "#Plotting a bar grpah of Reviews v/s Price\n",
        "plt.title('Price Comparision with Reviews',size=20)\n",
        "sns.barplot(round(dataset.Reviews),dataset.Price)"
      ],
      "execution_count": null,
      "outputs": [
        {
          "output_type": "stream",
          "text": [
            "/usr/local/lib/python3.7/dist-packages/seaborn/_decorators.py:43: FutureWarning: Pass the following variables as keyword args: x, y. From version 0.12, the only valid positional argument will be `data`, and passing other arguments without an explicit keyword will result in an error or misinterpretation.\n",
            "  FutureWarning\n"
          ],
          "name": "stderr"
        },
        {
          "output_type": "execute_result",
          "data": {
            "text/plain": [
              "<matplotlib.axes._subplots.AxesSubplot at 0x7fd926c3fb50>"
            ]
          },
          "metadata": {
            "tags": []
          },
          "execution_count": 55
        },
        {
          "output_type": "display_data",
          "data": {
            "image/png": "[encoded data removed]",
            "text/plain": [
              "<Figure size 432x288 with 1 Axes>"
            ]
          },
          "metadata": {
            "tags": [],
            "needs_background": "light"
          }
        }
      ]
    },
    {
      "cell_type": "code",
      "metadata": {
        "colab": {
          "base_uri": "https://localhost:8080/",
          "height": 366
        },
        "id": "QJ9reORzaW7a",
        "outputId": "5f73aa90-e716-491f-940e-51450acb9af5"
      },
      "source": [
        "#Plotting the bar graph of 10 most rated books\n",
        "plt.title('Price of 10 most rated Books')\n",
        "sns.barplot(dataset.Ratings.sort_values(ascending=False).head(11),dataset.Price)"
      ],
      "execution_count": null,
      "outputs": [
        {
          "output_type": "stream",
          "text": [
            "/usr/local/lib/python3.7/dist-packages/seaborn/_decorators.py:43: FutureWarning: Pass the following variables as keyword args: x, y. From version 0.12, the only valid positional argument will be `data`, and passing other arguments without an explicit keyword will result in an error or misinterpretation.\n",
            "  FutureWarning\n"
          ],
          "name": "stderr"
        },
        {
          "output_type": "execute_result",
          "data": {
            "text/plain": [
              "<matplotlib.axes._subplots.AxesSubplot at 0x7fd926c21310>"
            ]
          },
          "metadata": {
            "tags": []
          },
          "execution_count": 56
        },
        {
          "output_type": "display_data",
          "data": {
            "image/png": "[encoded data removed]",
            "text/plain": [
              "<Figure size 432x288 with 1 Axes>"
            ]
          },
          "metadata": {
            "tags": [],
            "needs_background": "light"
          }
        }
      ]
    },
    {
      "cell_type": "code",
      "metadata": {
        "colab": {
          "base_uri": "https://localhost:8080/",
          "height": 303
        },
        "id": "UW33QgCdafLJ",
        "outputId": "ab77d281-0ec4-4653-f44d-6ab086d667fd"
      },
      "source": [
        "#Plotting a bar graph for Price v/s Book Category\n",
        "plt.title('Price Comparision with Book Category',size=20)\n",
        "plt.barh(train.BookCategory,train.Price)"
      ],
      "execution_count": null,
      "outputs": [
        {
          "output_type": "execute_result",
          "data": {
            "text/plain": [
              "<BarContainer object of 6237 artists>"
            ]
          },
          "metadata": {
            "tags": []
          },
          "execution_count": 57
        },
        {
          "output_type": "display_data",
          "data": {
            "image/png": "[encoded data removed]",
            "text/plain": [
              "<Figure size 432x288 with 1 Axes>"
            ]
          },
          "metadata": {
            "tags": [],
            "needs_background": "light"
          }
        }
      ]
    },
    {
      "cell_type": "markdown",
      "metadata": {
        "id": "iOzh0Yk7mwyJ"
      },
      "source": [
        "# ***ALGORITHM MODELLING***"
      ]
    },
    {
      "cell_type": "code",
      "metadata": {
        "id": "v_ma_szBYliT"
      },
      "source": [
        "#importing all the necessary libraries\n",
        "from sklearn.model_selection import train_test_split\n",
        "from sklearn.metrics import mean_squared_error\n",
        "from sklearn.metrics import r2_score\n",
        "import numpy as np\n",
        "from sklearn.metrics import mean_absolute_error\n",
        "import statsmodels.api as sm\n",
        "from sklearn.metrics import mean_squared_log_error"
      ],
      "execution_count": null,
      "outputs": []
    },
    {
      "cell_type": "code",
      "metadata": {
        "id": "rlNgQvePdBN9"
      },
      "source": [
        "import pandas as pd\n",
        "\n",
        "#Claeaning the data - removing the null values\n",
        "def clean_dataset(df):\n",
        "    assert isinstance(df, pd.DataFrame), \"df needs to be a pd.DataFrame\"\n",
        "    df.dropna(inplace=True)\n",
        "    indices_to_keep = ~df.isin([np.nan, np.inf, -np.inf]).any(1)\n",
        "    return df[indices_to_keep].astype(np.float64)"
      ],
      "execution_count": null,
      "outputs": []
    },
    {
      "cell_type": "code",
      "metadata": {
        "id": "yg9DbuCFdCJQ"
      },
      "source": [
        "dataset = clean_dataset(dataset)"
      ],
      "execution_count": null,
      "outputs": []
    },
    {
      "cell_type": "code",
      "metadata": {
        "id": "SOGy0TbTa0jn"
      },
      "source": [
        "X = dataset.drop('Price',axis=1) #Making the feature matrix\n",
        "y = dataset[['Price']]#making the target variable"
      ],
      "execution_count": null,
      "outputs": []
    },
    {
      "cell_type": "code",
      "metadata": {
        "id": "fef-a4SEZTp5"
      },
      "source": [
        "#Dividing the dataset into training dataset and testing dataset\n",
        "X_train,X_test,Y_train,Y_test = train_test_split(X,y,test_size=0.30,random_state=42)"
      ],
      "execution_count": null,
      "outputs": []
    },
    {
      "cell_type": "code",
      "metadata": {
        "id": "E9MVNPbIa7VN"
      },
      "source": [
        "#Creating the model for random forest\n",
        "from sklearn.ensemble import RandomForestRegressor\n",
        "rf = RandomForestRegressor(random_state = 101,n_estimators = 50)"
      ],
      "execution_count": null,
      "outputs": []
    },
    {
      "cell_type": "code",
      "metadata": {
        "colab": {
          "base_uri": "https://localhost:8080/"
        },
        "id": "VSRon4OXbCoa",
        "outputId": "7b1aafad-012e-40ab-afe8-ef18449f7ca3"
      },
      "source": [
        "rf.fit(X_train,Y_train)#Fitting the data into the model"
      ],
      "execution_count": null,
      "outputs": [
        {
          "output_type": "stream",
          "text": [
            "/usr/local/lib/python3.7/dist-packages/ipykernel_launcher.py:1: DataConversionWarning: A column-vector y was passed when a 1d array was expected. Please change the shape of y to (n_samples,), for example using ravel().\n",
            "  \"\"\"Entry point for launching an IPython kernel.\n"
          ],
          "name": "stderr"
        },
        {
          "output_type": "execute_result",
          "data": {
            "text/plain": [
              "RandomForestRegressor(bootstrap=True, ccp_alpha=0.0, criterion='mse',\n",
              "                      max_depth=None, max_features='auto', max_leaf_nodes=None,\n",
              "                      max_samples=None, min_impurity_decrease=0.0,\n",
              "                      min_impurity_split=None, min_samples_leaf=1,\n",
              "                      min_samples_split=2, min_weight_fraction_leaf=0.0,\n",
              "                      n_estimators=50, n_jobs=None, oob_score=False,\n",
              "                      random_state=101, verbose=0, warm_start=False)"
            ]
          },
          "metadata": {
            "tags": []
          },
          "execution_count": 73
        }
      ]
    },
    {
      "cell_type": "code",
      "metadata": {
        "id": "0RFsB-hkbEiw"
      },
      "source": [
        "y_pred_rf = rf.predict(X_test)#Predicting the values using the random forest model."
      ],
      "execution_count": null,
      "outputs": []
    },
    {
      "cell_type": "code",
      "metadata": {
        "colab": {
          "base_uri": "https://localhost:8080/"
        },
        "id": "Ge1JR-m6dMH5",
        "outputId": "c04910ac-7d31-4d50-e27f-686a911fe705"
      },
      "source": [
        "print('RMSLE for random forest regressor:',(np.sqrt(mean_squared_log_error( abs(Y_test),abs(y_pred_rf)))))#Calculating the RMSLE value for the model"
      ],
      "execution_count": null,
      "outputs": [
        {
          "output_type": "stream",
          "text": [
            "RMSLE for random forest regressor: 0.6811229532815147\n"
          ],
          "name": "stdout"
        }
      ]
    },
    {
      "cell_type": "code",
      "metadata": {
        "id": "bLQ0uEQodOPh"
      },
      "source": [
        "#importing the linear regression model from sklearn\n",
        "from sklearn.linear_model import LinearRegression"
      ],
      "execution_count": null,
      "outputs": []
    },
    {
      "cell_type": "code",
      "metadata": {
        "id": "c3f19xsodZY2"
      },
      "source": [
        "#creating the Linear regression model\n",
        "linear_reg_model = LinearRegression()"
      ],
      "execution_count": null,
      "outputs": []
    },
    {
      "cell_type": "code",
      "metadata": {
        "colab": {
          "base_uri": "https://localhost:8080/"
        },
        "id": "voMsRN16dcBL",
        "outputId": "0a72df8c-bd87-4049-9112-0b97cafeeb74"
      },
      "source": [
        "#fit the model with the given training dataset\n",
        "linear_reg_model.fit(X_train,Y_train)"
      ],
      "execution_count": null,
      "outputs": [
        {
          "output_type": "execute_result",
          "data": {
            "text/plain": [
              "LinearRegression(copy_X=True, fit_intercept=True, n_jobs=None, normalize=False)"
            ]
          },
          "metadata": {
            "tags": []
          },
          "execution_count": 86
        }
      ]
    },
    {
      "cell_type": "code",
      "metadata": {
        "id": "vAejP-fNdh9h"
      },
      "source": [
        "y_pred_lr = linear_reg_model.predict(X_test)#Predicting the values using the linear regression model."
      ],
      "execution_count": null,
      "outputs": []
    },
    {
      "cell_type": "code",
      "metadata": {
        "colab": {
          "base_uri": "https://localhost:8080/"
        },
        "id": "MKy6wjC0eb6Q",
        "outputId": "b233c4b2-648b-451f-f2dd-0b9bc85d1278"
      },
      "source": [
        "print('RMSLE for linear regression model:',(np.sqrt(mean_squared_log_error( abs(Y_test),abs(y_pred_lr)))))#Calculating the RMSLE value for the model"
      ],
      "execution_count": null,
      "outputs": [
        {
          "output_type": "stream",
          "text": [
            "RMSLE for linear regression model: 0.7912351504412807\n"
          ],
          "name": "stdout"
        }
      ]
    },
    {
      "cell_type": "markdown",
      "metadata": {
        "id": "cF5vtIIEls78"
      },
      "source": [
        "As we can see that the value of RSMLE is better for linear regression as compared to Random forest. SO we can say that Linear regression model works better."
      ]
    }
  ]
}